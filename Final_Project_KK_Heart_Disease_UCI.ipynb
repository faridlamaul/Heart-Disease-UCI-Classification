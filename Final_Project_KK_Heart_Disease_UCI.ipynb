{
  "nbformat": 4,
  "nbformat_minor": 0,
  "metadata": {
    "colab": {
      "name": "Final_Project_KK_Heart_Disease_UCI",
      "provenance": []
    },
    "kernelspec": {
      "name": "python3",
      "display_name": "Python 3"
    },
    "language_info": {
      "name": "python"
    }
  },
  "cells": [
    {
      "cell_type": "code",
      "execution_count": null,
      "metadata": {
        "id": "_fOouLlre5jf"
      },
      "outputs": [],
      "source": [
        "# Read file csv\n",
        "import numpy as np \n",
        "import pandas as pd\n",
        "\n",
        "data = pd.read_csv('heart_disease.csv')"
      ]
    },
    {
      "cell_type": "code",
      "source": [
        "# Show data 5 teratas \n",
        "data.head()"
      ],
      "metadata": {
        "colab": {
          "base_uri": "https://localhost:8080/",
          "height": 206
        },
        "id": "vQeU1YAjfNTO",
        "outputId": "a2e450c4-d427-46e3-81cd-4d24dcb8763a"
      },
      "execution_count": null,
      "outputs": [
        {
          "output_type": "execute_result",
          "data": {
            "text/html": [
              "<div>\n",
              "<style scoped>\n",
              "    .dataframe tbody tr th:only-of-type {\n",
              "        vertical-align: middle;\n",
              "    }\n",
              "\n",
              "    .dataframe tbody tr th {\n",
              "        vertical-align: top;\n",
              "    }\n",
              "\n",
              "    .dataframe thead th {\n",
              "        text-align: right;\n",
              "    }\n",
              "</style>\n",
              "<table border=\"1\" class=\"dataframe\">\n",
              "  <thead>\n",
              "    <tr style=\"text-align: right;\">\n",
              "      <th></th>\n",
              "      <th>age</th>\n",
              "      <th>sex</th>\n",
              "      <th>cp</th>\n",
              "      <th>trestbps</th>\n",
              "      <th>chol</th>\n",
              "      <th>fbs</th>\n",
              "      <th>restecg</th>\n",
              "      <th>thalach</th>\n",
              "      <th>exang</th>\n",
              "      <th>oldpeak</th>\n",
              "      <th>slope</th>\n",
              "      <th>ca</th>\n",
              "      <th>thal</th>\n",
              "      <th>target</th>\n",
              "    </tr>\n",
              "  </thead>\n",
              "  <tbody>\n",
              "    <tr>\n",
              "      <th>0</th>\n",
              "      <td>63</td>\n",
              "      <td>M</td>\n",
              "      <td>3</td>\n",
              "      <td>145</td>\n",
              "      <td>233</td>\n",
              "      <td>True</td>\n",
              "      <td>0</td>\n",
              "      <td>150</td>\n",
              "      <td>no</td>\n",
              "      <td>2.3</td>\n",
              "      <td>0</td>\n",
              "      <td>0</td>\n",
              "      <td>1</td>\n",
              "      <td>1</td>\n",
              "    </tr>\n",
              "    <tr>\n",
              "      <th>1</th>\n",
              "      <td>37</td>\n",
              "      <td>M</td>\n",
              "      <td>2</td>\n",
              "      <td>130</td>\n",
              "      <td>250</td>\n",
              "      <td>False</td>\n",
              "      <td>1</td>\n",
              "      <td>187</td>\n",
              "      <td>no</td>\n",
              "      <td>3.5</td>\n",
              "      <td>0</td>\n",
              "      <td>0</td>\n",
              "      <td>2</td>\n",
              "      <td>1</td>\n",
              "    </tr>\n",
              "    <tr>\n",
              "      <th>2</th>\n",
              "      <td>41</td>\n",
              "      <td>F</td>\n",
              "      <td>1</td>\n",
              "      <td>130</td>\n",
              "      <td>204</td>\n",
              "      <td>False</td>\n",
              "      <td>0</td>\n",
              "      <td>172</td>\n",
              "      <td>no</td>\n",
              "      <td>1.4</td>\n",
              "      <td>2</td>\n",
              "      <td>0</td>\n",
              "      <td>2</td>\n",
              "      <td>1</td>\n",
              "    </tr>\n",
              "    <tr>\n",
              "      <th>3</th>\n",
              "      <td>56</td>\n",
              "      <td>M</td>\n",
              "      <td>1</td>\n",
              "      <td>120</td>\n",
              "      <td>236</td>\n",
              "      <td>False</td>\n",
              "      <td>1</td>\n",
              "      <td>178</td>\n",
              "      <td>no</td>\n",
              "      <td>0.8</td>\n",
              "      <td>2</td>\n",
              "      <td>0</td>\n",
              "      <td>2</td>\n",
              "      <td>1</td>\n",
              "    </tr>\n",
              "    <tr>\n",
              "      <th>4</th>\n",
              "      <td>57</td>\n",
              "      <td>F</td>\n",
              "      <td>0</td>\n",
              "      <td>120</td>\n",
              "      <td>354</td>\n",
              "      <td>False</td>\n",
              "      <td>1</td>\n",
              "      <td>163</td>\n",
              "      <td>yes</td>\n",
              "      <td>0.6</td>\n",
              "      <td>2</td>\n",
              "      <td>0</td>\n",
              "      <td>2</td>\n",
              "      <td>1</td>\n",
              "    </tr>\n",
              "  </tbody>\n",
              "</table>\n",
              "</div>"
            ],
            "text/plain": [
              "   age sex  cp  trestbps  chol    fbs  ...  exang  oldpeak slope  ca  thal  target\n",
              "0   63   M   3       145   233   True  ...     no      2.3     0   0     1       1\n",
              "1   37   M   2       130   250  False  ...     no      3.5     0   0     2       1\n",
              "2   41   F   1       130   204  False  ...     no      1.4     2   0     2       1\n",
              "3   56   M   1       120   236  False  ...     no      0.8     2   0     2       1\n",
              "4   57   F   0       120   354  False  ...    yes      0.6     2   0     2       1\n",
              "\n",
              "[5 rows x 14 columns]"
            ]
          },
          "metadata": {},
          "execution_count": 41
        }
      ]
    },
    {
      "cell_type": "code",
      "source": [
        "# Keterangan info dari data\n",
        "data.info()"
      ],
      "metadata": {
        "colab": {
          "base_uri": "https://localhost:8080/"
        },
        "id": "BsfpL_qzfZOt",
        "outputId": "0f4e32e8-828f-415c-d727-605e73cf8304"
      },
      "execution_count": null,
      "outputs": [
        {
          "output_type": "stream",
          "name": "stdout",
          "text": [
            "<class 'pandas.core.frame.DataFrame'>\n",
            "RangeIndex: 303 entries, 0 to 302\n",
            "Data columns (total 14 columns):\n",
            " #   Column    Non-Null Count  Dtype  \n",
            "---  ------    --------------  -----  \n",
            " 0   age       303 non-null    int64  \n",
            " 1   sex       303 non-null    object \n",
            " 2   cp        303 non-null    int64  \n",
            " 3   trestbps  303 non-null    int64  \n",
            " 4   chol      303 non-null    int64  \n",
            " 5   fbs       303 non-null    bool   \n",
            " 6   restecg   303 non-null    int64  \n",
            " 7   thalach   303 non-null    int64  \n",
            " 8   exang     303 non-null    object \n",
            " 9   oldpeak   303 non-null    float64\n",
            " 10  slope     303 non-null    int64  \n",
            " 11  ca        303 non-null    int64  \n",
            " 12  thal      303 non-null    int64  \n",
            " 13  target    303 non-null    int64  \n",
            "dtypes: bool(1), float64(1), int64(10), object(2)\n",
            "memory usage: 31.2+ KB\n"
          ]
        }
      ]
    },
    {
      "cell_type": "code",
      "source": [
        "# Preprocessing data dengan LabelEncoder \n",
        "from sklearn.preprocessing import LabelEncoder\n",
        "\n",
        "labelencoder = LabelEncoder()\n",
        "data['sex'] = labelencoder.fit_transform(data['sex'])\n",
        "data['fbs'] = labelencoder.fit_transform(data['fbs'])\n",
        "data['exang'] = labelencoder.fit_transform(data['exang'])"
      ],
      "metadata": {
        "id": "nAi6Srmpfbtr"
      },
      "execution_count": null,
      "outputs": []
    },
    {
      "cell_type": "code",
      "source": [
        "# Show data 5 teratas \n",
        "data.head()"
      ],
      "metadata": {
        "colab": {
          "base_uri": "https://localhost:8080/",
          "height": 206
        },
        "id": "hG2JQZ6lf3Nk",
        "outputId": "6896945c-048f-40fc-90a8-7eda226499c9"
      },
      "execution_count": null,
      "outputs": [
        {
          "output_type": "execute_result",
          "data": {
            "text/html": [
              "<div>\n",
              "<style scoped>\n",
              "    .dataframe tbody tr th:only-of-type {\n",
              "        vertical-align: middle;\n",
              "    }\n",
              "\n",
              "    .dataframe tbody tr th {\n",
              "        vertical-align: top;\n",
              "    }\n",
              "\n",
              "    .dataframe thead th {\n",
              "        text-align: right;\n",
              "    }\n",
              "</style>\n",
              "<table border=\"1\" class=\"dataframe\">\n",
              "  <thead>\n",
              "    <tr style=\"text-align: right;\">\n",
              "      <th></th>\n",
              "      <th>age</th>\n",
              "      <th>sex</th>\n",
              "      <th>cp</th>\n",
              "      <th>trestbps</th>\n",
              "      <th>chol</th>\n",
              "      <th>fbs</th>\n",
              "      <th>restecg</th>\n",
              "      <th>thalach</th>\n",
              "      <th>exang</th>\n",
              "      <th>oldpeak</th>\n",
              "      <th>slope</th>\n",
              "      <th>ca</th>\n",
              "      <th>thal</th>\n",
              "      <th>target</th>\n",
              "    </tr>\n",
              "  </thead>\n",
              "  <tbody>\n",
              "    <tr>\n",
              "      <th>0</th>\n",
              "      <td>63</td>\n",
              "      <td>1</td>\n",
              "      <td>3</td>\n",
              "      <td>145</td>\n",
              "      <td>233</td>\n",
              "      <td>1</td>\n",
              "      <td>0</td>\n",
              "      <td>150</td>\n",
              "      <td>0</td>\n",
              "      <td>2.3</td>\n",
              "      <td>0</td>\n",
              "      <td>0</td>\n",
              "      <td>1</td>\n",
              "      <td>1</td>\n",
              "    </tr>\n",
              "    <tr>\n",
              "      <th>1</th>\n",
              "      <td>37</td>\n",
              "      <td>1</td>\n",
              "      <td>2</td>\n",
              "      <td>130</td>\n",
              "      <td>250</td>\n",
              "      <td>0</td>\n",
              "      <td>1</td>\n",
              "      <td>187</td>\n",
              "      <td>0</td>\n",
              "      <td>3.5</td>\n",
              "      <td>0</td>\n",
              "      <td>0</td>\n",
              "      <td>2</td>\n",
              "      <td>1</td>\n",
              "    </tr>\n",
              "    <tr>\n",
              "      <th>2</th>\n",
              "      <td>41</td>\n",
              "      <td>0</td>\n",
              "      <td>1</td>\n",
              "      <td>130</td>\n",
              "      <td>204</td>\n",
              "      <td>0</td>\n",
              "      <td>0</td>\n",
              "      <td>172</td>\n",
              "      <td>0</td>\n",
              "      <td>1.4</td>\n",
              "      <td>2</td>\n",
              "      <td>0</td>\n",
              "      <td>2</td>\n",
              "      <td>1</td>\n",
              "    </tr>\n",
              "    <tr>\n",
              "      <th>3</th>\n",
              "      <td>56</td>\n",
              "      <td>1</td>\n",
              "      <td>1</td>\n",
              "      <td>120</td>\n",
              "      <td>236</td>\n",
              "      <td>0</td>\n",
              "      <td>1</td>\n",
              "      <td>178</td>\n",
              "      <td>0</td>\n",
              "      <td>0.8</td>\n",
              "      <td>2</td>\n",
              "      <td>0</td>\n",
              "      <td>2</td>\n",
              "      <td>1</td>\n",
              "    </tr>\n",
              "    <tr>\n",
              "      <th>4</th>\n",
              "      <td>57</td>\n",
              "      <td>0</td>\n",
              "      <td>0</td>\n",
              "      <td>120</td>\n",
              "      <td>354</td>\n",
              "      <td>0</td>\n",
              "      <td>1</td>\n",
              "      <td>163</td>\n",
              "      <td>1</td>\n",
              "      <td>0.6</td>\n",
              "      <td>2</td>\n",
              "      <td>0</td>\n",
              "      <td>2</td>\n",
              "      <td>1</td>\n",
              "    </tr>\n",
              "  </tbody>\n",
              "</table>\n",
              "</div>"
            ],
            "text/plain": [
              "   age  sex  cp  trestbps  chol  fbs  ...  exang  oldpeak  slope  ca  thal  target\n",
              "0   63    1   3       145   233    1  ...      0      2.3      0   0     1       1\n",
              "1   37    1   2       130   250    0  ...      0      3.5      0   0     2       1\n",
              "2   41    0   1       130   204    0  ...      0      1.4      2   0     2       1\n",
              "3   56    1   1       120   236    0  ...      0      0.8      2   0     2       1\n",
              "4   57    0   0       120   354    0  ...      1      0.6      2   0     2       1\n",
              "\n",
              "[5 rows x 14 columns]"
            ]
          },
          "metadata": {},
          "execution_count": 44
        }
      ]
    },
    {
      "cell_type": "code",
      "source": [
        "# Keterangan info dari data \n",
        "data.info()"
      ],
      "metadata": {
        "colab": {
          "base_uri": "https://localhost:8080/"
        },
        "id": "pPfxmMWtf5UP",
        "outputId": "d6ee6a09-9da9-42e2-a710-180062378868"
      },
      "execution_count": null,
      "outputs": [
        {
          "output_type": "stream",
          "name": "stdout",
          "text": [
            "<class 'pandas.core.frame.DataFrame'>\n",
            "RangeIndex: 303 entries, 0 to 302\n",
            "Data columns (total 14 columns):\n",
            " #   Column    Non-Null Count  Dtype  \n",
            "---  ------    --------------  -----  \n",
            " 0   age       303 non-null    int64  \n",
            " 1   sex       303 non-null    int64  \n",
            " 2   cp        303 non-null    int64  \n",
            " 3   trestbps  303 non-null    int64  \n",
            " 4   chol      303 non-null    int64  \n",
            " 5   fbs       303 non-null    int64  \n",
            " 6   restecg   303 non-null    int64  \n",
            " 7   thalach   303 non-null    int64  \n",
            " 8   exang     303 non-null    int64  \n",
            " 9   oldpeak   303 non-null    float64\n",
            " 10  slope     303 non-null    int64  \n",
            " 11  ca        303 non-null    int64  \n",
            " 12  thal      303 non-null    int64  \n",
            " 13  target    303 non-null    int64  \n",
            "dtypes: float64(1), int64(13)\n",
            "memory usage: 33.3 KB\n"
          ]
        }
      ]
    },
    {
      "cell_type": "code",
      "source": [
        "# Apakah ada data yang null?\n",
        "data.isnull().sum()"
      ],
      "metadata": {
        "colab": {
          "base_uri": "https://localhost:8080/"
        },
        "id": "MqP9WpzAf8ss",
        "outputId": "dfc33754-98fe-4a03-f0b8-2d712479dd05"
      },
      "execution_count": null,
      "outputs": [
        {
          "output_type": "execute_result",
          "data": {
            "text/plain": [
              "age         0\n",
              "sex         0\n",
              "cp          0\n",
              "trestbps    0\n",
              "chol        0\n",
              "fbs         0\n",
              "restecg     0\n",
              "thalach     0\n",
              "exang       0\n",
              "oldpeak     0\n",
              "slope       0\n",
              "ca          0\n",
              "thal        0\n",
              "target      0\n",
              "dtype: int64"
            ]
          },
          "metadata": {},
          "execution_count": 46
        }
      ]
    },
    {
      "cell_type": "code",
      "source": [
        "# Eksplorasi data\n",
        "data.target.value_counts()"
      ],
      "metadata": {
        "colab": {
          "base_uri": "https://localhost:8080/"
        },
        "id": "0QqupnzmgDFr",
        "outputId": "f0168b48-8ddf-4b9f-8ed4-8f9a4041bb55"
      },
      "execution_count": null,
      "outputs": [
        {
          "output_type": "execute_result",
          "data": {
            "text/plain": [
              "1    165\n",
              "0    138\n",
              "Name: target, dtype: int64"
            ]
          },
          "metadata": {},
          "execution_count": 47
        }
      ]
    },
    {
      "cell_type": "code",
      "source": [
        "# Visualisasi data jumlah target (1 = more chance or 0 = less chance)\n",
        "import matplotlib.pyplot as plt\n",
        "import seaborn as sns\n",
        "\n",
        "sns.countplot(x=\"target\", data=data, palette=\"bwr\")\n",
        "plt.show()"
      ],
      "metadata": {
        "colab": {
          "base_uri": "https://localhost:8080/",
          "height": 279
        },
        "id": "p9hU5gVDg3-2",
        "outputId": "c0d1f710-daea-43c6-d0b3-282f075c3dd5"
      },
      "execution_count": null,
      "outputs": [
        {
          "output_type": "display_data",
          "data": {
            "image/png": "[encoded data removed]",
            "text/plain": [
              "<Figure size 432x288 with 1 Axes>"
            ]
          },
          "metadata": {}
        }
      ]
    },
    {
      "cell_type": "code",
      "source": [
        "# Persentasi target (1 = more chance or 0 = less chance)\n",
        "moreChance = len(data[data.target == 1])\n",
        "lessChance = len(data[data.target == 0])\n",
        "\n",
        "print(\"Persentase pasien menderita Heart Disease : {:.2f}%\".format((moreChance/len(data.target))*100))\n",
        "print(\"Persentase pasien tidak menderita Heart Disease : {:.2f}%\".format((lessChance/len(data.target))*100))"
      ],
      "metadata": {
        "colab": {
          "base_uri": "https://localhost:8080/"
        },
        "id": "2NmiS0HbhPTY",
        "outputId": "089a0b0b-d4e7-4ab8-aa3e-7616ffcf9663"
      },
      "execution_count": null,
      "outputs": [
        {
          "output_type": "stream",
          "name": "stdout",
          "text": [
            "Persentase pasien menderita Heart Disease : 54.46%\n",
            "Persentase pasien tidak menderita Heart Disease : 45.54%\n"
          ]
        }
      ]
    },
    {
      "cell_type": "code",
      "source": [
        "# Grouping data pada colomn target dengan mean \n",
        "data.groupby('target').mean()"
      ],
      "metadata": {
        "colab": {
          "base_uri": "https://localhost:8080/",
          "height": 163
        },
        "id": "x7n05cffiDFg",
        "outputId": "5ea598dc-6871-4724-99bd-5205e559f9ce"
      },
      "execution_count": null,
      "outputs": [
        {
          "output_type": "execute_result",
          "data": {
            "text/html": [
              "<div>\n",
              "<style scoped>\n",
              "    .dataframe tbody tr th:only-of-type {\n",
              "        vertical-align: middle;\n",
              "    }\n",
              "\n",
              "    .dataframe tbody tr th {\n",
              "        vertical-align: top;\n",
              "    }\n",
              "\n",
              "    .dataframe thead th {\n",
              "        text-align: right;\n",
              "    }\n",
              "</style>\n",
              "<table border=\"1\" class=\"dataframe\">\n",
              "  <thead>\n",
              "    <tr style=\"text-align: right;\">\n",
              "      <th></th>\n",
              "      <th>age</th>\n",
              "      <th>sex</th>\n",
              "      <th>cp</th>\n",
              "      <th>trestbps</th>\n",
              "      <th>chol</th>\n",
              "      <th>fbs</th>\n",
              "      <th>restecg</th>\n",
              "      <th>thalach</th>\n",
              "      <th>exang</th>\n",
              "      <th>oldpeak</th>\n",
              "      <th>slope</th>\n",
              "      <th>ca</th>\n",
              "      <th>thal</th>\n",
              "    </tr>\n",
              "    <tr>\n",
              "      <th>target</th>\n",
              "      <th></th>\n",
              "      <th></th>\n",
              "      <th></th>\n",
              "      <th></th>\n",
              "      <th></th>\n",
              "      <th></th>\n",
              "      <th></th>\n",
              "      <th></th>\n",
              "      <th></th>\n",
              "      <th></th>\n",
              "      <th></th>\n",
              "      <th></th>\n",
              "      <th></th>\n",
              "    </tr>\n",
              "  </thead>\n",
              "  <tbody>\n",
              "    <tr>\n",
              "      <th>0</th>\n",
              "      <td>56.601449</td>\n",
              "      <td>0.826087</td>\n",
              "      <td>0.478261</td>\n",
              "      <td>134.398551</td>\n",
              "      <td>251.086957</td>\n",
              "      <td>0.159420</td>\n",
              "      <td>0.449275</td>\n",
              "      <td>139.101449</td>\n",
              "      <td>0.550725</td>\n",
              "      <td>1.585507</td>\n",
              "      <td>1.166667</td>\n",
              "      <td>1.166667</td>\n",
              "      <td>2.543478</td>\n",
              "    </tr>\n",
              "    <tr>\n",
              "      <th>1</th>\n",
              "      <td>52.496970</td>\n",
              "      <td>0.563636</td>\n",
              "      <td>1.375758</td>\n",
              "      <td>129.303030</td>\n",
              "      <td>242.230303</td>\n",
              "      <td>0.139394</td>\n",
              "      <td>0.593939</td>\n",
              "      <td>158.466667</td>\n",
              "      <td>0.139394</td>\n",
              "      <td>0.583030</td>\n",
              "      <td>1.593939</td>\n",
              "      <td>0.363636</td>\n",
              "      <td>2.121212</td>\n",
              "    </tr>\n",
              "  </tbody>\n",
              "</table>\n",
              "</div>"
            ],
            "text/plain": [
              "              age       sex        cp  ...     slope        ca      thal\n",
              "target                                 ...                              \n",
              "0       56.601449  0.826087  0.478261  ...  1.166667  1.166667  2.543478\n",
              "1       52.496970  0.563636  1.375758  ...  1.593939  0.363636  2.121212\n",
              "\n",
              "[2 rows x 13 columns]"
            ]
          },
          "metadata": {},
          "execution_count": 50
        }
      ]
    },
    {
      "cell_type": "code",
      "source": [
        "# Deskripsi dataset\n",
        "data.describe()"
      ],
      "metadata": {
        "id": "_DhyJTKpjeBR",
        "colab": {
          "base_uri": "https://localhost:8080/",
          "height": 320
        },
        "outputId": "17863341-8092-401e-9866-1045f6df785c"
      },
      "execution_count": null,
      "outputs": [
        {
          "output_type": "execute_result",
          "data": {
            "text/html": [
              "<div>\n",
              "<style scoped>\n",
              "    .dataframe tbody tr th:only-of-type {\n",
              "        vertical-align: middle;\n",
              "    }\n",
              "\n",
              "    .dataframe tbody tr th {\n",
              "        vertical-align: top;\n",
              "    }\n",
              "\n",
              "    .dataframe thead th {\n",
              "        text-align: right;\n",
              "    }\n",
              "</style>\n",
              "<table border=\"1\" class=\"dataframe\">\n",
              "  <thead>\n",
              "    <tr style=\"text-align: right;\">\n",
              "      <th></th>\n",
              "      <th>age</th>\n",
              "      <th>sex</th>\n",
              "      <th>cp</th>\n",
              "      <th>trestbps</th>\n",
              "      <th>chol</th>\n",
              "      <th>fbs</th>\n",
              "      <th>restecg</th>\n",
              "      <th>thalach</th>\n",
              "      <th>exang</th>\n",
              "      <th>oldpeak</th>\n",
              "      <th>slope</th>\n",
              "      <th>ca</th>\n",
              "      <th>thal</th>\n",
              "      <th>target</th>\n",
              "    </tr>\n",
              "  </thead>\n",
              "  <tbody>\n",
              "    <tr>\n",
              "      <th>count</th>\n",
              "      <td>303.000000</td>\n",
              "      <td>303.000000</td>\n",
              "      <td>303.000000</td>\n",
              "      <td>303.000000</td>\n",
              "      <td>303.000000</td>\n",
              "      <td>303.000000</td>\n",
              "      <td>303.000000</td>\n",
              "      <td>303.000000</td>\n",
              "      <td>303.000000</td>\n",
              "      <td>303.000000</td>\n",
              "      <td>303.000000</td>\n",
              "      <td>303.000000</td>\n",
              "      <td>303.000000</td>\n",
              "      <td>303.000000</td>\n",
              "    </tr>\n",
              "    <tr>\n",
              "      <th>mean</th>\n",
              "      <td>54.366337</td>\n",
              "      <td>0.683168</td>\n",
              "      <td>0.966997</td>\n",
              "      <td>131.623762</td>\n",
              "      <td>246.264026</td>\n",
              "      <td>0.148515</td>\n",
              "      <td>0.528053</td>\n",
              "      <td>149.646865</td>\n",
              "      <td>0.326733</td>\n",
              "      <td>1.039604</td>\n",
              "      <td>1.399340</td>\n",
              "      <td>0.729373</td>\n",
              "      <td>2.313531</td>\n",
              "      <td>0.544554</td>\n",
              "    </tr>\n",
              "    <tr>\n",
              "      <th>std</th>\n",
              "      <td>9.082101</td>\n",
              "      <td>0.466011</td>\n",
              "      <td>1.032052</td>\n",
              "      <td>17.538143</td>\n",
              "      <td>51.830751</td>\n",
              "      <td>0.356198</td>\n",
              "      <td>0.525860</td>\n",
              "      <td>22.905161</td>\n",
              "      <td>0.469794</td>\n",
              "      <td>1.161075</td>\n",
              "      <td>0.616226</td>\n",
              "      <td>1.022606</td>\n",
              "      <td>0.612277</td>\n",
              "      <td>0.498835</td>\n",
              "    </tr>\n",
              "    <tr>\n",
              "      <th>min</th>\n",
              "      <td>29.000000</td>\n",
              "      <td>0.000000</td>\n",
              "      <td>0.000000</td>\n",
              "      <td>94.000000</td>\n",
              "      <td>126.000000</td>\n",
              "      <td>0.000000</td>\n",
              "      <td>0.000000</td>\n",
              "      <td>71.000000</td>\n",
              "      <td>0.000000</td>\n",
              "      <td>0.000000</td>\n",
              "      <td>0.000000</td>\n",
              "      <td>0.000000</td>\n",
              "      <td>0.000000</td>\n",
              "      <td>0.000000</td>\n",
              "    </tr>\n",
              "    <tr>\n",
              "      <th>25%</th>\n",
              "      <td>47.500000</td>\n",
              "      <td>0.000000</td>\n",
              "      <td>0.000000</td>\n",
              "      <td>120.000000</td>\n",
              "      <td>211.000000</td>\n",
              "      <td>0.000000</td>\n",
              "      <td>0.000000</td>\n",
              "      <td>133.500000</td>\n",
              "      <td>0.000000</td>\n",
              "      <td>0.000000</td>\n",
              "      <td>1.000000</td>\n",
              "      <td>0.000000</td>\n",
              "      <td>2.000000</td>\n",
              "      <td>0.000000</td>\n",
              "    </tr>\n",
              "    <tr>\n",
              "      <th>50%</th>\n",
              "      <td>55.000000</td>\n",
              "      <td>1.000000</td>\n",
              "      <td>1.000000</td>\n",
              "      <td>130.000000</td>\n",
              "      <td>240.000000</td>\n",
              "      <td>0.000000</td>\n",
              "      <td>1.000000</td>\n",
              "      <td>153.000000</td>\n",
              "      <td>0.000000</td>\n",
              "      <td>0.800000</td>\n",
              "      <td>1.000000</td>\n",
              "      <td>0.000000</td>\n",
              "      <td>2.000000</td>\n",
              "      <td>1.000000</td>\n",
              "    </tr>\n",
              "    <tr>\n",
              "      <th>75%</th>\n",
              "      <td>61.000000</td>\n",
              "      <td>1.000000</td>\n",
              "      <td>2.000000</td>\n",
              "      <td>140.000000</td>\n",
              "      <td>274.500000</td>\n",
              "      <td>0.000000</td>\n",
              "      <td>1.000000</td>\n",
              "      <td>166.000000</td>\n",
              "      <td>1.000000</td>\n",
              "      <td>1.600000</td>\n",
              "      <td>2.000000</td>\n",
              "      <td>1.000000</td>\n",
              "      <td>3.000000</td>\n",
              "      <td>1.000000</td>\n",
              "    </tr>\n",
              "    <tr>\n",
              "      <th>max</th>\n",
              "      <td>77.000000</td>\n",
              "      <td>1.000000</td>\n",
              "      <td>3.000000</td>\n",
              "      <td>200.000000</td>\n",
              "      <td>564.000000</td>\n",
              "      <td>1.000000</td>\n",
              "      <td>2.000000</td>\n",
              "      <td>202.000000</td>\n",
              "      <td>1.000000</td>\n",
              "      <td>6.200000</td>\n",
              "      <td>2.000000</td>\n",
              "      <td>4.000000</td>\n",
              "      <td>3.000000</td>\n",
              "      <td>1.000000</td>\n",
              "    </tr>\n",
              "  </tbody>\n",
              "</table>\n",
              "</div>"
            ],
            "text/plain": [
              "              age         sex          cp  ...          ca        thal      target\n",
              "count  303.000000  303.000000  303.000000  ...  303.000000  303.000000  303.000000\n",
              "mean    54.366337    0.683168    0.966997  ...    0.729373    2.313531    0.544554\n",
              "std      9.082101    0.466011    1.032052  ...    1.022606    0.612277    0.498835\n",
              "min     29.000000    0.000000    0.000000  ...    0.000000    0.000000    0.000000\n",
              "25%     47.500000    0.000000    0.000000  ...    0.000000    2.000000    0.000000\n",
              "50%     55.000000    1.000000    1.000000  ...    0.000000    2.000000    1.000000\n",
              "75%     61.000000    1.000000    2.000000  ...    1.000000    3.000000    1.000000\n",
              "max     77.000000    1.000000    3.000000  ...    4.000000    3.000000    1.000000\n",
              "\n",
              "[8 rows x 14 columns]"
            ]
          },
          "metadata": {},
          "execution_count": 51
        }
      ]
    },
    {
      "cell_type": "code",
      "source": [
        "# x data (attribute data) / data feature\n",
        "x = data.drop(['target'], axis=1)\n",
        "x.head()"
      ],
      "metadata": {
        "colab": {
          "base_uri": "https://localhost:8080/",
          "height": 206
        },
        "id": "6msixd0M8Lns",
        "outputId": "d9882819-34bc-4fa7-8693-4cfaa8d13db4"
      },
      "execution_count": null,
      "outputs": [
        {
          "output_type": "execute_result",
          "data": {
            "text/html": [
              "<div>\n",
              "<style scoped>\n",
              "    .dataframe tbody tr th:only-of-type {\n",
              "        vertical-align: middle;\n",
              "    }\n",
              "\n",
              "    .dataframe tbody tr th {\n",
              "        vertical-align: top;\n",
              "    }\n",
              "\n",
              "    .dataframe thead th {\n",
              "        text-align: right;\n",
              "    }\n",
              "</style>\n",
              "<table border=\"1\" class=\"dataframe\">\n",
              "  <thead>\n",
              "    <tr style=\"text-align: right;\">\n",
              "      <th></th>\n",
              "      <th>age</th>\n",
              "      <th>sex</th>\n",
              "      <th>cp</th>\n",
              "      <th>trestbps</th>\n",
              "      <th>chol</th>\n",
              "      <th>fbs</th>\n",
              "      <th>restecg</th>\n",
              "      <th>thalach</th>\n",
              "      <th>exang</th>\n",
              "      <th>oldpeak</th>\n",
              "      <th>slope</th>\n",
              "      <th>ca</th>\n",
              "      <th>thal</th>\n",
              "    </tr>\n",
              "  </thead>\n",
              "  <tbody>\n",
              "    <tr>\n",
              "      <th>0</th>\n",
              "      <td>63</td>\n",
              "      <td>1</td>\n",
              "      <td>3</td>\n",
              "      <td>145</td>\n",
              "      <td>233</td>\n",
              "      <td>1</td>\n",
              "      <td>0</td>\n",
              "      <td>150</td>\n",
              "      <td>0</td>\n",
              "      <td>2.3</td>\n",
              "      <td>0</td>\n",
              "      <td>0</td>\n",
              "      <td>1</td>\n",
              "    </tr>\n",
              "    <tr>\n",
              "      <th>1</th>\n",
              "      <td>37</td>\n",
              "      <td>1</td>\n",
              "      <td>2</td>\n",
              "      <td>130</td>\n",
              "      <td>250</td>\n",
              "      <td>0</td>\n",
              "      <td>1</td>\n",
              "      <td>187</td>\n",
              "      <td>0</td>\n",
              "      <td>3.5</td>\n",
              "      <td>0</td>\n",
              "      <td>0</td>\n",
              "      <td>2</td>\n",
              "    </tr>\n",
              "    <tr>\n",
              "      <th>2</th>\n",
              "      <td>41</td>\n",
              "      <td>0</td>\n",
              "      <td>1</td>\n",
              "      <td>130</td>\n",
              "      <td>204</td>\n",
              "      <td>0</td>\n",
              "      <td>0</td>\n",
              "      <td>172</td>\n",
              "      <td>0</td>\n",
              "      <td>1.4</td>\n",
              "      <td>2</td>\n",
              "      <td>0</td>\n",
              "      <td>2</td>\n",
              "    </tr>\n",
              "    <tr>\n",
              "      <th>3</th>\n",
              "      <td>56</td>\n",
              "      <td>1</td>\n",
              "      <td>1</td>\n",
              "      <td>120</td>\n",
              "      <td>236</td>\n",
              "      <td>0</td>\n",
              "      <td>1</td>\n",
              "      <td>178</td>\n",
              "      <td>0</td>\n",
              "      <td>0.8</td>\n",
              "      <td>2</td>\n",
              "      <td>0</td>\n",
              "      <td>2</td>\n",
              "    </tr>\n",
              "    <tr>\n",
              "      <th>4</th>\n",
              "      <td>57</td>\n",
              "      <td>0</td>\n",
              "      <td>0</td>\n",
              "      <td>120</td>\n",
              "      <td>354</td>\n",
              "      <td>0</td>\n",
              "      <td>1</td>\n",
              "      <td>163</td>\n",
              "      <td>1</td>\n",
              "      <td>0.6</td>\n",
              "      <td>2</td>\n",
              "      <td>0</td>\n",
              "      <td>2</td>\n",
              "    </tr>\n",
              "  </tbody>\n",
              "</table>\n",
              "</div>"
            ],
            "text/plain": [
              "   age  sex  cp  trestbps  chol  fbs  ...  thalach  exang  oldpeak  slope  ca  thal\n",
              "0   63    1   3       145   233    1  ...      150      0      2.3      0   0     1\n",
              "1   37    1   2       130   250    0  ...      187      0      3.5      0   0     2\n",
              "2   41    0   1       130   204    0  ...      172      0      1.4      2   0     2\n",
              "3   56    1   1       120   236    0  ...      178      0      0.8      2   0     2\n",
              "4   57    0   0       120   354    0  ...      163      1      0.6      2   0     2\n",
              "\n",
              "[5 rows x 13 columns]"
            ]
          },
          "metadata": {},
          "execution_count": 52
        }
      ]
    },
    {
      "cell_type": "code",
      "source": [
        "# Preprocessing Min-Max Normalization\n",
        "# Normalisasi untuk centering dan scaling data, dimana data mempunyai nilai max = 1 dan nilai min = 0 (Min-Max Normalization)\n",
        "x_normalized = (x - np.min(x)) / (np.max(x) - np.min(x)).values\n",
        "x_normalized.describe()"
      ],
      "metadata": {
        "colab": {
          "base_uri": "https://localhost:8080/",
          "height": 320
        },
        "id": "aqSeXZcy50sf",
        "outputId": "5b10e85a-556c-42fb-9b60-d54a91890724"
      },
      "execution_count": null,
      "outputs": [
        {
          "output_type": "execute_result",
          "data": {
            "text/html": [
              "<div>\n",
              "<style scoped>\n",
              "    .dataframe tbody tr th:only-of-type {\n",
              "        vertical-align: middle;\n",
              "    }\n",
              "\n",
              "    .dataframe tbody tr th {\n",
              "        vertical-align: top;\n",
              "    }\n",
              "\n",
              "    .dataframe thead th {\n",
              "        text-align: right;\n",
              "    }\n",
              "</style>\n",
              "<table border=\"1\" class=\"dataframe\">\n",
              "  <thead>\n",
              "    <tr style=\"text-align: right;\">\n",
              "      <th></th>\n",
              "      <th>age</th>\n",
              "      <th>sex</th>\n",
              "      <th>cp</th>\n",
              "      <th>trestbps</th>\n",
              "      <th>chol</th>\n",
              "      <th>fbs</th>\n",
              "      <th>restecg</th>\n",
              "      <th>thalach</th>\n",
              "      <th>exang</th>\n",
              "      <th>oldpeak</th>\n",
              "      <th>slope</th>\n",
              "      <th>ca</th>\n",
              "      <th>thal</th>\n",
              "    </tr>\n",
              "  </thead>\n",
              "  <tbody>\n",
              "    <tr>\n",
              "      <th>count</th>\n",
              "      <td>303.000000</td>\n",
              "      <td>303.000000</td>\n",
              "      <td>303.000000</td>\n",
              "      <td>303.000000</td>\n",
              "      <td>303.000000</td>\n",
              "      <td>303.000000</td>\n",
              "      <td>303.000000</td>\n",
              "      <td>303.000000</td>\n",
              "      <td>303.000000</td>\n",
              "      <td>303.000000</td>\n",
              "      <td>303.000000</td>\n",
              "      <td>303.000000</td>\n",
              "      <td>303.000000</td>\n",
              "    </tr>\n",
              "    <tr>\n",
              "      <th>mean</th>\n",
              "      <td>0.528465</td>\n",
              "      <td>0.683168</td>\n",
              "      <td>0.322332</td>\n",
              "      <td>0.354941</td>\n",
              "      <td>0.274575</td>\n",
              "      <td>0.148515</td>\n",
              "      <td>0.264026</td>\n",
              "      <td>0.600358</td>\n",
              "      <td>0.326733</td>\n",
              "      <td>0.167678</td>\n",
              "      <td>0.699670</td>\n",
              "      <td>0.182343</td>\n",
              "      <td>0.771177</td>\n",
              "    </tr>\n",
              "    <tr>\n",
              "      <th>std</th>\n",
              "      <td>0.189210</td>\n",
              "      <td>0.466011</td>\n",
              "      <td>0.344017</td>\n",
              "      <td>0.165454</td>\n",
              "      <td>0.118335</td>\n",
              "      <td>0.356198</td>\n",
              "      <td>0.262930</td>\n",
              "      <td>0.174849</td>\n",
              "      <td>0.469794</td>\n",
              "      <td>0.187270</td>\n",
              "      <td>0.308113</td>\n",
              "      <td>0.255652</td>\n",
              "      <td>0.204092</td>\n",
              "    </tr>\n",
              "    <tr>\n",
              "      <th>min</th>\n",
              "      <td>0.000000</td>\n",
              "      <td>0.000000</td>\n",
              "      <td>0.000000</td>\n",
              "      <td>0.000000</td>\n",
              "      <td>0.000000</td>\n",
              "      <td>0.000000</td>\n",
              "      <td>0.000000</td>\n",
              "      <td>0.000000</td>\n",
              "      <td>0.000000</td>\n",
              "      <td>0.000000</td>\n",
              "      <td>0.000000</td>\n",
              "      <td>0.000000</td>\n",
              "      <td>0.000000</td>\n",
              "    </tr>\n",
              "    <tr>\n",
              "      <th>25%</th>\n",
              "      <td>0.385417</td>\n",
              "      <td>0.000000</td>\n",
              "      <td>0.000000</td>\n",
              "      <td>0.245283</td>\n",
              "      <td>0.194064</td>\n",
              "      <td>0.000000</td>\n",
              "      <td>0.000000</td>\n",
              "      <td>0.477099</td>\n",
              "      <td>0.000000</td>\n",
              "      <td>0.000000</td>\n",
              "      <td>0.500000</td>\n",
              "      <td>0.000000</td>\n",
              "      <td>0.666667</td>\n",
              "    </tr>\n",
              "    <tr>\n",
              "      <th>50%</th>\n",
              "      <td>0.541667</td>\n",
              "      <td>1.000000</td>\n",
              "      <td>0.333333</td>\n",
              "      <td>0.339623</td>\n",
              "      <td>0.260274</td>\n",
              "      <td>0.000000</td>\n",
              "      <td>0.500000</td>\n",
              "      <td>0.625954</td>\n",
              "      <td>0.000000</td>\n",
              "      <td>0.129032</td>\n",
              "      <td>0.500000</td>\n",
              "      <td>0.000000</td>\n",
              "      <td>0.666667</td>\n",
              "    </tr>\n",
              "    <tr>\n",
              "      <th>75%</th>\n",
              "      <td>0.666667</td>\n",
              "      <td>1.000000</td>\n",
              "      <td>0.666667</td>\n",
              "      <td>0.433962</td>\n",
              "      <td>0.339041</td>\n",
              "      <td>0.000000</td>\n",
              "      <td>0.500000</td>\n",
              "      <td>0.725191</td>\n",
              "      <td>1.000000</td>\n",
              "      <td>0.258065</td>\n",
              "      <td>1.000000</td>\n",
              "      <td>0.250000</td>\n",
              "      <td>1.000000</td>\n",
              "    </tr>\n",
              "    <tr>\n",
              "      <th>max</th>\n",
              "      <td>1.000000</td>\n",
              "      <td>1.000000</td>\n",
              "      <td>1.000000</td>\n",
              "      <td>1.000000</td>\n",
              "      <td>1.000000</td>\n",
              "      <td>1.000000</td>\n",
              "      <td>1.000000</td>\n",
              "      <td>1.000000</td>\n",
              "      <td>1.000000</td>\n",
              "      <td>1.000000</td>\n",
              "      <td>1.000000</td>\n",
              "      <td>1.000000</td>\n",
              "      <td>1.000000</td>\n",
              "    </tr>\n",
              "  </tbody>\n",
              "</table>\n",
              "</div>"
            ],
            "text/plain": [
              "              age         sex          cp  ...       slope          ca        thal\n",
              "count  303.000000  303.000000  303.000000  ...  303.000000  303.000000  303.000000\n",
              "mean     0.528465    0.683168    0.322332  ...    0.699670    0.182343    0.771177\n",
              "std      0.189210    0.466011    0.344017  ...    0.308113    0.255652    0.204092\n",
              "min      0.000000    0.000000    0.000000  ...    0.000000    0.000000    0.000000\n",
              "25%      0.385417    0.000000    0.000000  ...    0.500000    0.000000    0.666667\n",
              "50%      0.541667    1.000000    0.333333  ...    0.500000    0.000000    0.666667\n",
              "75%      0.666667    1.000000    0.666667  ...    1.000000    0.250000    1.000000\n",
              "max      1.000000    1.000000    1.000000  ...    1.000000    1.000000    1.000000\n",
              "\n",
              "[8 rows x 13 columns]"
            ]
          },
          "metadata": {},
          "execution_count": 53
        }
      ]
    },
    {
      "cell_type": "code",
      "source": [
        "# y data (class data) / data target\n",
        "y = data['target']\n",
        "y"
      ],
      "metadata": {
        "colab": {
          "base_uri": "https://localhost:8080/"
        },
        "id": "MYFYayvjC_5c",
        "outputId": "f405f7e3-b416-461f-a0bb-03025823ecb5"
      },
      "execution_count": null,
      "outputs": [
        {
          "output_type": "execute_result",
          "data": {
            "text/plain": [
              "0      1\n",
              "1      1\n",
              "2      1\n",
              "3      1\n",
              "4      1\n",
              "      ..\n",
              "298    0\n",
              "299    0\n",
              "300    0\n",
              "301    0\n",
              "302    0\n",
              "Name: target, Length: 303, dtype: int64"
            ]
          },
          "metadata": {},
          "execution_count": 54
        }
      ]
    },
    {
      "cell_type": "code",
      "source": [
        "# Split data untuk training dan testing\n",
        "from sklearn.model_selection import train_test_split\n",
        "\n",
        "# Disini kami membagi data, 80% untuk training dan 20% untuk testing\n",
        "x_train, x_test, y_train, y_test = train_test_split(x_normalized, y, test_size=0.2, random_state=0)\n",
        "\n",
        "Akurasi_per_Algoritma = {}"
      ],
      "metadata": {
        "id": "inDljuR7-vel"
      },
      "execution_count": null,
      "outputs": []
    },
    {
      "cell_type": "markdown",
      "source": [
        "##**DECISION TREE**"
      ],
      "metadata": {
        "id": "aHbi0j9pECeQ"
      }
    },
    {
      "cell_type": "code",
      "source": [
        "# Algoritma Decision Tree\n",
        "from sklearn.tree import DecisionTreeClassifier"
      ],
      "metadata": {
        "id": "WYXwcPzwIpol"
      },
      "execution_count": null,
      "outputs": []
    },
    {
      "cell_type": "code",
      "source": [
        "# Decision Tree dengan criteria 'gini'\n",
        "dtree1 = DecisionTreeClassifier(criterion='gini')\n",
        "dtree1.fit(x_train, y_train)\n",
        "\n",
        "accScoreDTGini = dtree1.score(x_test, y_test) * 100\n",
        "\n",
        "Akurasi_per_Algoritma['Decision Tree (Gini)'] = accScoreDTGini\n",
        "\n",
        "print('Akurasi Test Decision Tree (Gini) {:.2f}%'.format(accScoreDTGini))"
      ],
      "metadata": {
        "colab": {
          "base_uri": "https://localhost:8080/"
        },
        "id": "B8ft9F4BDzaP",
        "outputId": "4447506b-d828-4b62-cfaf-3c7a62c14aa8"
      },
      "execution_count": null,
      "outputs": [
        {
          "output_type": "stream",
          "name": "stdout",
          "text": [
            "Akurasi Test Decision Tree (Gini) 77.05%\n"
          ]
        }
      ]
    },
    {
      "cell_type": "code",
      "source": [
        "# Visualisasi Decision Tree (Gini)\n",
        "from sklearn.tree import export_graphviz\n",
        "\n",
        "export_graphviz(dtree1, out_file=\"dtree1.dot\", class_names=(\"1\", \"0\"), \n",
        "                feature_names=x.columns, impurity=False, filled=True)\n",
        "\n",
        "import graphviz\n",
        "\n",
        "with open(\"dtree1.dot\") as fig:\n",
        "  dot_graph = fig.read()\n",
        "graphviz.Source(dot_graph)"
      ],
      "metadata": {
        "colab": {
          "base_uri": "https://localhost:8080/",
          "height": 1000
        },
        "id": "8tahldDuIbgT",
        "outputId": "34123d29-084a-4dd0-c07c-2712871dd09a"
      },
      "execution_count": null,
      "outputs": [
        {
          "output_type": "execute_result",
          "data": {
            "text/plain": [
              "<graphviz.files.Source at 0x7f9a4ba7f490>"
            ],
            "image/svg+xml": "<?xml version=\"1.0\" encoding=\"UTF-8\" standalone=\"no\"?>\n<!DOCTYPE svg PUBLIC \"-//W3C//DTD SVG 1.1//EN\"\n \"http://www.w3.org/Graphics/SVG/1.1/DTD/svg11.dtd\">\n<!-- Generated by graphviz version 2.40.1 (20161225.0304)\n -->\n<!-- Title: Tree Pages: 1 -->\n<svg width=\"2156pt\" height=\"997pt\"\n viewBox=\"0.00 0.00 2156.00 997.00\" xmlns=\"http://www.w3.org/2000/svg\" xmlns:xlink=\"http://www.w3.org/1999/xlink\">\n<g id=\"graph0\" class=\"graph\" transform=\"scale(1 1) rotate(0) translate(4 993)\">\n<title>Tree</title>\n<polygon fill=\"#ffffff\" stroke=\"transparent\" points=\"-4,4 -4,-993 2152,-993 2152,4 -4,4\"/>\n<!-- 0 -->\n<g id=\"node1\" class=\"node\">\n<title>0</title>\n<polygon fill=\"#e1f0fb\" stroke=\"#000000\" points=\"927.5,-989 795.5,-989 795.5,-921 927.5,-921 927.5,-989\"/>\n<text text-anchor=\"middle\" x=\"861.5\" y=\"-973.8\" font-family=\"Helvetica,sans-Serif\" font-size=\"14.00\" fill=\"#000000\">cp &lt;= 0.167</text>\n<text text-anchor=\"middle\" x=\"861.5\" y=\"-958.8\" font-family=\"Helvetica,sans-Serif\" font-size=\"14.00\" fill=\"#000000\">samples = 242</text>\n<text text-anchor=\"middle\" x=\"861.5\" y=\"-943.8\" font-family=\"Helvetica,sans-Serif\" font-size=\"14.00\" fill=\"#000000\">value = [111, 131]</text>\n<text text-anchor=\"middle\" x=\"861.5\" y=\"-928.8\" font-family=\"Helvetica,sans-Serif\" font-size=\"14.00\" fill=\"#000000\">class = 0</text>\n</g>\n<!-- 1 -->\n<g id=\"node2\" class=\"node\">\n<title>1</title>\n<polygon fill=\"#efb287\" stroke=\"#000000\" points=\"724.5,-885 608.5,-885 608.5,-817 724.5,-817 724.5,-885\"/>\n<text text-anchor=\"middle\" x=\"666.5\" y=\"-869.8\" font-family=\"Helvetica,sans-Serif\" font-size=\"14.00\" fill=\"#000000\">ca &lt;= 0.125</text>\n<text text-anchor=\"middle\" x=\"666.5\" y=\"-854.8\" font-family=\"Helvetica,sans-Serif\" font-size=\"14.00\" fill=\"#000000\">samples = 117</text>\n<text text-anchor=\"middle\" x=\"666.5\" y=\"-839.8\" font-family=\"Helvetica,sans-Serif\" font-size=\"14.00\" fill=\"#000000\">value = [84, 33]</text>\n<text text-anchor=\"middle\" x=\"666.5\" y=\"-824.8\" font-family=\"Helvetica,sans-Serif\" font-size=\"14.00\" fill=\"#000000\">class = 1</text>\n</g>\n<!-- 0&#45;&gt;1 -->\n<g id=\"edge1\" class=\"edge\">\n<title>0&#45;&gt;1</title>\n<path fill=\"none\" stroke=\"#000000\" d=\"M797.6497,-920.9465C777.1373,-910.0066 754.3601,-897.8587 733.6204,-886.7975\"/>\n<polygon fill=\"#000000\" stroke=\"#000000\" points=\"735.0315,-883.5835 724.5609,-881.9658 731.7373,-889.76 735.0315,-883.5835\"/>\n<text text-anchor=\"middle\" x=\"731.8399\" y=\"-902.1827\" font-family=\"Helvetica,sans-Serif\" font-size=\"14.00\" fill=\"#000000\">True</text>\n</g>\n<!-- 32 -->\n<g id=\"node33\" class=\"node\">\n<title>32</title>\n<polygon fill=\"#70b8ec\" stroke=\"#000000\" points=\"999.5,-885 883.5,-885 883.5,-817 999.5,-817 999.5,-885\"/>\n<text text-anchor=\"middle\" x=\"941.5\" y=\"-869.8\" font-family=\"Helvetica,sans-Serif\" font-size=\"14.00\" fill=\"#000000\">sex &lt;= 0.5</text>\n<text text-anchor=\"middle\" x=\"941.5\" y=\"-854.8\" font-family=\"Helvetica,sans-Serif\" font-size=\"14.00\" fill=\"#000000\">samples = 125</text>\n<text text-anchor=\"middle\" x=\"941.5\" y=\"-839.8\" font-family=\"Helvetica,sans-Serif\" font-size=\"14.00\" fill=\"#000000\">value = [27, 98]</text>\n<text text-anchor=\"middle\" x=\"941.5\" y=\"-824.8\" font-family=\"Helvetica,sans-Serif\" font-size=\"14.00\" fill=\"#000000\">class = 0</text>\n</g>\n<!-- 0&#45;&gt;32 -->\n<g id=\"edge32\" class=\"edge\">\n<title>0&#45;&gt;32</title>\n<path fill=\"none\" stroke=\"#000000\" d=\"M887.695,-920.9465C894.5325,-912.0578 901.9834,-902.3716 909.101,-893.1188\"/>\n<polygon fill=\"#000000\" stroke=\"#000000\" points=\"911.9232,-895.1903 915.2462,-885.13 906.3748,-890.9223 911.9232,-895.1903\"/>\n<text text-anchor=\"middle\" x=\"918.4796\" y=\"-906.22\" font-family=\"Helvetica,sans-Serif\" font-size=\"14.00\" fill=\"#000000\">False</text>\n</g>\n<!-- 2 -->\n<g id=\"node3\" class=\"node\">\n<title>2</title>\n<polygon fill=\"#d7ebfa\" stroke=\"#000000\" points=\"494.5,-781 378.5,-781 378.5,-713 494.5,-713 494.5,-781\"/>\n<text text-anchor=\"middle\" x=\"436.5\" y=\"-765.8\" font-family=\"Helvetica,sans-Serif\" font-size=\"14.00\" fill=\"#000000\">thal &lt;= 0.833</text>\n<text text-anchor=\"middle\" x=\"436.5\" y=\"-750.8\" font-family=\"Helvetica,sans-Serif\" font-size=\"14.00\" fill=\"#000000\">samples = 54</text>\n<text text-anchor=\"middle\" x=\"436.5\" y=\"-735.8\" font-family=\"Helvetica,sans-Serif\" font-size=\"14.00\" fill=\"#000000\">value = [24, 30]</text>\n<text text-anchor=\"middle\" x=\"436.5\" y=\"-720.8\" font-family=\"Helvetica,sans-Serif\" font-size=\"14.00\" fill=\"#000000\">class = 0</text>\n</g>\n<!-- 1&#45;&gt;2 -->\n<g id=\"edge2\" class=\"edge\">\n<title>1&#45;&gt;2</title>\n<path fill=\"none\" stroke=\"#000000\" d=\"M608.4613,-824.7564C576.5913,-810.3457 536.913,-792.4041 503.7035,-777.3877\"/>\n<polygon fill=\"#000000\" stroke=\"#000000\" points=\"505.074,-774.1662 494.5201,-773.2352 502.1899,-780.5445 505.074,-774.1662\"/>\n</g>\n<!-- 25 -->\n<g id=\"node26\" class=\"node\">\n<title>25</title>\n<polygon fill=\"#e68743\" stroke=\"#000000\" points=\"720,-781 613,-781 613,-713 720,-713 720,-781\"/>\n<text text-anchor=\"middle\" x=\"666.5\" y=\"-765.8\" font-family=\"Helvetica,sans-Serif\" font-size=\"14.00\" fill=\"#000000\">age &lt;= 0.719</text>\n<text text-anchor=\"middle\" x=\"666.5\" y=\"-750.8\" font-family=\"Helvetica,sans-Serif\" font-size=\"14.00\" fill=\"#000000\">samples = 63</text>\n<text text-anchor=\"middle\" x=\"666.5\" y=\"-735.8\" font-family=\"Helvetica,sans-Serif\" font-size=\"14.00\" fill=\"#000000\">value = [60, 3]</text>\n<text text-anchor=\"middle\" x=\"666.5\" y=\"-720.8\" font-family=\"Helvetica,sans-Serif\" font-size=\"14.00\" fill=\"#000000\">class = 1</text>\n</g>\n<!-- 1&#45;&gt;25 -->\n<g id=\"edge25\" class=\"edge\">\n<title>1&#45;&gt;25</title>\n<path fill=\"none\" stroke=\"#000000\" d=\"M666.5,-816.9465C666.5,-808.776 666.5,-799.9318 666.5,-791.3697\"/>\n<polygon fill=\"#000000\" stroke=\"#000000\" points=\"670.0001,-791.13 666.5,-781.13 663.0001,-791.13 670.0001,-791.13\"/>\n</g>\n<!-- 3 -->\n<g id=\"node4\" class=\"node\">\n<title>3</title>\n<polygon fill=\"#78bced\" stroke=\"#000000\" points=\"345.5,-677 229.5,-677 229.5,-609 345.5,-609 345.5,-677\"/>\n<text text-anchor=\"middle\" x=\"287.5\" y=\"-661.8\" font-family=\"Helvetica,sans-Serif\" font-size=\"14.00\" fill=\"#000000\">thalach &lt;= 0.37</text>\n<text text-anchor=\"middle\" x=\"287.5\" y=\"-646.8\" font-family=\"Helvetica,sans-Serif\" font-size=\"14.00\" fill=\"#000000\">samples = 33</text>\n<text text-anchor=\"middle\" x=\"287.5\" y=\"-631.8\" font-family=\"Helvetica,sans-Serif\" font-size=\"14.00\" fill=\"#000000\">value = [8, 25]</text>\n<text text-anchor=\"middle\" x=\"287.5\" y=\"-616.8\" font-family=\"Helvetica,sans-Serif\" font-size=\"14.00\" fill=\"#000000\">class = 0</text>\n</g>\n<!-- 2&#45;&gt;3 -->\n<g id=\"edge3\" class=\"edge\">\n<title>2&#45;&gt;3</title>\n<path fill=\"none\" stroke=\"#000000\" d=\"M387.7118,-712.9465C373.9479,-703.3395 358.8494,-692.8009 344.6426,-682.8848\"/>\n<polygon fill=\"#000000\" stroke=\"#000000\" points=\"346.6011,-679.9835 336.3978,-677.13 342.5946,-685.7236 346.6011,-679.9835\"/>\n</g>\n<!-- 18 -->\n<g id=\"node19\" class=\"node\">\n<title>18</title>\n<polygon fill=\"#eda877\" stroke=\"#000000\" points=\"501,-677 372,-677 372,-609 501,-609 501,-677\"/>\n<text text-anchor=\"middle\" x=\"436.5\" y=\"-661.8\" font-family=\"Helvetica,sans-Serif\" font-size=\"14.00\" fill=\"#000000\">oldpeak &lt;= 0.105</text>\n<text text-anchor=\"middle\" x=\"436.5\" y=\"-646.8\" font-family=\"Helvetica,sans-Serif\" font-size=\"14.00\" fill=\"#000000\">samples = 21</text>\n<text text-anchor=\"middle\" x=\"436.5\" y=\"-631.8\" font-family=\"Helvetica,sans-Serif\" font-size=\"14.00\" fill=\"#000000\">value = [16, 5]</text>\n<text text-anchor=\"middle\" x=\"436.5\" y=\"-616.8\" font-family=\"Helvetica,sans-Serif\" font-size=\"14.00\" fill=\"#000000\">class = 1</text>\n</g>\n<!-- 2&#45;&gt;18 -->\n<g id=\"edge18\" class=\"edge\">\n<title>2&#45;&gt;18</title>\n<path fill=\"none\" stroke=\"#000000\" d=\"M436.5,-712.9465C436.5,-704.776 436.5,-695.9318 436.5,-687.3697\"/>\n<polygon fill=\"#000000\" stroke=\"#000000\" points=\"440.0001,-687.13 436.5,-677.13 433.0001,-687.13 440.0001,-687.13\"/>\n</g>\n<!-- 4 -->\n<g id=\"node5\" class=\"node\">\n<title>4</title>\n<polygon fill=\"#e58139\" stroke=\"#000000\" points=\"216,-565.5 117,-565.5 117,-512.5 216,-512.5 216,-565.5\"/>\n<text text-anchor=\"middle\" x=\"166.5\" y=\"-550.3\" font-family=\"Helvetica,sans-Serif\" font-size=\"14.00\" fill=\"#000000\">samples = 2</text>\n<text text-anchor=\"middle\" x=\"166.5\" y=\"-535.3\" font-family=\"Helvetica,sans-Serif\" font-size=\"14.00\" fill=\"#000000\">value = [2, 0]</text>\n<text text-anchor=\"middle\" x=\"166.5\" y=\"-520.3\" font-family=\"Helvetica,sans-Serif\" font-size=\"14.00\" fill=\"#000000\">class = 1</text>\n</g>\n<!-- 3&#45;&gt;4 -->\n<g id=\"edge4\" class=\"edge\">\n<title>3&#45;&gt;4</title>\n<path fill=\"none\" stroke=\"#000000\" d=\"M247.8801,-608.9465C234.1676,-597.1606 218.8239,-583.9726 205.1873,-572.2519\"/>\n<polygon fill=\"#000000\" stroke=\"#000000\" points=\"207.2459,-569.4061 197.3808,-565.5422 202.6831,-574.7147 207.2459,-569.4061\"/>\n</g>\n<!-- 5 -->\n<g id=\"node6\" class=\"node\">\n<title>5</title>\n<polygon fill=\"#69b5eb\" stroke=\"#000000\" points=\"341,-573 234,-573 234,-505 341,-505 341,-573\"/>\n<text text-anchor=\"middle\" x=\"287.5\" y=\"-557.8\" font-family=\"Helvetica,sans-Serif\" font-size=\"14.00\" fill=\"#000000\">thal &lt;= 0.5</text>\n<text text-anchor=\"middle\" x=\"287.5\" y=\"-542.8\" font-family=\"Helvetica,sans-Serif\" font-size=\"14.00\" fill=\"#000000\">samples = 31</text>\n<text text-anchor=\"middle\" x=\"287.5\" y=\"-527.8\" font-family=\"Helvetica,sans-Serif\" font-size=\"14.00\" fill=\"#000000\">value = [6, 25]</text>\n<text text-anchor=\"middle\" x=\"287.5\" y=\"-512.8\" font-family=\"Helvetica,sans-Serif\" font-size=\"14.00\" fill=\"#000000\">class = 0</text>\n</g>\n<!-- 3&#45;&gt;5 -->\n<g id=\"edge5\" class=\"edge\">\n<title>3&#45;&gt;5</title>\n<path fill=\"none\" stroke=\"#000000\" d=\"M287.5,-608.9465C287.5,-600.776 287.5,-591.9318 287.5,-583.3697\"/>\n<polygon fill=\"#000000\" stroke=\"#000000\" points=\"291.0001,-583.13 287.5,-573.13 284.0001,-583.13 291.0001,-583.13\"/>\n</g>\n<!-- 6 -->\n<g id=\"node7\" class=\"node\">\n<title>6</title>\n<polygon fill=\"#f6d5bd\" stroke=\"#000000\" points=\"216.5,-469 114.5,-469 114.5,-401 216.5,-401 216.5,-469\"/>\n<text text-anchor=\"middle\" x=\"165.5\" y=\"-453.8\" font-family=\"Helvetica,sans-Serif\" font-size=\"14.00\" fill=\"#000000\">age &lt;= 0.531</text>\n<text text-anchor=\"middle\" x=\"165.5\" y=\"-438.8\" font-family=\"Helvetica,sans-Serif\" font-size=\"14.00\" fill=\"#000000\">samples = 5</text>\n<text text-anchor=\"middle\" x=\"165.5\" y=\"-423.8\" font-family=\"Helvetica,sans-Serif\" font-size=\"14.00\" fill=\"#000000\">value = [3, 2]</text>\n<text text-anchor=\"middle\" x=\"165.5\" y=\"-408.8\" font-family=\"Helvetica,sans-Serif\" font-size=\"14.00\" fill=\"#000000\">class = 1</text>\n</g>\n<!-- 5&#45;&gt;6 -->\n<g id=\"edge6\" class=\"edge\">\n<title>5&#45;&gt;6</title>\n<path fill=\"none\" stroke=\"#000000\" d=\"M247.5526,-504.9465C236.5988,-495.6088 224.6127,-485.3911 213.268,-475.7203\"/>\n<polygon fill=\"#000000\" stroke=\"#000000\" points=\"215.4179,-472.9538 205.5371,-469.13 210.8767,-478.2809 215.4179,-472.9538\"/>\n</g>\n<!-- 9 -->\n<g id=\"node10\" class=\"node\">\n<title>9</title>\n<polygon fill=\"#53aae8\" stroke=\"#000000\" points=\"342,-469 235,-469 235,-401 342,-401 342,-469\"/>\n<text text-anchor=\"middle\" x=\"288.5\" y=\"-453.8\" font-family=\"Helvetica,sans-Serif\" font-size=\"14.00\" fill=\"#000000\">age &lt;= 0.646</text>\n<text text-anchor=\"middle\" x=\"288.5\" y=\"-438.8\" font-family=\"Helvetica,sans-Serif\" font-size=\"14.00\" fill=\"#000000\">samples = 26</text>\n<text text-anchor=\"middle\" x=\"288.5\" y=\"-423.8\" font-family=\"Helvetica,sans-Serif\" font-size=\"14.00\" fill=\"#000000\">value = [3, 23]</text>\n<text text-anchor=\"middle\" x=\"288.5\" y=\"-408.8\" font-family=\"Helvetica,sans-Serif\" font-size=\"14.00\" fill=\"#000000\">class = 0</text>\n</g>\n<!-- 5&#45;&gt;9 -->\n<g id=\"edge9\" class=\"edge\">\n<title>5&#45;&gt;9</title>\n<path fill=\"none\" stroke=\"#000000\" d=\"M287.8274,-504.9465C287.906,-496.776 287.991,-487.9318 288.0734,-479.3697\"/>\n<polygon fill=\"#000000\" stroke=\"#000000\" points=\"291.5754,-479.1632 288.1718,-469.13 284.5757,-479.0958 291.5754,-479.1632\"/>\n</g>\n<!-- 7 -->\n<g id=\"node8\" class=\"node\">\n<title>7</title>\n<polygon fill=\"#e58139\" stroke=\"#000000\" points=\"99,-357.5 0,-357.5 0,-304.5 99,-304.5 99,-357.5\"/>\n<text text-anchor=\"middle\" x=\"49.5\" y=\"-342.3\" font-family=\"Helvetica,sans-Serif\" font-size=\"14.00\" fill=\"#000000\">samples = 3</text>\n<text text-anchor=\"middle\" x=\"49.5\" y=\"-327.3\" font-family=\"Helvetica,sans-Serif\" font-size=\"14.00\" fill=\"#000000\">value = [3, 0]</text>\n<text text-anchor=\"middle\" x=\"49.5\" y=\"-312.3\" font-family=\"Helvetica,sans-Serif\" font-size=\"14.00\" fill=\"#000000\">class = 1</text>\n</g>\n<!-- 6&#45;&gt;7 -->\n<g id=\"edge7\" class=\"edge\">\n<title>6&#45;&gt;7</title>\n<path fill=\"none\" stroke=\"#000000\" d=\"M127.5173,-400.9465C114.3714,-389.1606 99.6618,-375.9726 86.5887,-364.2519\"/>\n<polygon fill=\"#000000\" stroke=\"#000000\" points=\"88.8869,-361.6116 79.1047,-357.5422 84.214,-366.8236 88.8869,-361.6116\"/>\n</g>\n<!-- 8 -->\n<g id=\"node9\" class=\"node\">\n<title>8</title>\n<polygon fill=\"#399de5\" stroke=\"#000000\" points=\"216,-357.5 117,-357.5 117,-304.5 216,-304.5 216,-357.5\"/>\n<text text-anchor=\"middle\" x=\"166.5\" y=\"-342.3\" font-family=\"Helvetica,sans-Serif\" font-size=\"14.00\" fill=\"#000000\">samples = 2</text>\n<text text-anchor=\"middle\" x=\"166.5\" y=\"-327.3\" font-family=\"Helvetica,sans-Serif\" font-size=\"14.00\" fill=\"#000000\">value = [0, 2]</text>\n<text text-anchor=\"middle\" x=\"166.5\" y=\"-312.3\" font-family=\"Helvetica,sans-Serif\" font-size=\"14.00\" fill=\"#000000\">class = 0</text>\n</g>\n<!-- 6&#45;&gt;8 -->\n<g id=\"edge8\" class=\"edge\">\n<title>6&#45;&gt;8</title>\n<path fill=\"none\" stroke=\"#000000\" d=\"M165.8274,-400.9465C165.9302,-390.2621 166.044,-378.4254 166.1483,-367.5742\"/>\n<polygon fill=\"#000000\" stroke=\"#000000\" points=\"169.6484,-367.5754 166.2448,-357.5422 162.6487,-367.508 169.6484,-367.5754\"/>\n</g>\n<!-- 10 -->\n<g id=\"node11\" class=\"node\">\n<title>10</title>\n<polygon fill=\"#399de5\" stroke=\"#000000\" points=\"342,-357.5 235,-357.5 235,-304.5 342,-304.5 342,-357.5\"/>\n<text text-anchor=\"middle\" x=\"288.5\" y=\"-342.3\" font-family=\"Helvetica,sans-Serif\" font-size=\"14.00\" fill=\"#000000\">samples = 18</text>\n<text text-anchor=\"middle\" x=\"288.5\" y=\"-327.3\" font-family=\"Helvetica,sans-Serif\" font-size=\"14.00\" fill=\"#000000\">value = [0, 18]</text>\n<text text-anchor=\"middle\" x=\"288.5\" y=\"-312.3\" font-family=\"Helvetica,sans-Serif\" font-size=\"14.00\" fill=\"#000000\">class = 0</text>\n</g>\n<!-- 9&#45;&gt;10 -->\n<g id=\"edge10\" class=\"edge\">\n<title>9&#45;&gt;10</title>\n<path fill=\"none\" stroke=\"#000000\" d=\"M288.5,-400.9465C288.5,-390.2621 288.5,-378.4254 288.5,-367.5742\"/>\n<polygon fill=\"#000000\" stroke=\"#000000\" points=\"292.0001,-367.5421 288.5,-357.5422 285.0001,-367.5422 292.0001,-367.5421\"/>\n</g>\n<!-- 11 -->\n<g id=\"node12\" class=\"node\">\n<title>11</title>\n<polygon fill=\"#b0d8f5\" stroke=\"#000000\" points=\"462.5,-365 360.5,-365 360.5,-297 462.5,-297 462.5,-365\"/>\n<text text-anchor=\"middle\" x=\"411.5\" y=\"-349.8\" font-family=\"Helvetica,sans-Serif\" font-size=\"14.00\" fill=\"#000000\">age &lt;= 0.719</text>\n<text text-anchor=\"middle\" x=\"411.5\" y=\"-334.8\" font-family=\"Helvetica,sans-Serif\" font-size=\"14.00\" fill=\"#000000\">samples = 8</text>\n<text text-anchor=\"middle\" x=\"411.5\" y=\"-319.8\" font-family=\"Helvetica,sans-Serif\" font-size=\"14.00\" fill=\"#000000\">value = [3, 5]</text>\n<text text-anchor=\"middle\" x=\"411.5\" y=\"-304.8\" font-family=\"Helvetica,sans-Serif\" font-size=\"14.00\" fill=\"#000000\">class = 0</text>\n</g>\n<!-- 9&#45;&gt;11 -->\n<g id=\"edge11\" class=\"edge\">\n<title>9&#45;&gt;11</title>\n<path fill=\"none\" stroke=\"#000000\" d=\"M328.7748,-400.9465C339.8184,-391.6088 351.9028,-381.3911 363.3404,-371.7203\"/>\n<polygon fill=\"#000000\" stroke=\"#000000\" points=\"365.7583,-374.2594 371.1347,-365.13 361.2386,-368.914 365.7583,-374.2594\"/>\n</g>\n<!-- 12 -->\n<g id=\"node13\" class=\"node\">\n<title>12</title>\n<polygon fill=\"#f6d5bd\" stroke=\"#000000\" points=\"409,-261 284,-261 284,-193 409,-193 409,-261\"/>\n<text text-anchor=\"middle\" x=\"346.5\" y=\"-245.8\" font-family=\"Helvetica,sans-Serif\" font-size=\"14.00\" fill=\"#000000\">thalach &lt;= 0.645</text>\n<text text-anchor=\"middle\" x=\"346.5\" y=\"-230.8\" font-family=\"Helvetica,sans-Serif\" font-size=\"14.00\" fill=\"#000000\">samples = 5</text>\n<text text-anchor=\"middle\" x=\"346.5\" y=\"-215.8\" font-family=\"Helvetica,sans-Serif\" font-size=\"14.00\" fill=\"#000000\">value = [3, 2]</text>\n<text text-anchor=\"middle\" x=\"346.5\" y=\"-200.8\" font-family=\"Helvetica,sans-Serif\" font-size=\"14.00\" fill=\"#000000\">class = 1</text>\n</g>\n<!-- 11&#45;&gt;12 -->\n<g id=\"edge12\" class=\"edge\">\n<title>11&#45;&gt;12</title>\n<path fill=\"none\" stroke=\"#000000\" d=\"M390.2166,-296.9465C384.7733,-288.2373 378.8516,-278.7626 373.175,-269.6801\"/>\n<polygon fill=\"#000000\" stroke=\"#000000\" points=\"376.0993,-267.755 367.8312,-261.13 370.1633,-271.465 376.0993,-267.755\"/>\n</g>\n<!-- 17 -->\n<g id=\"node18\" class=\"node\">\n<title>17</title>\n<polygon fill=\"#399de5\" stroke=\"#000000\" points=\"526,-253.5 427,-253.5 427,-200.5 526,-200.5 526,-253.5\"/>\n<text text-anchor=\"middle\" x=\"476.5\" y=\"-238.3\" font-family=\"Helvetica,sans-Serif\" font-size=\"14.00\" fill=\"#000000\">samples = 3</text>\n<text text-anchor=\"middle\" x=\"476.5\" y=\"-223.3\" font-family=\"Helvetica,sans-Serif\" font-size=\"14.00\" fill=\"#000000\">value = [0, 3]</text>\n<text text-anchor=\"middle\" x=\"476.5\" y=\"-208.3\" font-family=\"Helvetica,sans-Serif\" font-size=\"14.00\" fill=\"#000000\">class = 0</text>\n</g>\n<!-- 11&#45;&gt;17 -->\n<g id=\"edge17\" class=\"edge\">\n<title>11&#45;&gt;17</title>\n<path fill=\"none\" stroke=\"#000000\" d=\"M432.7834,-296.9465C439.7366,-285.8215 447.4705,-273.4473 454.4769,-262.237\"/>\n<polygon fill=\"#000000\" stroke=\"#000000\" points=\"457.5791,-263.8772 459.9111,-253.5422 451.6431,-260.1671 457.5791,-263.8772\"/>\n</g>\n<!-- 13 -->\n<g id=\"node14\" class=\"node\">\n<title>13</title>\n<polygon fill=\"#e58139\" stroke=\"#000000\" points=\"337,-149.5 238,-149.5 238,-96.5 337,-96.5 337,-149.5\"/>\n<text text-anchor=\"middle\" x=\"287.5\" y=\"-134.3\" font-family=\"Helvetica,sans-Serif\" font-size=\"14.00\" fill=\"#000000\">samples = 2</text>\n<text text-anchor=\"middle\" x=\"287.5\" y=\"-119.3\" font-family=\"Helvetica,sans-Serif\" font-size=\"14.00\" fill=\"#000000\">value = [2, 0]</text>\n<text text-anchor=\"middle\" x=\"287.5\" y=\"-104.3\" font-family=\"Helvetica,sans-Serif\" font-size=\"14.00\" fill=\"#000000\">class = 1</text>\n</g>\n<!-- 12&#45;&gt;13 -->\n<g id=\"edge13\" class=\"edge\">\n<title>12&#45;&gt;13</title>\n<path fill=\"none\" stroke=\"#000000\" d=\"M327.1812,-192.9465C320.9324,-181.9316 313.9888,-169.6922 307.6793,-158.5703\"/>\n<polygon fill=\"#000000\" stroke=\"#000000\" points=\"310.5362,-156.513 302.5576,-149.5422 304.4477,-159.967 310.5362,-156.513\"/>\n</g>\n<!-- 14 -->\n<g id=\"node15\" class=\"node\">\n<title>14</title>\n<polygon fill=\"#9ccef2\" stroke=\"#000000\" points=\"457.5,-157 355.5,-157 355.5,-89 457.5,-89 457.5,-157\"/>\n<text text-anchor=\"middle\" x=\"406.5\" y=\"-141.8\" font-family=\"Helvetica,sans-Serif\" font-size=\"14.00\" fill=\"#000000\">age &lt;= 0.677</text>\n<text text-anchor=\"middle\" x=\"406.5\" y=\"-126.8\" font-family=\"Helvetica,sans-Serif\" font-size=\"14.00\" fill=\"#000000\">samples = 3</text>\n<text text-anchor=\"middle\" x=\"406.5\" y=\"-111.8\" font-family=\"Helvetica,sans-Serif\" font-size=\"14.00\" fill=\"#000000\">value = [1, 2]</text>\n<text text-anchor=\"middle\" x=\"406.5\" y=\"-96.8\" font-family=\"Helvetica,sans-Serif\" font-size=\"14.00\" fill=\"#000000\">class = 0</text>\n</g>\n<!-- 12&#45;&gt;14 -->\n<g id=\"edge14\" class=\"edge\">\n<title>12&#45;&gt;14</title>\n<path fill=\"none\" stroke=\"#000000\" d=\"M366.1462,-192.9465C371.119,-184.3271 376.5243,-174.9579 381.7148,-165.9611\"/>\n<polygon fill=\"#000000\" stroke=\"#000000\" points=\"384.844,-167.5409 386.8096,-157.13 378.7807,-164.0428 384.844,-167.5409\"/>\n</g>\n<!-- 15 -->\n<g id=\"node16\" class=\"node\">\n<title>15</title>\n<polygon fill=\"#e58139\" stroke=\"#000000\" points=\"398,-53 299,-53 299,0 398,0 398,-53\"/>\n<text text-anchor=\"middle\" x=\"348.5\" y=\"-37.8\" font-family=\"Helvetica,sans-Serif\" font-size=\"14.00\" fill=\"#000000\">samples = 1</text>\n<text text-anchor=\"middle\" x=\"348.5\" y=\"-22.8\" font-family=\"Helvetica,sans-Serif\" font-size=\"14.00\" fill=\"#000000\">value = [1, 0]</text>\n<text text-anchor=\"middle\" x=\"348.5\" y=\"-7.8\" font-family=\"Helvetica,sans-Serif\" font-size=\"14.00\" fill=\"#000000\">class = 1</text>\n</g>\n<!-- 14&#45;&gt;15 -->\n<g id=\"edge15\" class=\"edge\">\n<title>14&#45;&gt;15</title>\n<path fill=\"none\" stroke=\"#000000\" d=\"M386.0514,-88.9777C380.7678,-80.187 375.0684,-70.7044 369.7452,-61.8477\"/>\n<polygon fill=\"#000000\" stroke=\"#000000\" points=\"372.7282,-60.0165 364.5768,-53.2485 366.7285,-63.6225 372.7282,-60.0165\"/>\n</g>\n<!-- 16 -->\n<g id=\"node17\" class=\"node\">\n<title>16</title>\n<polygon fill=\"#399de5\" stroke=\"#000000\" points=\"515,-53 416,-53 416,0 515,0 515,-53\"/>\n<text text-anchor=\"middle\" x=\"465.5\" y=\"-37.8\" font-family=\"Helvetica,sans-Serif\" font-size=\"14.00\" fill=\"#000000\">samples = 2</text>\n<text text-anchor=\"middle\" x=\"465.5\" y=\"-22.8\" font-family=\"Helvetica,sans-Serif\" font-size=\"14.00\" fill=\"#000000\">value = [0, 2]</text>\n<text text-anchor=\"middle\" x=\"465.5\" y=\"-7.8\" font-family=\"Helvetica,sans-Serif\" font-size=\"14.00\" fill=\"#000000\">class = 0</text>\n</g>\n<!-- 14&#45;&gt;16 -->\n<g id=\"edge16\" class=\"edge\">\n<title>14&#45;&gt;16</title>\n<path fill=\"none\" stroke=\"#000000\" d=\"M427.3012,-88.9777C432.6758,-80.187 438.4735,-70.7044 443.8885,-61.8477\"/>\n<polygon fill=\"#000000\" stroke=\"#000000\" points=\"446.9158,-63.6059 449.146,-53.2485 440.9436,-59.9545 446.9158,-63.6059\"/>\n</g>\n<!-- 19 -->\n<g id=\"node20\" class=\"node\">\n<title>19</title>\n<polygon fill=\"#d7ebfa\" stroke=\"#000000\" points=\"461.5,-573 359.5,-573 359.5,-505 461.5,-505 461.5,-573\"/>\n<text text-anchor=\"middle\" x=\"410.5\" y=\"-557.8\" font-family=\"Helvetica,sans-Serif\" font-size=\"14.00\" fill=\"#000000\">age &lt;= 0.271</text>\n<text text-anchor=\"middle\" x=\"410.5\" y=\"-542.8\" font-family=\"Helvetica,sans-Serif\" font-size=\"14.00\" fill=\"#000000\">samples = 9</text>\n<text text-anchor=\"middle\" x=\"410.5\" y=\"-527.8\" font-family=\"Helvetica,sans-Serif\" font-size=\"14.00\" fill=\"#000000\">value = [4, 5]</text>\n<text text-anchor=\"middle\" x=\"410.5\" y=\"-512.8\" font-family=\"Helvetica,sans-Serif\" font-size=\"14.00\" fill=\"#000000\">class = 0</text>\n</g>\n<!-- 18&#45;&gt;19 -->\n<g id=\"edge19\" class=\"edge\">\n<title>18&#45;&gt;19</title>\n<path fill=\"none\" stroke=\"#000000\" d=\"M427.9866,-608.9465C425.9216,-600.6863 423.6843,-591.7374 421.5219,-583.0875\"/>\n<polygon fill=\"#000000\" stroke=\"#000000\" points=\"424.8534,-581.9825 419.0325,-573.13 418.0624,-583.6803 424.8534,-581.9825\"/>\n</g>\n<!-- 24 -->\n<g id=\"node25\" class=\"node\">\n<title>24</title>\n<polygon fill=\"#e58139\" stroke=\"#000000\" points=\"587,-565.5 480,-565.5 480,-512.5 587,-512.5 587,-565.5\"/>\n<text text-anchor=\"middle\" x=\"533.5\" y=\"-550.3\" font-family=\"Helvetica,sans-Serif\" font-size=\"14.00\" fill=\"#000000\">samples = 12</text>\n<text text-anchor=\"middle\" x=\"533.5\" y=\"-535.3\" font-family=\"Helvetica,sans-Serif\" font-size=\"14.00\" fill=\"#000000\">value = [12, 0]</text>\n<text text-anchor=\"middle\" x=\"533.5\" y=\"-520.3\" font-family=\"Helvetica,sans-Serif\" font-size=\"14.00\" fill=\"#000000\">class = 1</text>\n</g>\n<!-- 18&#45;&gt;24 -->\n<g id=\"edge24\" class=\"edge\">\n<title>18&#45;&gt;24</title>\n<path fill=\"none\" stroke=\"#000000\" d=\"M468.2614,-608.9465C479.0486,-597.3809 491.095,-584.4652 501.8718,-572.9107\"/>\n<polygon fill=\"#000000\" stroke=\"#000000\" points=\"504.4831,-575.2423 508.7443,-565.5422 499.3641,-570.4678 504.4831,-575.2423\"/>\n</g>\n<!-- 20 -->\n<g id=\"node21\" class=\"node\">\n<title>20</title>\n<polygon fill=\"#e58139\" stroke=\"#000000\" points=\"460,-461.5 361,-461.5 361,-408.5 460,-408.5 460,-461.5\"/>\n<text text-anchor=\"middle\" x=\"410.5\" y=\"-446.3\" font-family=\"Helvetica,sans-Serif\" font-size=\"14.00\" fill=\"#000000\">samples = 3</text>\n<text text-anchor=\"middle\" x=\"410.5\" y=\"-431.3\" font-family=\"Helvetica,sans-Serif\" font-size=\"14.00\" fill=\"#000000\">value = [3, 0]</text>\n<text text-anchor=\"middle\" x=\"410.5\" y=\"-416.3\" font-family=\"Helvetica,sans-Serif\" font-size=\"14.00\" fill=\"#000000\">class = 1</text>\n</g>\n<!-- 19&#45;&gt;20 -->\n<g id=\"edge20\" class=\"edge\">\n<title>19&#45;&gt;20</title>\n<path fill=\"none\" stroke=\"#000000\" d=\"M410.5,-504.9465C410.5,-494.2621 410.5,-482.4254 410.5,-471.5742\"/>\n<polygon fill=\"#000000\" stroke=\"#000000\" points=\"414.0001,-471.5421 410.5,-461.5422 407.0001,-471.5422 414.0001,-471.5421\"/>\n</g>\n<!-- 21 -->\n<g id=\"node22\" class=\"node\">\n<title>21</title>\n<polygon fill=\"#61b1ea\" stroke=\"#000000\" points=\"582.5,-469 478.5,-469 478.5,-401 582.5,-401 582.5,-469\"/>\n<text text-anchor=\"middle\" x=\"530.5\" y=\"-453.8\" font-family=\"Helvetica,sans-Serif\" font-size=\"14.00\" fill=\"#000000\">chol &lt;= 0.255</text>\n<text text-anchor=\"middle\" x=\"530.5\" y=\"-438.8\" font-family=\"Helvetica,sans-Serif\" font-size=\"14.00\" fill=\"#000000\">samples = 6</text>\n<text text-anchor=\"middle\" x=\"530.5\" y=\"-423.8\" font-family=\"Helvetica,sans-Serif\" font-size=\"14.00\" fill=\"#000000\">value = [1, 5]</text>\n<text text-anchor=\"middle\" x=\"530.5\" y=\"-408.8\" font-family=\"Helvetica,sans-Serif\" font-size=\"14.00\" fill=\"#000000\">class = 0</text>\n</g>\n<!-- 19&#45;&gt;21 -->\n<g id=\"edge21\" class=\"edge\">\n<title>19&#45;&gt;21</title>\n<path fill=\"none\" stroke=\"#000000\" d=\"M449.7925,-504.9465C460.5667,-495.6088 472.3564,-485.3911 483.515,-475.7203\"/>\n<polygon fill=\"#000000\" stroke=\"#000000\" points=\"485.8546,-478.3243 491.1192,-469.13 481.2701,-473.0344 485.8546,-478.3243\"/>\n</g>\n<!-- 22 -->\n<g id=\"node23\" class=\"node\">\n<title>22</title>\n<polygon fill=\"#399de5\" stroke=\"#000000\" points=\"580,-357.5 481,-357.5 481,-304.5 580,-304.5 580,-357.5\"/>\n<text text-anchor=\"middle\" x=\"530.5\" y=\"-342.3\" font-family=\"Helvetica,sans-Serif\" font-size=\"14.00\" fill=\"#000000\">samples = 5</text>\n<text text-anchor=\"middle\" x=\"530.5\" y=\"-327.3\" font-family=\"Helvetica,sans-Serif\" font-size=\"14.00\" fill=\"#000000\">value = [0, 5]</text>\n<text text-anchor=\"middle\" x=\"530.5\" y=\"-312.3\" font-family=\"Helvetica,sans-Serif\" font-size=\"14.00\" fill=\"#000000\">class = 0</text>\n</g>\n<!-- 21&#45;&gt;22 -->\n<g id=\"edge22\" class=\"edge\">\n<title>21&#45;&gt;22</title>\n<path fill=\"none\" stroke=\"#000000\" d=\"M530.5,-400.9465C530.5,-390.2621 530.5,-378.4254 530.5,-367.5742\"/>\n<polygon fill=\"#000000\" stroke=\"#000000\" points=\"534.0001,-367.5421 530.5,-357.5422 527.0001,-367.5422 534.0001,-367.5421\"/>\n</g>\n<!-- 23 -->\n<g id=\"node24\" class=\"node\">\n<title>23</title>\n<polygon fill=\"#e58139\" stroke=\"#000000\" points=\"697,-357.5 598,-357.5 598,-304.5 697,-304.5 697,-357.5\"/>\n<text text-anchor=\"middle\" x=\"647.5\" y=\"-342.3\" font-family=\"Helvetica,sans-Serif\" font-size=\"14.00\" fill=\"#000000\">samples = 1</text>\n<text text-anchor=\"middle\" x=\"647.5\" y=\"-327.3\" font-family=\"Helvetica,sans-Serif\" font-size=\"14.00\" fill=\"#000000\">value = [1, 0]</text>\n<text text-anchor=\"middle\" x=\"647.5\" y=\"-312.3\" font-family=\"Helvetica,sans-Serif\" font-size=\"14.00\" fill=\"#000000\">class = 1</text>\n</g>\n<!-- 21&#45;&gt;23 -->\n<g id=\"edge23\" class=\"edge\">\n<title>21&#45;&gt;23</title>\n<path fill=\"none\" stroke=\"#000000\" d=\"M568.8102,-400.9465C582.0694,-389.1606 596.9058,-375.9726 610.0916,-364.2519\"/>\n<polygon fill=\"#000000\" stroke=\"#000000\" points=\"612.4912,-366.8018 617.6401,-357.5422 607.8407,-361.5699 612.4912,-366.8018\"/>\n</g>\n<!-- 26 -->\n<g id=\"node27\" class=\"node\">\n<title>26</title>\n<polygon fill=\"#e58139\" stroke=\"#000000\" points=\"655,-669.5 548,-669.5 548,-616.5 655,-616.5 655,-669.5\"/>\n<text text-anchor=\"middle\" x=\"601.5\" y=\"-654.3\" font-family=\"Helvetica,sans-Serif\" font-size=\"14.00\" fill=\"#000000\">samples = 47</text>\n<text text-anchor=\"middle\" x=\"601.5\" y=\"-639.3\" font-family=\"Helvetica,sans-Serif\" font-size=\"14.00\" fill=\"#000000\">value = [47, 0]</text>\n<text text-anchor=\"middle\" x=\"601.5\" y=\"-624.3\" font-family=\"Helvetica,sans-Serif\" font-size=\"14.00\" fill=\"#000000\">class = 1</text>\n</g>\n<!-- 25&#45;&gt;26 -->\n<g id=\"edge26\" class=\"edge\">\n<title>25&#45;&gt;26</title>\n<path fill=\"none\" stroke=\"#000000\" d=\"M645.2166,-712.9465C638.2634,-701.8215 630.5295,-689.4473 623.5231,-678.237\"/>\n<polygon fill=\"#000000\" stroke=\"#000000\" points=\"626.3569,-676.1671 618.0889,-669.5422 620.4209,-679.8772 626.3569,-676.1671\"/>\n</g>\n<!-- 27 -->\n<g id=\"node28\" class=\"node\">\n<title>27</title>\n<polygon fill=\"#eb9e67\" stroke=\"#000000\" points=\"790,-677 673,-677 673,-609 790,-609 790,-677\"/>\n<text text-anchor=\"middle\" x=\"731.5\" y=\"-661.8\" font-family=\"Helvetica,sans-Serif\" font-size=\"14.00\" fill=\"#000000\">restecg &lt;= 0.25</text>\n<text text-anchor=\"middle\" x=\"731.5\" y=\"-646.8\" font-family=\"Helvetica,sans-Serif\" font-size=\"14.00\" fill=\"#000000\">samples = 16</text>\n<text text-anchor=\"middle\" x=\"731.5\" y=\"-631.8\" font-family=\"Helvetica,sans-Serif\" font-size=\"14.00\" fill=\"#000000\">value = [13, 3]</text>\n<text text-anchor=\"middle\" x=\"731.5\" y=\"-616.8\" font-family=\"Helvetica,sans-Serif\" font-size=\"14.00\" fill=\"#000000\">class = 1</text>\n</g>\n<!-- 25&#45;&gt;27 -->\n<g id=\"edge27\" class=\"edge\">\n<title>25&#45;&gt;27</title>\n<path fill=\"none\" stroke=\"#000000\" d=\"M687.7834,-712.9465C693.2267,-704.2373 699.1484,-694.7626 704.825,-685.6801\"/>\n<polygon fill=\"#000000\" stroke=\"#000000\" points=\"707.8367,-687.465 710.1688,-677.13 701.9007,-683.755 707.8367,-687.465\"/>\n</g>\n<!-- 28 -->\n<g id=\"node29\" class=\"node\">\n<title>28</title>\n<polygon fill=\"#e58139\" stroke=\"#000000\" points=\"712,-565.5 605,-565.5 605,-512.5 712,-512.5 712,-565.5\"/>\n<text text-anchor=\"middle\" x=\"658.5\" y=\"-550.3\" font-family=\"Helvetica,sans-Serif\" font-size=\"14.00\" fill=\"#000000\">samples = 10</text>\n<text text-anchor=\"middle\" x=\"658.5\" y=\"-535.3\" font-family=\"Helvetica,sans-Serif\" font-size=\"14.00\" fill=\"#000000\">value = [10, 0]</text>\n<text text-anchor=\"middle\" x=\"658.5\" y=\"-520.3\" font-family=\"Helvetica,sans-Serif\" font-size=\"14.00\" fill=\"#000000\">class = 1</text>\n</g>\n<!-- 27&#45;&gt;28 -->\n<g id=\"edge28\" class=\"edge\">\n<title>27&#45;&gt;28</title>\n<path fill=\"none\" stroke=\"#000000\" d=\"M707.5971,-608.9465C699.7108,-597.7113 690.9303,-585.2021 683.0002,-573.9043\"/>\n<polygon fill=\"#000000\" stroke=\"#000000\" points=\"685.7405,-571.7163 677.1306,-565.5422 680.0111,-575.7379 685.7405,-571.7163\"/>\n</g>\n<!-- 29 -->\n<g id=\"node30\" class=\"node\">\n<title>29</title>\n<polygon fill=\"#ffffff\" stroke=\"#000000\" points=\"829,-573 730,-573 730,-505 829,-505 829,-573\"/>\n<text text-anchor=\"middle\" x=\"779.5\" y=\"-557.8\" font-family=\"Helvetica,sans-Serif\" font-size=\"14.00\" fill=\"#000000\">fbs &lt;= 0.5</text>\n<text text-anchor=\"middle\" x=\"779.5\" y=\"-542.8\" font-family=\"Helvetica,sans-Serif\" font-size=\"14.00\" fill=\"#000000\">samples = 6</text>\n<text text-anchor=\"middle\" x=\"779.5\" y=\"-527.8\" font-family=\"Helvetica,sans-Serif\" font-size=\"14.00\" fill=\"#000000\">value = [3, 3]</text>\n<text text-anchor=\"middle\" x=\"779.5\" y=\"-512.8\" font-family=\"Helvetica,sans-Serif\" font-size=\"14.00\" fill=\"#000000\">class = 1</text>\n</g>\n<!-- 27&#45;&gt;29 -->\n<g id=\"edge29\" class=\"edge\">\n<title>27&#45;&gt;29</title>\n<path fill=\"none\" stroke=\"#000000\" d=\"M747.217,-608.9465C751.1537,-600.4169 755.4294,-591.153 759.542,-582.2424\"/>\n<polygon fill=\"#000000\" stroke=\"#000000\" points=\"762.7349,-583.6763 763.7477,-573.13 756.3792,-580.7429 762.7349,-583.6763\"/>\n</g>\n<!-- 30 -->\n<g id=\"node31\" class=\"node\">\n<title>30</title>\n<polygon fill=\"#399de5\" stroke=\"#000000\" points=\"770,-461.5 671,-461.5 671,-408.5 770,-408.5 770,-461.5\"/>\n<text text-anchor=\"middle\" x=\"720.5\" y=\"-446.3\" font-family=\"Helvetica,sans-Serif\" font-size=\"14.00\" fill=\"#000000\">samples = 3</text>\n<text text-anchor=\"middle\" x=\"720.5\" y=\"-431.3\" font-family=\"Helvetica,sans-Serif\" font-size=\"14.00\" fill=\"#000000\">value = [0, 3]</text>\n<text text-anchor=\"middle\" x=\"720.5\" y=\"-416.3\" font-family=\"Helvetica,sans-Serif\" font-size=\"14.00\" fill=\"#000000\">class = 0</text>\n</g>\n<!-- 29&#45;&gt;30 -->\n<g id=\"edge30\" class=\"edge\">\n<title>29&#45;&gt;30</title>\n<path fill=\"none\" stroke=\"#000000\" d=\"M760.1812,-504.9465C753.9324,-493.9316 746.9888,-481.6922 740.6793,-470.5703\"/>\n<polygon fill=\"#000000\" stroke=\"#000000\" points=\"743.5362,-468.513 735.5576,-461.5422 737.4477,-471.967 743.5362,-468.513\"/>\n</g>\n<!-- 31 -->\n<g id=\"node32\" class=\"node\">\n<title>31</title>\n<polygon fill=\"#e58139\" stroke=\"#000000\" points=\"887,-461.5 788,-461.5 788,-408.5 887,-408.5 887,-461.5\"/>\n<text text-anchor=\"middle\" x=\"837.5\" y=\"-446.3\" font-family=\"Helvetica,sans-Serif\" font-size=\"14.00\" fill=\"#000000\">samples = 3</text>\n<text text-anchor=\"middle\" x=\"837.5\" y=\"-431.3\" font-family=\"Helvetica,sans-Serif\" font-size=\"14.00\" fill=\"#000000\">value = [3, 0]</text>\n<text text-anchor=\"middle\" x=\"837.5\" y=\"-416.3\" font-family=\"Helvetica,sans-Serif\" font-size=\"14.00\" fill=\"#000000\">class = 1</text>\n</g>\n<!-- 29&#45;&gt;31 -->\n<g id=\"edge31\" class=\"edge\">\n<title>29&#45;&gt;31</title>\n<path fill=\"none\" stroke=\"#000000\" d=\"M798.4914,-504.9465C804.6343,-493.9316 811.4601,-481.6922 817.6627,-470.5703\"/>\n<polygon fill=\"#000000\" stroke=\"#000000\" points=\"820.8837,-471.9806 822.6976,-461.5422 814.7701,-468.5711 820.8837,-471.9806\"/>\n</g>\n<!-- 33 -->\n<g id=\"node34\" class=\"node\">\n<title>33</title>\n<polygon fill=\"#3d9fe6\" stroke=\"#000000\" points=\"995,-781 888,-781 888,-713 995,-713 995,-781\"/>\n<text text-anchor=\"middle\" x=\"941.5\" y=\"-765.8\" font-family=\"Helvetica,sans-Serif\" font-size=\"14.00\" fill=\"#000000\">ca &lt;= 0.375</text>\n<text text-anchor=\"middle\" x=\"941.5\" y=\"-750.8\" font-family=\"Helvetica,sans-Serif\" font-size=\"14.00\" fill=\"#000000\">samples = 47</text>\n<text text-anchor=\"middle\" x=\"941.5\" y=\"-735.8\" font-family=\"Helvetica,sans-Serif\" font-size=\"14.00\" fill=\"#000000\">value = [1, 46]</text>\n<text text-anchor=\"middle\" x=\"941.5\" y=\"-720.8\" font-family=\"Helvetica,sans-Serif\" font-size=\"14.00\" fill=\"#000000\">class = 0</text>\n</g>\n<!-- 32&#45;&gt;33 -->\n<g id=\"edge33\" class=\"edge\">\n<title>32&#45;&gt;33</title>\n<path fill=\"none\" stroke=\"#000000\" d=\"M941.5,-816.9465C941.5,-808.776 941.5,-799.9318 941.5,-791.3697\"/>\n<polygon fill=\"#000000\" stroke=\"#000000\" points=\"945.0001,-791.13 941.5,-781.13 938.0001,-791.13 945.0001,-791.13\"/>\n</g>\n<!-- 38 -->\n<g id=\"node39\" class=\"node\">\n<title>38</title>\n<polygon fill=\"#9ccef2\" stroke=\"#000000\" points=\"1267.5,-781 1151.5,-781 1151.5,-713 1267.5,-713 1267.5,-781\"/>\n<text text-anchor=\"middle\" x=\"1209.5\" y=\"-765.8\" font-family=\"Helvetica,sans-Serif\" font-size=\"14.00\" fill=\"#000000\">age &lt;= 0.573</text>\n<text text-anchor=\"middle\" x=\"1209.5\" y=\"-750.8\" font-family=\"Helvetica,sans-Serif\" font-size=\"14.00\" fill=\"#000000\">samples = 78</text>\n<text text-anchor=\"middle\" x=\"1209.5\" y=\"-735.8\" font-family=\"Helvetica,sans-Serif\" font-size=\"14.00\" fill=\"#000000\">value = [26, 52]</text>\n<text text-anchor=\"middle\" x=\"1209.5\" y=\"-720.8\" font-family=\"Helvetica,sans-Serif\" font-size=\"14.00\" fill=\"#000000\">class = 0</text>\n</g>\n<!-- 32&#45;&gt;38 -->\n<g id=\"edge38\" class=\"edge\">\n<title>32&#45;&gt;38</title>\n<path fill=\"none\" stroke=\"#000000\" d=\"M999.652,-828.4335C1041.5317,-812.1817 1098.1495,-790.2107 1142.021,-773.1859\"/>\n<polygon fill=\"#000000\" stroke=\"#000000\" points=\"1143.4051,-776.4032 1151.4615,-769.5224 1140.8726,-769.8773 1143.4051,-776.4032\"/>\n</g>\n<!-- 34 -->\n<g id=\"node35\" class=\"node\">\n<title>34</title>\n<polygon fill=\"#399de5\" stroke=\"#000000\" points=\"930,-669.5 823,-669.5 823,-616.5 930,-616.5 930,-669.5\"/>\n<text text-anchor=\"middle\" x=\"876.5\" y=\"-654.3\" font-family=\"Helvetica,sans-Serif\" font-size=\"14.00\" fill=\"#000000\">samples = 43</text>\n<text text-anchor=\"middle\" x=\"876.5\" y=\"-639.3\" font-family=\"Helvetica,sans-Serif\" font-size=\"14.00\" fill=\"#000000\">value = [0, 43]</text>\n<text text-anchor=\"middle\" x=\"876.5\" y=\"-624.3\" font-family=\"Helvetica,sans-Serif\" font-size=\"14.00\" fill=\"#000000\">class = 0</text>\n</g>\n<!-- 33&#45;&gt;34 -->\n<g id=\"edge34\" class=\"edge\">\n<title>33&#45;&gt;34</title>\n<path fill=\"none\" stroke=\"#000000\" d=\"M920.2166,-712.9465C913.2634,-701.8215 905.5295,-689.4473 898.5231,-678.237\"/>\n<polygon fill=\"#000000\" stroke=\"#000000\" points=\"901.3569,-676.1671 893.0889,-669.5422 895.4209,-679.8772 901.3569,-676.1671\"/>\n</g>\n<!-- 35 -->\n<g id=\"node36\" class=\"node\">\n<title>35</title>\n<polygon fill=\"#7bbeee\" stroke=\"#000000\" points=\"1065,-677 948,-677 948,-609 1065,-609 1065,-677\"/>\n<text text-anchor=\"middle\" x=\"1006.5\" y=\"-661.8\" font-family=\"Helvetica,sans-Serif\" font-size=\"14.00\" fill=\"#000000\">restecg &lt;= 0.25</text>\n<text text-anchor=\"middle\" x=\"1006.5\" y=\"-646.8\" font-family=\"Helvetica,sans-Serif\" font-size=\"14.00\" fill=\"#000000\">samples = 4</text>\n<text text-anchor=\"middle\" x=\"1006.5\" y=\"-631.8\" font-family=\"Helvetica,sans-Serif\" font-size=\"14.00\" fill=\"#000000\">value = [1, 3]</text>\n<text text-anchor=\"middle\" x=\"1006.5\" y=\"-616.8\" font-family=\"Helvetica,sans-Serif\" font-size=\"14.00\" fill=\"#000000\">class = 0</text>\n</g>\n<!-- 33&#45;&gt;35 -->\n<g id=\"edge35\" class=\"edge\">\n<title>33&#45;&gt;35</title>\n<path fill=\"none\" stroke=\"#000000\" d=\"M962.7834,-712.9465C968.2267,-704.2373 974.1484,-694.7626 979.825,-685.6801\"/>\n<polygon fill=\"#000000\" stroke=\"#000000\" points=\"982.8367,-687.465 985.1688,-677.13 976.9007,-683.755 982.8367,-687.465\"/>\n</g>\n<!-- 36 -->\n<g id=\"node37\" class=\"node\">\n<title>36</title>\n<polygon fill=\"#e58139\" stroke=\"#000000\" points=\"946,-565.5 847,-565.5 847,-512.5 946,-512.5 946,-565.5\"/>\n<text text-anchor=\"middle\" x=\"896.5\" y=\"-550.3\" font-family=\"Helvetica,sans-Serif\" font-size=\"14.00\" fill=\"#000000\">samples = 1</text>\n<text text-anchor=\"middle\" x=\"896.5\" y=\"-535.3\" font-family=\"Helvetica,sans-Serif\" font-size=\"14.00\" fill=\"#000000\">value = [1, 0]</text>\n<text text-anchor=\"middle\" x=\"896.5\" y=\"-520.3\" font-family=\"Helvetica,sans-Serif\" font-size=\"14.00\" fill=\"#000000\">class = 1</text>\n</g>\n<!-- 35&#45;&gt;36 -->\n<g id=\"edge36\" class=\"edge\">\n<title>35&#45;&gt;36</title>\n<path fill=\"none\" stroke=\"#000000\" d=\"M970.4819,-608.9465C958.1325,-597.2707 944.3278,-584.219 932.0183,-572.5809\"/>\n<polygon fill=\"#000000\" stroke=\"#000000\" points=\"934.2445,-569.869 924.5734,-565.5422 929.4354,-574.9556 934.2445,-569.869\"/>\n</g>\n<!-- 37 -->\n<g id=\"node38\" class=\"node\">\n<title>37</title>\n<polygon fill=\"#399de5\" stroke=\"#000000\" points=\"1063,-565.5 964,-565.5 964,-512.5 1063,-512.5 1063,-565.5\"/>\n<text text-anchor=\"middle\" x=\"1013.5\" y=\"-550.3\" font-family=\"Helvetica,sans-Serif\" font-size=\"14.00\" fill=\"#000000\">samples = 3</text>\n<text text-anchor=\"middle\" x=\"1013.5\" y=\"-535.3\" font-family=\"Helvetica,sans-Serif\" font-size=\"14.00\" fill=\"#000000\">value = [0, 3]</text>\n<text text-anchor=\"middle\" x=\"1013.5\" y=\"-520.3\" font-family=\"Helvetica,sans-Serif\" font-size=\"14.00\" fill=\"#000000\">class = 0</text>\n</g>\n<!-- 35&#45;&gt;37 -->\n<g id=\"edge37\" class=\"edge\">\n<title>35&#45;&gt;37</title>\n<path fill=\"none\" stroke=\"#000000\" d=\"M1008.7921,-608.9465C1009.5112,-598.2621 1010.3079,-586.4254 1011.0383,-575.5742\"/>\n<polygon fill=\"#000000\" stroke=\"#000000\" points=\"1014.534,-575.7547 1011.7135,-565.5422 1007.5498,-575.2845 1014.534,-575.7547\"/>\n</g>\n<!-- 39 -->\n<g id=\"node40\" class=\"node\">\n<title>39</title>\n<polygon fill=\"#66b3eb\" stroke=\"#000000\" points=\"1272,-677 1147,-677 1147,-609 1272,-609 1272,-677\"/>\n<text text-anchor=\"middle\" x=\"1209.5\" y=\"-661.8\" font-family=\"Helvetica,sans-Serif\" font-size=\"14.00\" fill=\"#000000\">thalach &lt;= 0.592</text>\n<text text-anchor=\"middle\" x=\"1209.5\" y=\"-646.8\" font-family=\"Helvetica,sans-Serif\" font-size=\"14.00\" fill=\"#000000\">samples = 49</text>\n<text text-anchor=\"middle\" x=\"1209.5\" y=\"-631.8\" font-family=\"Helvetica,sans-Serif\" font-size=\"14.00\" fill=\"#000000\">value = [9, 40]</text>\n<text text-anchor=\"middle\" x=\"1209.5\" y=\"-616.8\" font-family=\"Helvetica,sans-Serif\" font-size=\"14.00\" fill=\"#000000\">class = 0</text>\n</g>\n<!-- 38&#45;&gt;39 -->\n<g id=\"edge39\" class=\"edge\">\n<title>38&#45;&gt;39</title>\n<path fill=\"none\" stroke=\"#000000\" d=\"M1209.5,-712.9465C1209.5,-704.776 1209.5,-695.9318 1209.5,-687.3697\"/>\n<polygon fill=\"#000000\" stroke=\"#000000\" points=\"1213.0001,-687.13 1209.5,-677.13 1206.0001,-687.13 1213.0001,-687.13\"/>\n</g>\n<!-- 56 -->\n<g id=\"node57\" class=\"node\">\n<title>56</title>\n<polygon fill=\"#f7dac5\" stroke=\"#000000\" points=\"1721.5,-677 1605.5,-677 1605.5,-609 1721.5,-609 1721.5,-677\"/>\n<text text-anchor=\"middle\" x=\"1663.5\" y=\"-661.8\" font-family=\"Helvetica,sans-Serif\" font-size=\"14.00\" fill=\"#000000\">chol &lt;= 0.271</text>\n<text text-anchor=\"middle\" x=\"1663.5\" y=\"-646.8\" font-family=\"Helvetica,sans-Serif\" font-size=\"14.00\" fill=\"#000000\">samples = 29</text>\n<text text-anchor=\"middle\" x=\"1663.5\" y=\"-631.8\" font-family=\"Helvetica,sans-Serif\" font-size=\"14.00\" fill=\"#000000\">value = [17, 12]</text>\n<text text-anchor=\"middle\" x=\"1663.5\" y=\"-616.8\" font-family=\"Helvetica,sans-Serif\" font-size=\"14.00\" fill=\"#000000\">class = 1</text>\n</g>\n<!-- 38&#45;&gt;56 -->\n<g id=\"edge56\" class=\"edge\">\n<title>38&#45;&gt;56</title>\n<path fill=\"none\" stroke=\"#000000\" d=\"M1267.9231,-733.6167C1351.862,-714.3884 1506.2528,-679.0214 1595.304,-658.622\"/>\n<polygon fill=\"#000000\" stroke=\"#000000\" points=\"1596.3351,-661.9765 1605.3011,-656.3319 1594.772,-655.1533 1596.3351,-661.9765\"/>\n</g>\n<!-- 40 -->\n<g id=\"node41\" class=\"node\">\n<title>40</title>\n<polygon fill=\"#efb388\" stroke=\"#000000\" points=\"1183.5,-573 1081.5,-573 1081.5,-505 1183.5,-505 1183.5,-573\"/>\n<text text-anchor=\"middle\" x=\"1132.5\" y=\"-557.8\" font-family=\"Helvetica,sans-Serif\" font-size=\"14.00\" fill=\"#000000\">age &lt;= 0.438</text>\n<text text-anchor=\"middle\" x=\"1132.5\" y=\"-542.8\" font-family=\"Helvetica,sans-Serif\" font-size=\"14.00\" fill=\"#000000\">samples = 7</text>\n<text text-anchor=\"middle\" x=\"1132.5\" y=\"-527.8\" font-family=\"Helvetica,sans-Serif\" font-size=\"14.00\" fill=\"#000000\">value = [5, 2]</text>\n<text text-anchor=\"middle\" x=\"1132.5\" y=\"-512.8\" font-family=\"Helvetica,sans-Serif\" font-size=\"14.00\" fill=\"#000000\">class = 1</text>\n</g>\n<!-- 39&#45;&gt;40 -->\n<g id=\"edge40\" class=\"edge\">\n<title>39&#45;&gt;40</title>\n<path fill=\"none\" stroke=\"#000000\" d=\"M1184.2873,-608.9465C1177.7727,-600.1475 1170.6795,-590.5672 1163.8918,-581.3993\"/>\n<polygon fill=\"#000000\" stroke=\"#000000\" points=\"1166.5327,-579.0843 1157.7693,-573.13 1160.9069,-583.2496 1166.5327,-579.0843\"/>\n</g>\n<!-- 45 -->\n<g id=\"node46\" class=\"node\">\n<title>45</title>\n<polygon fill=\"#4ea7e8\" stroke=\"#000000\" points=\"1331,-573 1202,-573 1202,-505 1331,-505 1331,-573\"/>\n<text text-anchor=\"middle\" x=\"1266.5\" y=\"-557.8\" font-family=\"Helvetica,sans-Serif\" font-size=\"14.00\" fill=\"#000000\">trestbps &lt;= 0.736</text>\n<text text-anchor=\"middle\" x=\"1266.5\" y=\"-542.8\" font-family=\"Helvetica,sans-Serif\" font-size=\"14.00\" fill=\"#000000\">samples = 42</text>\n<text text-anchor=\"middle\" x=\"1266.5\" y=\"-527.8\" font-family=\"Helvetica,sans-Serif\" font-size=\"14.00\" fill=\"#000000\">value = [4, 38]</text>\n<text text-anchor=\"middle\" x=\"1266.5\" y=\"-512.8\" font-family=\"Helvetica,sans-Serif\" font-size=\"14.00\" fill=\"#000000\">class = 0</text>\n</g>\n<!-- 39&#45;&gt;45 -->\n<g id=\"edge45\" class=\"edge\">\n<title>39&#45;&gt;45</title>\n<path fill=\"none\" stroke=\"#000000\" d=\"M1228.1639,-608.9465C1232.888,-600.3271 1238.0231,-590.9579 1242.954,-581.9611\"/>\n<polygon fill=\"#000000\" stroke=\"#000000\" points=\"1246.0571,-583.5815 1247.7941,-573.13 1239.9186,-580.2171 1246.0571,-583.5815\"/>\n</g>\n<!-- 41 -->\n<g id=\"node42\" class=\"node\">\n<title>41</title>\n<polygon fill=\"#e58139\" stroke=\"#000000\" points=\"1065,-461.5 966,-461.5 966,-408.5 1065,-408.5 1065,-461.5\"/>\n<text text-anchor=\"middle\" x=\"1015.5\" y=\"-446.3\" font-family=\"Helvetica,sans-Serif\" font-size=\"14.00\" fill=\"#000000\">samples = 4</text>\n<text text-anchor=\"middle\" x=\"1015.5\" y=\"-431.3\" font-family=\"Helvetica,sans-Serif\" font-size=\"14.00\" fill=\"#000000\">value = [4, 0]</text>\n<text text-anchor=\"middle\" x=\"1015.5\" y=\"-416.3\" font-family=\"Helvetica,sans-Serif\" font-size=\"14.00\" fill=\"#000000\">class = 1</text>\n</g>\n<!-- 40&#45;&gt;41 -->\n<g id=\"edge41\" class=\"edge\">\n<title>40&#45;&gt;41</title>\n<path fill=\"none\" stroke=\"#000000\" d=\"M1094.1898,-504.9465C1080.9306,-493.1606 1066.0942,-479.9726 1052.9084,-468.2519\"/>\n<polygon fill=\"#000000\" stroke=\"#000000\" points=\"1055.1593,-465.5699 1045.3599,-461.5422 1050.5088,-470.8018 1055.1593,-465.5699\"/>\n</g>\n<!-- 42 -->\n<g id=\"node43\" class=\"node\">\n<title>42</title>\n<polygon fill=\"#9ccef2\" stroke=\"#000000\" points=\"1182,-469 1083,-469 1083,-401 1182,-401 1182,-469\"/>\n<text text-anchor=\"middle\" x=\"1132.5\" y=\"-453.8\" font-family=\"Helvetica,sans-Serif\" font-size=\"14.00\" fill=\"#000000\">fbs &lt;= 0.5</text>\n<text text-anchor=\"middle\" x=\"1132.5\" y=\"-438.8\" font-family=\"Helvetica,sans-Serif\" font-size=\"14.00\" fill=\"#000000\">samples = 3</text>\n<text text-anchor=\"middle\" x=\"1132.5\" y=\"-423.8\" font-family=\"Helvetica,sans-Serif\" font-size=\"14.00\" fill=\"#000000\">value = [1, 2]</text>\n<text text-anchor=\"middle\" x=\"1132.5\" y=\"-408.8\" font-family=\"Helvetica,sans-Serif\" font-size=\"14.00\" fill=\"#000000\">class = 0</text>\n</g>\n<!-- 40&#45;&gt;42 -->\n<g id=\"edge42\" class=\"edge\">\n<title>40&#45;&gt;42</title>\n<path fill=\"none\" stroke=\"#000000\" d=\"M1132.5,-504.9465C1132.5,-496.776 1132.5,-487.9318 1132.5,-479.3697\"/>\n<polygon fill=\"#000000\" stroke=\"#000000\" points=\"1136.0001,-479.13 1132.5,-469.13 1129.0001,-479.13 1136.0001,-479.13\"/>\n</g>\n<!-- 43 -->\n<g id=\"node44\" class=\"node\">\n<title>43</title>\n<polygon fill=\"#399de5\" stroke=\"#000000\" points=\"1065,-357.5 966,-357.5 966,-304.5 1065,-304.5 1065,-357.5\"/>\n<text text-anchor=\"middle\" x=\"1015.5\" y=\"-342.3\" font-family=\"Helvetica,sans-Serif\" font-size=\"14.00\" fill=\"#000000\">samples = 2</text>\n<text text-anchor=\"middle\" x=\"1015.5\" y=\"-327.3\" font-family=\"Helvetica,sans-Serif\" font-size=\"14.00\" fill=\"#000000\">value = [0, 2]</text>\n<text text-anchor=\"middle\" x=\"1015.5\" y=\"-312.3\" font-family=\"Helvetica,sans-Serif\" font-size=\"14.00\" fill=\"#000000\">class = 0</text>\n</g>\n<!-- 42&#45;&gt;43 -->\n<g id=\"edge43\" class=\"edge\">\n<title>42&#45;&gt;43</title>\n<path fill=\"none\" stroke=\"#000000\" d=\"M1094.1898,-400.9465C1080.9306,-389.1606 1066.0942,-375.9726 1052.9084,-364.2519\"/>\n<polygon fill=\"#000000\" stroke=\"#000000\" points=\"1055.1593,-361.5699 1045.3599,-357.5422 1050.5088,-366.8018 1055.1593,-361.5699\"/>\n</g>\n<!-- 44 -->\n<g id=\"node45\" class=\"node\">\n<title>44</title>\n<polygon fill=\"#e58139\" stroke=\"#000000\" points=\"1182,-357.5 1083,-357.5 1083,-304.5 1182,-304.5 1182,-357.5\"/>\n<text text-anchor=\"middle\" x=\"1132.5\" y=\"-342.3\" font-family=\"Helvetica,sans-Serif\" font-size=\"14.00\" fill=\"#000000\">samples = 1</text>\n<text text-anchor=\"middle\" x=\"1132.5\" y=\"-327.3\" font-family=\"Helvetica,sans-Serif\" font-size=\"14.00\" fill=\"#000000\">value = [1, 0]</text>\n<text text-anchor=\"middle\" x=\"1132.5\" y=\"-312.3\" font-family=\"Helvetica,sans-Serif\" font-size=\"14.00\" fill=\"#000000\">class = 1</text>\n</g>\n<!-- 42&#45;&gt;44 -->\n<g id=\"edge44\" class=\"edge\">\n<title>42&#45;&gt;44</title>\n<path fill=\"none\" stroke=\"#000000\" d=\"M1132.5,-400.9465C1132.5,-390.2621 1132.5,-378.4254 1132.5,-367.5742\"/>\n<polygon fill=\"#000000\" stroke=\"#000000\" points=\"1136.0001,-367.5421 1132.5,-357.5422 1129.0001,-367.5422 1136.0001,-367.5421\"/>\n</g>\n<!-- 46 -->\n<g id=\"node47\" class=\"node\">\n<title>46</title>\n<polygon fill=\"#49a5e7\" stroke=\"#000000\" points=\"1330,-469 1201,-469 1201,-401 1330,-401 1330,-469\"/>\n<text text-anchor=\"middle\" x=\"1265.5\" y=\"-453.8\" font-family=\"Helvetica,sans-Serif\" font-size=\"14.00\" fill=\"#000000\">oldpeak &lt;= 0.589</text>\n<text text-anchor=\"middle\" x=\"1265.5\" y=\"-438.8\" font-family=\"Helvetica,sans-Serif\" font-size=\"14.00\" fill=\"#000000\">samples = 41</text>\n<text text-anchor=\"middle\" x=\"1265.5\" y=\"-423.8\" font-family=\"Helvetica,sans-Serif\" font-size=\"14.00\" fill=\"#000000\">value = [3, 38]</text>\n<text text-anchor=\"middle\" x=\"1265.5\" y=\"-408.8\" font-family=\"Helvetica,sans-Serif\" font-size=\"14.00\" fill=\"#000000\">class = 0</text>\n</g>\n<!-- 45&#45;&gt;46 -->\n<g id=\"edge46\" class=\"edge\">\n<title>45&#45;&gt;46</title>\n<path fill=\"none\" stroke=\"#000000\" d=\"M1266.1726,-504.9465C1266.094,-496.776 1266.009,-487.9318 1265.9266,-479.3697\"/>\n<polygon fill=\"#000000\" stroke=\"#000000\" points=\"1269.4243,-479.0958 1265.8282,-469.13 1262.4246,-479.1632 1269.4243,-479.0958\"/>\n</g>\n<!-- 55 -->\n<g id=\"node56\" class=\"node\">\n<title>55</title>\n<polygon fill=\"#e58139\" stroke=\"#000000\" points=\"1447,-461.5 1348,-461.5 1348,-408.5 1447,-408.5 1447,-461.5\"/>\n<text text-anchor=\"middle\" x=\"1397.5\" y=\"-446.3\" font-family=\"Helvetica,sans-Serif\" font-size=\"14.00\" fill=\"#000000\">samples = 1</text>\n<text text-anchor=\"middle\" x=\"1397.5\" y=\"-431.3\" font-family=\"Helvetica,sans-Serif\" font-size=\"14.00\" fill=\"#000000\">value = [1, 0]</text>\n<text text-anchor=\"middle\" x=\"1397.5\" y=\"-416.3\" font-family=\"Helvetica,sans-Serif\" font-size=\"14.00\" fill=\"#000000\">class = 1</text>\n</g>\n<!-- 45&#45;&gt;55 -->\n<g id=\"edge55\" class=\"edge\">\n<title>45&#45;&gt;55</title>\n<path fill=\"none\" stroke=\"#000000\" d=\"M1309.3943,-504.9465C1324.3788,-493.0504 1341.1624,-479.726 1356.0288,-467.9237\"/>\n<polygon fill=\"#000000\" stroke=\"#000000\" points=\"1358.4113,-470.5011 1364.0671,-461.5422 1354.0589,-465.0187 1358.4113,-470.5011\"/>\n</g>\n<!-- 47 -->\n<g id=\"node48\" class=\"node\">\n<title>47</title>\n<polygon fill=\"#43a2e6\" stroke=\"#000000\" points=\"1321,-365 1200,-365 1200,-297 1321,-297 1321,-365\"/>\n<text text-anchor=\"middle\" x=\"1260.5\" y=\"-349.8\" font-family=\"Helvetica,sans-Serif\" font-size=\"14.00\" fill=\"#000000\">trestbps &lt;= 0.16</text>\n<text text-anchor=\"middle\" x=\"1260.5\" y=\"-334.8\" font-family=\"Helvetica,sans-Serif\" font-size=\"14.00\" fill=\"#000000\">samples = 40</text>\n<text text-anchor=\"middle\" x=\"1260.5\" y=\"-319.8\" font-family=\"Helvetica,sans-Serif\" font-size=\"14.00\" fill=\"#000000\">value = [2, 38]</text>\n<text text-anchor=\"middle\" x=\"1260.5\" y=\"-304.8\" font-family=\"Helvetica,sans-Serif\" font-size=\"14.00\" fill=\"#000000\">class = 0</text>\n</g>\n<!-- 46&#45;&gt;47 -->\n<g id=\"edge47\" class=\"edge\">\n<title>46&#45;&gt;47</title>\n<path fill=\"none\" stroke=\"#000000\" d=\"M1263.8628,-400.9465C1263.47,-392.776 1263.0448,-383.9318 1262.6332,-375.3697\"/>\n<polygon fill=\"#000000\" stroke=\"#000000\" points=\"1266.1171,-374.9504 1262.1409,-365.13 1259.1252,-375.2866 1266.1171,-374.9504\"/>\n</g>\n<!-- 54 -->\n<g id=\"node55\" class=\"node\">\n<title>54</title>\n<polygon fill=\"#e58139\" stroke=\"#000000\" points=\"1438,-357.5 1339,-357.5 1339,-304.5 1438,-304.5 1438,-357.5\"/>\n<text text-anchor=\"middle\" x=\"1388.5\" y=\"-342.3\" font-family=\"Helvetica,sans-Serif\" font-size=\"14.00\" fill=\"#000000\">samples = 1</text>\n<text text-anchor=\"middle\" x=\"1388.5\" y=\"-327.3\" font-family=\"Helvetica,sans-Serif\" font-size=\"14.00\" fill=\"#000000\">value = [1, 0]</text>\n<text text-anchor=\"middle\" x=\"1388.5\" y=\"-312.3\" font-family=\"Helvetica,sans-Serif\" font-size=\"14.00\" fill=\"#000000\">class = 1</text>\n</g>\n<!-- 46&#45;&gt;54 -->\n<g id=\"edge54\" class=\"edge\">\n<title>46&#45;&gt;54</title>\n<path fill=\"none\" stroke=\"#000000\" d=\"M1305.7748,-400.9465C1319.7139,-389.1606 1335.3112,-375.9726 1349.1732,-364.2519\"/>\n<polygon fill=\"#000000\" stroke=\"#000000\" points=\"1351.7324,-366.6715 1357.1088,-357.5422 1347.2127,-361.3262 1351.7324,-366.6715\"/>\n</g>\n<!-- 48 -->\n<g id=\"node49\" class=\"node\">\n<title>48</title>\n<polygon fill=\"#bddef6\" stroke=\"#000000\" points=\"1250.5,-261 1148.5,-261 1148.5,-193 1250.5,-193 1250.5,-261\"/>\n<text text-anchor=\"middle\" x=\"1199.5\" y=\"-245.8\" font-family=\"Helvetica,sans-Serif\" font-size=\"14.00\" fill=\"#000000\">age &lt;= 0.427</text>\n<text text-anchor=\"middle\" x=\"1199.5\" y=\"-230.8\" font-family=\"Helvetica,sans-Serif\" font-size=\"14.00\" fill=\"#000000\">samples = 5</text>\n<text text-anchor=\"middle\" x=\"1199.5\" y=\"-215.8\" font-family=\"Helvetica,sans-Serif\" font-size=\"14.00\" fill=\"#000000\">value = [2, 3]</text>\n<text text-anchor=\"middle\" x=\"1199.5\" y=\"-200.8\" font-family=\"Helvetica,sans-Serif\" font-size=\"14.00\" fill=\"#000000\">class = 0</text>\n</g>\n<!-- 47&#45;&gt;48 -->\n<g id=\"edge48\" class=\"edge\">\n<title>47&#45;&gt;48</title>\n<path fill=\"none\" stroke=\"#000000\" d=\"M1240.5263,-296.9465C1235.4707,-288.3271 1229.9753,-278.9579 1224.6983,-269.9611\"/>\n<polygon fill=\"#000000\" stroke=\"#000000\" points=\"1227.5969,-267.985 1219.5186,-261.13 1221.5589,-271.5265 1227.5969,-267.985\"/>\n</g>\n<!-- 53 -->\n<g id=\"node54\" class=\"node\">\n<title>53</title>\n<polygon fill=\"#399de5\" stroke=\"#000000\" points=\"1376,-253.5 1269,-253.5 1269,-200.5 1376,-200.5 1376,-253.5\"/>\n<text text-anchor=\"middle\" x=\"1322.5\" y=\"-238.3\" font-family=\"Helvetica,sans-Serif\" font-size=\"14.00\" fill=\"#000000\">samples = 35</text>\n<text text-anchor=\"middle\" x=\"1322.5\" y=\"-223.3\" font-family=\"Helvetica,sans-Serif\" font-size=\"14.00\" fill=\"#000000\">value = [0, 35]</text>\n<text text-anchor=\"middle\" x=\"1322.5\" y=\"-208.3\" font-family=\"Helvetica,sans-Serif\" font-size=\"14.00\" fill=\"#000000\">class = 0</text>\n</g>\n<!-- 47&#45;&gt;53 -->\n<g id=\"edge53\" class=\"edge\">\n<title>47&#45;&gt;53</title>\n<path fill=\"none\" stroke=\"#000000\" d=\"M1280.8011,-296.9465C1287.4334,-285.8215 1294.8103,-273.4473 1301.4933,-262.237\"/>\n<polygon fill=\"#000000\" stroke=\"#000000\" points=\"1304.5624,-263.9239 1306.6768,-253.5422 1298.5498,-260.3394 1304.5624,-263.9239\"/>\n</g>\n<!-- 49 -->\n<g id=\"node50\" class=\"node\">\n<title>49</title>\n<polygon fill=\"#f2c09c\" stroke=\"#000000\" points=\"1190,-157 1091,-157 1091,-89 1190,-89 1190,-157\"/>\n<text text-anchor=\"middle\" x=\"1140.5\" y=\"-141.8\" font-family=\"Helvetica,sans-Serif\" font-size=\"14.00\" fill=\"#000000\">fbs &lt;= 0.5</text>\n<text text-anchor=\"middle\" x=\"1140.5\" y=\"-126.8\" font-family=\"Helvetica,sans-Serif\" font-size=\"14.00\" fill=\"#000000\">samples = 3</text>\n<text text-anchor=\"middle\" x=\"1140.5\" y=\"-111.8\" font-family=\"Helvetica,sans-Serif\" font-size=\"14.00\" fill=\"#000000\">value = [2, 1]</text>\n<text text-anchor=\"middle\" x=\"1140.5\" y=\"-96.8\" font-family=\"Helvetica,sans-Serif\" font-size=\"14.00\" fill=\"#000000\">class = 1</text>\n</g>\n<!-- 48&#45;&gt;49 -->\n<g id=\"edge49\" class=\"edge\">\n<title>48&#45;&gt;49</title>\n<path fill=\"none\" stroke=\"#000000\" d=\"M1180.1812,-192.9465C1175.2913,-184.3271 1169.9761,-174.9579 1164.8722,-165.9611\"/>\n<polygon fill=\"#000000\" stroke=\"#000000\" points=\"1167.8408,-164.1008 1159.8622,-157.13 1161.7524,-167.5549 1167.8408,-164.1008\"/>\n</g>\n<!-- 52 -->\n<g id=\"node53\" class=\"node\">\n<title>52</title>\n<polygon fill=\"#399de5\" stroke=\"#000000\" points=\"1307,-149.5 1208,-149.5 1208,-96.5 1307,-96.5 1307,-149.5\"/>\n<text text-anchor=\"middle\" x=\"1257.5\" y=\"-134.3\" font-family=\"Helvetica,sans-Serif\" font-size=\"14.00\" fill=\"#000000\">samples = 2</text>\n<text text-anchor=\"middle\" x=\"1257.5\" y=\"-119.3\" font-family=\"Helvetica,sans-Serif\" font-size=\"14.00\" fill=\"#000000\">value = [0, 2]</text>\n<text text-anchor=\"middle\" x=\"1257.5\" y=\"-104.3\" font-family=\"Helvetica,sans-Serif\" font-size=\"14.00\" fill=\"#000000\">class = 0</text>\n</g>\n<!-- 48&#45;&gt;52 -->\n<g id=\"edge52\" class=\"edge\">\n<title>48&#45;&gt;52</title>\n<path fill=\"none\" stroke=\"#000000\" d=\"M1218.4914,-192.9465C1224.6343,-181.9316 1231.4601,-169.6922 1237.6627,-158.5703\"/>\n<polygon fill=\"#000000\" stroke=\"#000000\" points=\"1240.8837,-159.9806 1242.6976,-149.5422 1234.7701,-156.5711 1240.8837,-159.9806\"/>\n</g>\n<!-- 50 -->\n<g id=\"node51\" class=\"node\">\n<title>50</title>\n<polygon fill=\"#e58139\" stroke=\"#000000\" points=\"1131,-53 1032,-53 1032,0 1131,0 1131,-53\"/>\n<text text-anchor=\"middle\" x=\"1081.5\" y=\"-37.8\" font-family=\"Helvetica,sans-Serif\" font-size=\"14.00\" fill=\"#000000\">samples = 2</text>\n<text text-anchor=\"middle\" x=\"1081.5\" y=\"-22.8\" font-family=\"Helvetica,sans-Serif\" font-size=\"14.00\" fill=\"#000000\">value = [2, 0]</text>\n<text text-anchor=\"middle\" x=\"1081.5\" y=\"-7.8\" font-family=\"Helvetica,sans-Serif\" font-size=\"14.00\" fill=\"#000000\">class = 1</text>\n</g>\n<!-- 49&#45;&gt;50 -->\n<g id=\"edge50\" class=\"edge\">\n<title>49&#45;&gt;50</title>\n<path fill=\"none\" stroke=\"#000000\" d=\"M1119.6988,-88.9777C1114.3242,-80.187 1108.5265,-70.7044 1103.1115,-61.8477\"/>\n<polygon fill=\"#000000\" stroke=\"#000000\" points=\"1106.0564,-59.9545 1097.854,-53.2485 1100.0842,-63.6059 1106.0564,-59.9545\"/>\n</g>\n<!-- 51 -->\n<g id=\"node52\" class=\"node\">\n<title>51</title>\n<polygon fill=\"#399de5\" stroke=\"#000000\" points=\"1248,-53 1149,-53 1149,0 1248,0 1248,-53\"/>\n<text text-anchor=\"middle\" x=\"1198.5\" y=\"-37.8\" font-family=\"Helvetica,sans-Serif\" font-size=\"14.00\" fill=\"#000000\">samples = 1</text>\n<text text-anchor=\"middle\" x=\"1198.5\" y=\"-22.8\" font-family=\"Helvetica,sans-Serif\" font-size=\"14.00\" fill=\"#000000\">value = [0, 1]</text>\n<text text-anchor=\"middle\" x=\"1198.5\" y=\"-7.8\" font-family=\"Helvetica,sans-Serif\" font-size=\"14.00\" fill=\"#000000\">class = 0</text>\n</g>\n<!-- 49&#45;&gt;51 -->\n<g id=\"edge51\" class=\"edge\">\n<title>49&#45;&gt;51</title>\n<path fill=\"none\" stroke=\"#000000\" d=\"M1160.9486,-88.9777C1166.2322,-80.187 1171.9316,-70.7044 1177.2548,-61.8477\"/>\n<polygon fill=\"#000000\" stroke=\"#000000\" points=\"1180.2715,-63.6225 1182.4232,-53.2485 1174.2718,-60.0165 1180.2715,-63.6225\"/>\n</g>\n<!-- 57 -->\n<g id=\"node58\" class=\"node\">\n<title>57</title>\n<polygon fill=\"#d7ebfa\" stroke=\"#000000\" points=\"1717,-573 1610,-573 1610,-505 1717,-505 1717,-573\"/>\n<text text-anchor=\"middle\" x=\"1663.5\" y=\"-557.8\" font-family=\"Helvetica,sans-Serif\" font-size=\"14.00\" fill=\"#000000\">ca &lt;= 0.125</text>\n<text text-anchor=\"middle\" x=\"1663.5\" y=\"-542.8\" font-family=\"Helvetica,sans-Serif\" font-size=\"14.00\" fill=\"#000000\">samples = 18</text>\n<text text-anchor=\"middle\" x=\"1663.5\" y=\"-527.8\" font-family=\"Helvetica,sans-Serif\" font-size=\"14.00\" fill=\"#000000\">value = [8, 10]</text>\n<text text-anchor=\"middle\" x=\"1663.5\" y=\"-512.8\" font-family=\"Helvetica,sans-Serif\" font-size=\"14.00\" fill=\"#000000\">class = 0</text>\n</g>\n<!-- 56&#45;&gt;57 -->\n<g id=\"edge57\" class=\"edge\">\n<title>56&#45;&gt;57</title>\n<path fill=\"none\" stroke=\"#000000\" d=\"M1663.5,-608.9465C1663.5,-600.776 1663.5,-591.9318 1663.5,-583.3697\"/>\n<polygon fill=\"#000000\" stroke=\"#000000\" points=\"1667.0001,-583.13 1663.5,-573.13 1660.0001,-583.13 1667.0001,-583.13\"/>\n</g>\n<!-- 66 -->\n<g id=\"node67\" class=\"node\">\n<title>66</title>\n<polygon fill=\"#eb9d65\" stroke=\"#000000\" points=\"1934,-573 1805,-573 1805,-505 1934,-505 1934,-573\"/>\n<text text-anchor=\"middle\" x=\"1869.5\" y=\"-557.8\" font-family=\"Helvetica,sans-Serif\" font-size=\"14.00\" fill=\"#000000\">trestbps &lt;= 0.236</text>\n<text text-anchor=\"middle\" x=\"1869.5\" y=\"-542.8\" font-family=\"Helvetica,sans-Serif\" font-size=\"14.00\" fill=\"#000000\">samples = 11</text>\n<text text-anchor=\"middle\" x=\"1869.5\" y=\"-527.8\" font-family=\"Helvetica,sans-Serif\" font-size=\"14.00\" fill=\"#000000\">value = [9, 2]</text>\n<text text-anchor=\"middle\" x=\"1869.5\" y=\"-512.8\" font-family=\"Helvetica,sans-Serif\" font-size=\"14.00\" fill=\"#000000\">class = 1</text>\n</g>\n<!-- 56&#45;&gt;66 -->\n<g id=\"edge66\" class=\"edge\">\n<title>56&#45;&gt;66</title>\n<path fill=\"none\" stroke=\"#000000\" d=\"M1721.7053,-613.6148C1744.7042,-602.0037 1771.4038,-588.5243 1795.7313,-576.2424\"/>\n<polygon fill=\"#000000\" stroke=\"#000000\" points=\"1797.5768,-579.2315 1804.9263,-571.6003 1794.422,-572.9827 1797.5768,-579.2315\"/>\n</g>\n<!-- 58 -->\n<g id=\"node59\" class=\"node\">\n<title>58</title>\n<polygon fill=\"#52a9e8\" stroke=\"#000000\" points=\"1659,-469 1530,-469 1530,-401 1659,-401 1659,-469\"/>\n<text text-anchor=\"middle\" x=\"1594.5\" y=\"-453.8\" font-family=\"Helvetica,sans-Serif\" font-size=\"14.00\" fill=\"#000000\">trestbps &lt;= 0.538</text>\n<text text-anchor=\"middle\" x=\"1594.5\" y=\"-438.8\" font-family=\"Helvetica,sans-Serif\" font-size=\"14.00\" fill=\"#000000\">samples = 9</text>\n<text text-anchor=\"middle\" x=\"1594.5\" y=\"-423.8\" font-family=\"Helvetica,sans-Serif\" font-size=\"14.00\" fill=\"#000000\">value = [1, 8]</text>\n<text text-anchor=\"middle\" x=\"1594.5\" y=\"-408.8\" font-family=\"Helvetica,sans-Serif\" font-size=\"14.00\" fill=\"#000000\">class = 0</text>\n</g>\n<!-- 57&#45;&gt;58 -->\n<g id=\"edge58\" class=\"edge\">\n<title>57&#45;&gt;58</title>\n<path fill=\"none\" stroke=\"#000000\" d=\"M1640.9068,-504.9465C1635.1286,-496.2373 1628.8425,-486.7626 1622.8166,-477.6801\"/>\n<polygon fill=\"#000000\" stroke=\"#000000\" points=\"1625.589,-475.5278 1617.1439,-469.13 1619.756,-479.3978 1625.589,-475.5278\"/>\n</g>\n<!-- 61 -->\n<g id=\"node62\" class=\"node\">\n<title>61</title>\n<polygon fill=\"#eca572\" stroke=\"#000000\" points=\"1802,-469 1677,-469 1677,-401 1802,-401 1802,-469\"/>\n<text text-anchor=\"middle\" x=\"1739.5\" y=\"-453.8\" font-family=\"Helvetica,sans-Serif\" font-size=\"14.00\" fill=\"#000000\">thalach &lt;= 0.561</text>\n<text text-anchor=\"middle\" x=\"1739.5\" y=\"-438.8\" font-family=\"Helvetica,sans-Serif\" font-size=\"14.00\" fill=\"#000000\">samples = 9</text>\n<text text-anchor=\"middle\" x=\"1739.5\" y=\"-423.8\" font-family=\"Helvetica,sans-Serif\" font-size=\"14.00\" fill=\"#000000\">value = [7, 2]</text>\n<text text-anchor=\"middle\" x=\"1739.5\" y=\"-408.8\" font-family=\"Helvetica,sans-Serif\" font-size=\"14.00\" fill=\"#000000\">class = 1</text>\n</g>\n<!-- 57&#45;&gt;61 -->\n<g id=\"edge61\" class=\"edge\">\n<title>57&#45;&gt;61</title>\n<path fill=\"none\" stroke=\"#000000\" d=\"M1688.3852,-504.9465C1694.8153,-496.1475 1701.8163,-486.5672 1708.5159,-477.3993\"/>\n<polygon fill=\"#000000\" stroke=\"#000000\" points=\"1711.4845,-479.269 1714.5588,-469.13 1705.8328,-475.1389 1711.4845,-479.269\"/>\n</g>\n<!-- 59 -->\n<g id=\"node60\" class=\"node\">\n<title>59</title>\n<polygon fill=\"#399de5\" stroke=\"#000000\" points=\"1555,-357.5 1456,-357.5 1456,-304.5 1555,-304.5 1555,-357.5\"/>\n<text text-anchor=\"middle\" x=\"1505.5\" y=\"-342.3\" font-family=\"Helvetica,sans-Serif\" font-size=\"14.00\" fill=\"#000000\">samples = 8</text>\n<text text-anchor=\"middle\" x=\"1505.5\" y=\"-327.3\" font-family=\"Helvetica,sans-Serif\" font-size=\"14.00\" fill=\"#000000\">value = [0, 8]</text>\n<text text-anchor=\"middle\" x=\"1505.5\" y=\"-312.3\" font-family=\"Helvetica,sans-Serif\" font-size=\"14.00\" fill=\"#000000\">class = 0</text>\n</g>\n<!-- 58&#45;&gt;59 -->\n<g id=\"edge59\" class=\"edge\">\n<title>58&#45;&gt;59</title>\n<path fill=\"none\" stroke=\"#000000\" d=\"M1565.3581,-400.9465C1555.5548,-389.491 1544.6181,-376.711 1534.8025,-365.2412\"/>\n<polygon fill=\"#000000\" stroke=\"#000000\" points=\"1537.3751,-362.8642 1528.214,-357.5422 1532.0567,-367.4156 1537.3751,-362.8642\"/>\n</g>\n<!-- 60 -->\n<g id=\"node61\" class=\"node\">\n<title>60</title>\n<polygon fill=\"#e58139\" stroke=\"#000000\" points=\"1672,-357.5 1573,-357.5 1573,-304.5 1672,-304.5 1672,-357.5\"/>\n<text text-anchor=\"middle\" x=\"1622.5\" y=\"-342.3\" font-family=\"Helvetica,sans-Serif\" font-size=\"14.00\" fill=\"#000000\">samples = 1</text>\n<text text-anchor=\"middle\" x=\"1622.5\" y=\"-327.3\" font-family=\"Helvetica,sans-Serif\" font-size=\"14.00\" fill=\"#000000\">value = [1, 0]</text>\n<text text-anchor=\"middle\" x=\"1622.5\" y=\"-312.3\" font-family=\"Helvetica,sans-Serif\" font-size=\"14.00\" fill=\"#000000\">class = 1</text>\n</g>\n<!-- 58&#45;&gt;60 -->\n<g id=\"edge60\" class=\"edge\">\n<title>58&#45;&gt;60</title>\n<path fill=\"none\" stroke=\"#000000\" d=\"M1603.6682,-400.9465C1606.5745,-390.1519 1609.7974,-378.1813 1612.7434,-367.2389\"/>\n<polygon fill=\"#000000\" stroke=\"#000000\" points=\"1616.1339,-368.1083 1615.354,-357.5422 1609.3746,-366.2884 1616.1339,-368.1083\"/>\n</g>\n<!-- 62 -->\n<g id=\"node63\" class=\"node\">\n<title>62</title>\n<polygon fill=\"#9ccef2\" stroke=\"#000000\" points=\"1789,-365 1690,-365 1690,-297 1789,-297 1789,-365\"/>\n<text text-anchor=\"middle\" x=\"1739.5\" y=\"-349.8\" font-family=\"Helvetica,sans-Serif\" font-size=\"14.00\" fill=\"#000000\">thal &lt;= 0.5</text>\n<text text-anchor=\"middle\" x=\"1739.5\" y=\"-334.8\" font-family=\"Helvetica,sans-Serif\" font-size=\"14.00\" fill=\"#000000\">samples = 3</text>\n<text text-anchor=\"middle\" x=\"1739.5\" y=\"-319.8\" font-family=\"Helvetica,sans-Serif\" font-size=\"14.00\" fill=\"#000000\">value = [1, 2]</text>\n<text text-anchor=\"middle\" x=\"1739.5\" y=\"-304.8\" font-family=\"Helvetica,sans-Serif\" font-size=\"14.00\" fill=\"#000000\">class = 0</text>\n</g>\n<!-- 61&#45;&gt;62 -->\n<g id=\"edge62\" class=\"edge\">\n<title>61&#45;&gt;62</title>\n<path fill=\"none\" stroke=\"#000000\" d=\"M1739.5,-400.9465C1739.5,-392.776 1739.5,-383.9318 1739.5,-375.3697\"/>\n<polygon fill=\"#000000\" stroke=\"#000000\" points=\"1743.0001,-375.13 1739.5,-365.13 1736.0001,-375.13 1743.0001,-375.13\"/>\n</g>\n<!-- 65 -->\n<g id=\"node66\" class=\"node\">\n<title>65</title>\n<polygon fill=\"#e58139\" stroke=\"#000000\" points=\"1906,-357.5 1807,-357.5 1807,-304.5 1906,-304.5 1906,-357.5\"/>\n<text text-anchor=\"middle\" x=\"1856.5\" y=\"-342.3\" font-family=\"Helvetica,sans-Serif\" font-size=\"14.00\" fill=\"#000000\">samples = 6</text>\n<text text-anchor=\"middle\" x=\"1856.5\" y=\"-327.3\" font-family=\"Helvetica,sans-Serif\" font-size=\"14.00\" fill=\"#000000\">value = [6, 0]</text>\n<text text-anchor=\"middle\" x=\"1856.5\" y=\"-312.3\" font-family=\"Helvetica,sans-Serif\" font-size=\"14.00\" fill=\"#000000\">class = 1</text>\n</g>\n<!-- 61&#45;&gt;65 -->\n<g id=\"edge65\" class=\"edge\">\n<title>61&#45;&gt;65</title>\n<path fill=\"none\" stroke=\"#000000\" d=\"M1777.8102,-400.9465C1791.0694,-389.1606 1805.9058,-375.9726 1819.0916,-364.2519\"/>\n<polygon fill=\"#000000\" stroke=\"#000000\" points=\"1821.4912,-366.8018 1826.6401,-357.5422 1816.8407,-361.5699 1821.4912,-366.8018\"/>\n</g>\n<!-- 63 -->\n<g id=\"node64\" class=\"node\">\n<title>63</title>\n<polygon fill=\"#e58139\" stroke=\"#000000\" points=\"1730,-253.5 1631,-253.5 1631,-200.5 1730,-200.5 1730,-253.5\"/>\n<text text-anchor=\"middle\" x=\"1680.5\" y=\"-238.3\" font-family=\"Helvetica,sans-Serif\" font-size=\"14.00\" fill=\"#000000\">samples = 1</text>\n<text text-anchor=\"middle\" x=\"1680.5\" y=\"-223.3\" font-family=\"Helvetica,sans-Serif\" font-size=\"14.00\" fill=\"#000000\">value = [1, 0]</text>\n<text text-anchor=\"middle\" x=\"1680.5\" y=\"-208.3\" font-family=\"Helvetica,sans-Serif\" font-size=\"14.00\" fill=\"#000000\">class = 1</text>\n</g>\n<!-- 62&#45;&gt;63 -->\n<g id=\"edge63\" class=\"edge\">\n<title>62&#45;&gt;63</title>\n<path fill=\"none\" stroke=\"#000000\" d=\"M1720.1812,-296.9465C1713.9324,-285.9316 1706.9888,-273.6922 1700.6793,-262.5703\"/>\n<polygon fill=\"#000000\" stroke=\"#000000\" points=\"1703.5362,-260.513 1695.5576,-253.5422 1697.4477,-263.967 1703.5362,-260.513\"/>\n</g>\n<!-- 64 -->\n<g id=\"node65\" class=\"node\">\n<title>64</title>\n<polygon fill=\"#399de5\" stroke=\"#000000\" points=\"1847,-253.5 1748,-253.5 1748,-200.5 1847,-200.5 1847,-253.5\"/>\n<text text-anchor=\"middle\" x=\"1797.5\" y=\"-238.3\" font-family=\"Helvetica,sans-Serif\" font-size=\"14.00\" fill=\"#000000\">samples = 2</text>\n<text text-anchor=\"middle\" x=\"1797.5\" y=\"-223.3\" font-family=\"Helvetica,sans-Serif\" font-size=\"14.00\" fill=\"#000000\">value = [0, 2]</text>\n<text text-anchor=\"middle\" x=\"1797.5\" y=\"-208.3\" font-family=\"Helvetica,sans-Serif\" font-size=\"14.00\" fill=\"#000000\">class = 0</text>\n</g>\n<!-- 62&#45;&gt;64 -->\n<g id=\"edge64\" class=\"edge\">\n<title>62&#45;&gt;64</title>\n<path fill=\"none\" stroke=\"#000000\" d=\"M1758.4914,-296.9465C1764.6343,-285.9316 1771.4601,-273.6922 1777.6627,-262.5703\"/>\n<polygon fill=\"#000000\" stroke=\"#000000\" points=\"1780.8837,-263.9806 1782.6976,-253.5422 1774.7701,-260.5711 1780.8837,-263.9806\"/>\n</g>\n<!-- 67 -->\n<g id=\"node68\" class=\"node\">\n<title>67</title>\n<polygon fill=\"#399de5\" stroke=\"#000000\" points=\"1919,-461.5 1820,-461.5 1820,-408.5 1919,-408.5 1919,-461.5\"/>\n<text text-anchor=\"middle\" x=\"1869.5\" y=\"-446.3\" font-family=\"Helvetica,sans-Serif\" font-size=\"14.00\" fill=\"#000000\">samples = 1</text>\n<text text-anchor=\"middle\" x=\"1869.5\" y=\"-431.3\" font-family=\"Helvetica,sans-Serif\" font-size=\"14.00\" fill=\"#000000\">value = [0, 1]</text>\n<text text-anchor=\"middle\" x=\"1869.5\" y=\"-416.3\" font-family=\"Helvetica,sans-Serif\" font-size=\"14.00\" fill=\"#000000\">class = 0</text>\n</g>\n<!-- 66&#45;&gt;67 -->\n<g id=\"edge67\" class=\"edge\">\n<title>66&#45;&gt;67</title>\n<path fill=\"none\" stroke=\"#000000\" d=\"M1869.5,-504.9465C1869.5,-494.2621 1869.5,-482.4254 1869.5,-471.5742\"/>\n<polygon fill=\"#000000\" stroke=\"#000000\" points=\"1873.0001,-471.5421 1869.5,-461.5422 1866.0001,-471.5422 1873.0001,-471.5421\"/>\n</g>\n<!-- 68 -->\n<g id=\"node69\" class=\"node\">\n<title>68</title>\n<polygon fill=\"#e88f4f\" stroke=\"#000000\" points=\"2041.5,-469 1937.5,-469 1937.5,-401 2041.5,-401 2041.5,-469\"/>\n<text text-anchor=\"middle\" x=\"1989.5\" y=\"-453.8\" font-family=\"Helvetica,sans-Serif\" font-size=\"14.00\" fill=\"#000000\">slope &lt;= 0.25</text>\n<text text-anchor=\"middle\" x=\"1989.5\" y=\"-438.8\" font-family=\"Helvetica,sans-Serif\" font-size=\"14.00\" fill=\"#000000\">samples = 10</text>\n<text text-anchor=\"middle\" x=\"1989.5\" y=\"-423.8\" font-family=\"Helvetica,sans-Serif\" font-size=\"14.00\" fill=\"#000000\">value = [9, 1]</text>\n<text text-anchor=\"middle\" x=\"1989.5\" y=\"-408.8\" font-family=\"Helvetica,sans-Serif\" font-size=\"14.00\" fill=\"#000000\">class = 1</text>\n</g>\n<!-- 66&#45;&gt;68 -->\n<g id=\"edge68\" class=\"edge\">\n<title>66&#45;&gt;68</title>\n<path fill=\"none\" stroke=\"#000000\" d=\"M1908.7925,-504.9465C1919.5667,-495.6088 1931.3564,-485.3911 1942.515,-475.7203\"/>\n<polygon fill=\"#000000\" stroke=\"#000000\" points=\"1944.8546,-478.3243 1950.1192,-469.13 1940.2701,-473.0344 1944.8546,-478.3243\"/>\n</g>\n<!-- 69 -->\n<g id=\"node70\" class=\"node\">\n<title>69</title>\n<polygon fill=\"#399de5\" stroke=\"#000000\" points=\"2031,-357.5 1932,-357.5 1932,-304.5 2031,-304.5 2031,-357.5\"/>\n<text text-anchor=\"middle\" x=\"1981.5\" y=\"-342.3\" font-family=\"Helvetica,sans-Serif\" font-size=\"14.00\" fill=\"#000000\">samples = 1</text>\n<text text-anchor=\"middle\" x=\"1981.5\" y=\"-327.3\" font-family=\"Helvetica,sans-Serif\" font-size=\"14.00\" fill=\"#000000\">value = [0, 1]</text>\n<text text-anchor=\"middle\" x=\"1981.5\" y=\"-312.3\" font-family=\"Helvetica,sans-Serif\" font-size=\"14.00\" fill=\"#000000\">class = 0</text>\n</g>\n<!-- 68&#45;&gt;69 -->\n<g id=\"edge69\" class=\"edge\">\n<title>68&#45;&gt;69</title>\n<path fill=\"none\" stroke=\"#000000\" d=\"M1986.8805,-400.9465C1986.0586,-390.2621 1985.1481,-378.4254 1984.3134,-367.5742\"/>\n<polygon fill=\"#000000\" stroke=\"#000000\" points=\"1987.7985,-367.2442 1983.5417,-357.5422 1980.8191,-367.7812 1987.7985,-367.2442\"/>\n</g>\n<!-- 70 -->\n<g id=\"node71\" class=\"node\">\n<title>70</title>\n<polygon fill=\"#e58139\" stroke=\"#000000\" points=\"2148,-357.5 2049,-357.5 2049,-304.5 2148,-304.5 2148,-357.5\"/>\n<text text-anchor=\"middle\" x=\"2098.5\" y=\"-342.3\" font-family=\"Helvetica,sans-Serif\" font-size=\"14.00\" fill=\"#000000\">samples = 9</text>\n<text text-anchor=\"middle\" x=\"2098.5\" y=\"-327.3\" font-family=\"Helvetica,sans-Serif\" font-size=\"14.00\" fill=\"#000000\">value = [9, 0]</text>\n<text text-anchor=\"middle\" x=\"2098.5\" y=\"-312.3\" font-family=\"Helvetica,sans-Serif\" font-size=\"14.00\" fill=\"#000000\">class = 1</text>\n</g>\n<!-- 68&#45;&gt;70 -->\n<g id=\"edge70\" class=\"edge\">\n<title>68&#45;&gt;70</title>\n<path fill=\"none\" stroke=\"#000000\" d=\"M2025.1907,-400.9465C2037.4278,-389.2707 2051.107,-376.219 2063.3046,-364.5809\"/>\n<polygon fill=\"#000000\" stroke=\"#000000\" points=\"2065.8628,-366.9777 2070.6818,-357.5422 2061.0306,-361.9131 2065.8628,-366.9777\"/>\n</g>\n</g>\n</svg>\n"
          },
          "metadata": {},
          "execution_count": 58
        }
      ]
    },
    {
      "cell_type": "code",
      "source": [
        "# Decision Tree dengan criteria 'entropy'\n",
        "dtree2 = DecisionTreeClassifier(criterion='entropy')\n",
        "dtree2.fit(x_train, y_train)\n",
        "\n",
        "accScoreDTEntropy = dtree2.score(x_test, y_test) * 100\n",
        "\n",
        "Akurasi_per_Algoritma['Decision Tree (Entropy)'] = accScoreDTEntropy\n",
        "\n",
        "print('Akurasi Test Decision Tree (Entropy) {:.2f}%'.format(accScoreDTEntropy))"
      ],
      "metadata": {
        "colab": {
          "base_uri": "https://localhost:8080/"
        },
        "id": "i8I4CnvmGzqP",
        "outputId": "6a5c3100-78e6-40e5-cb19-463a3dc346d3"
      },
      "execution_count": null,
      "outputs": [
        {
          "output_type": "stream",
          "name": "stdout",
          "text": [
            "Akurasi Test Decision Tree (Entropy) 78.69%\n"
          ]
        }
      ]
    },
    {
      "cell_type": "code",
      "source": [
        "# Visualisasi Decision Tree (Entropy)\n",
        "from sklearn.tree import export_graphviz\n",
        "\n",
        "export_graphviz(dtree2, out_file=\"dtree2.dot\", class_names=(\"1\", \"0\"), \n",
        "                feature_names=x.columns, impurity=False, filled=True)\n",
        "\n",
        "import graphviz\n",
        "\n",
        "with open(\"dtree2.dot\") as fig:\n",
        "  dot_graph = fig.read()\n",
        "graphviz.Source(dot_graph)"
      ],
      "metadata": {
        "colab": {
          "base_uri": "https://localhost:8080/",
          "height": 1000
        },
        "id": "ePil0RY8HIOc",
        "outputId": "5e182648-27eb-4944-eea9-327cf0d0f81f"
      },
      "execution_count": null,
      "outputs": [
        {
          "output_type": "execute_result",
          "data": {
            "text/plain": [
              "<graphviz.files.Source at 0x7f9a4ba0d7d0>"
            ],
            "image/svg+xml": "<?xml version=\"1.0\" encoding=\"UTF-8\" standalone=\"no\"?>\n<!DOCTYPE svg PUBLIC \"-//W3C//DTD SVG 1.1//EN\"\n \"http://www.w3.org/Graphics/SVG/1.1/DTD/svg11.dtd\">\n<!-- Generated by graphviz version 2.40.1 (20161225.0304)\n -->\n<!-- Title: Tree Pages: 1 -->\n<svg width=\"2004pt\" height=\"997pt\"\n viewBox=\"0.00 0.00 2004.00 997.00\" xmlns=\"http://www.w3.org/2000/svg\" xmlns:xlink=\"http://www.w3.org/1999/xlink\">\n<g id=\"graph0\" class=\"graph\" transform=\"scale(1 1) rotate(0) translate(4 993)\">\n<title>Tree</title>\n<polygon fill=\"#ffffff\" stroke=\"transparent\" points=\"-4,4 -4,-993 2000,-993 2000,4 -4,4\"/>\n<!-- 0 -->\n<g id=\"node1\" class=\"node\">\n<title>0</title>\n<polygon fill=\"#e1f0fb\" stroke=\"#000000\" points=\"906.5,-989 774.5,-989 774.5,-921 906.5,-921 906.5,-989\"/>\n<text text-anchor=\"middle\" x=\"840.5\" y=\"-973.8\" font-family=\"Helvetica,sans-Serif\" font-size=\"14.00\" fill=\"#000000\">cp &lt;= 0.167</text>\n<text text-anchor=\"middle\" x=\"840.5\" y=\"-958.8\" font-family=\"Helvetica,sans-Serif\" font-size=\"14.00\" fill=\"#000000\">samples = 242</text>\n<text text-anchor=\"middle\" x=\"840.5\" y=\"-943.8\" font-family=\"Helvetica,sans-Serif\" font-size=\"14.00\" fill=\"#000000\">value = [111, 131]</text>\n<text text-anchor=\"middle\" x=\"840.5\" y=\"-928.8\" font-family=\"Helvetica,sans-Serif\" font-size=\"14.00\" fill=\"#000000\">class = 0</text>\n</g>\n<!-- 1 -->\n<g id=\"node2\" class=\"node\">\n<title>1</title>\n<polygon fill=\"#efb287\" stroke=\"#000000\" points=\"768.5,-885 652.5,-885 652.5,-817 768.5,-817 768.5,-885\"/>\n<text text-anchor=\"middle\" x=\"710.5\" y=\"-869.8\" font-family=\"Helvetica,sans-Serif\" font-size=\"14.00\" fill=\"#000000\">ca &lt;= 0.125</text>\n<text text-anchor=\"middle\" x=\"710.5\" y=\"-854.8\" font-family=\"Helvetica,sans-Serif\" font-size=\"14.00\" fill=\"#000000\">samples = 117</text>\n<text text-anchor=\"middle\" x=\"710.5\" y=\"-839.8\" font-family=\"Helvetica,sans-Serif\" font-size=\"14.00\" fill=\"#000000\">value = [84, 33]</text>\n<text text-anchor=\"middle\" x=\"710.5\" y=\"-824.8\" font-family=\"Helvetica,sans-Serif\" font-size=\"14.00\" fill=\"#000000\">class = 1</text>\n</g>\n<!-- 0&#45;&gt;1 -->\n<g id=\"edge1\" class=\"edge\">\n<title>0&#45;&gt;1</title>\n<path fill=\"none\" stroke=\"#000000\" d=\"M797.9331,-920.9465C786.1488,-911.519 773.2432,-901.1946 761.0519,-891.4415\"/>\n<polygon fill=\"#000000\" stroke=\"#000000\" points=\"763.1577,-888.6439 753.1625,-885.13 758.7848,-894.11 763.1577,-888.6439\"/>\n<text text-anchor=\"middle\" x=\"755.9233\" y=\"-906.2771\" font-family=\"Helvetica,sans-Serif\" font-size=\"14.00\" fill=\"#000000\">True</text>\n</g>\n<!-- 32 -->\n<g id=\"node33\" class=\"node\">\n<title>32</title>\n<polygon fill=\"#70b8ec\" stroke=\"#000000\" points=\"1038.5,-885 922.5,-885 922.5,-817 1038.5,-817 1038.5,-885\"/>\n<text text-anchor=\"middle\" x=\"980.5\" y=\"-869.8\" font-family=\"Helvetica,sans-Serif\" font-size=\"14.00\" fill=\"#000000\">sex &lt;= 0.5</text>\n<text text-anchor=\"middle\" x=\"980.5\" y=\"-854.8\" font-family=\"Helvetica,sans-Serif\" font-size=\"14.00\" fill=\"#000000\">samples = 125</text>\n<text text-anchor=\"middle\" x=\"980.5\" y=\"-839.8\" font-family=\"Helvetica,sans-Serif\" font-size=\"14.00\" fill=\"#000000\">value = [27, 98]</text>\n<text text-anchor=\"middle\" x=\"980.5\" y=\"-824.8\" font-family=\"Helvetica,sans-Serif\" font-size=\"14.00\" fill=\"#000000\">class = 0</text>\n</g>\n<!-- 0&#45;&gt;32 -->\n<g id=\"edge32\" class=\"edge\">\n<title>0&#45;&gt;32</title>\n<path fill=\"none\" stroke=\"#000000\" d=\"M886.3412,-920.9465C899.1529,-911.4293 913.1952,-900.9978 926.4344,-891.163\"/>\n<polygon fill=\"#000000\" stroke=\"#000000\" points=\"928.6155,-893.9029 934.5558,-885.13 924.4412,-888.2837 928.6155,-893.9029\"/>\n<text text-anchor=\"middle\" x=\"930.9068\" y=\"-906.1623\" font-family=\"Helvetica,sans-Serif\" font-size=\"14.00\" fill=\"#000000\">False</text>\n</g>\n<!-- 2 -->\n<g id=\"node3\" class=\"node\">\n<title>2</title>\n<polygon fill=\"#d7ebfa\" stroke=\"#000000\" points=\"537.5,-781 421.5,-781 421.5,-713 537.5,-713 537.5,-781\"/>\n<text text-anchor=\"middle\" x=\"479.5\" y=\"-765.8\" font-family=\"Helvetica,sans-Serif\" font-size=\"14.00\" fill=\"#000000\">thal &lt;= 0.833</text>\n<text text-anchor=\"middle\" x=\"479.5\" y=\"-750.8\" font-family=\"Helvetica,sans-Serif\" font-size=\"14.00\" fill=\"#000000\">samples = 54</text>\n<text text-anchor=\"middle\" x=\"479.5\" y=\"-735.8\" font-family=\"Helvetica,sans-Serif\" font-size=\"14.00\" fill=\"#000000\">value = [24, 30]</text>\n<text text-anchor=\"middle\" x=\"479.5\" y=\"-720.8\" font-family=\"Helvetica,sans-Serif\" font-size=\"14.00\" fill=\"#000000\">class = 0</text>\n</g>\n<!-- 1&#45;&gt;2 -->\n<g id=\"edge2\" class=\"edge\">\n<title>1&#45;&gt;2</title>\n<path fill=\"none\" stroke=\"#000000\" d=\"M652.2089,-824.7564C620.2004,-810.3457 580.3496,-792.4041 546.9957,-777.3877\"/>\n<polygon fill=\"#000000\" stroke=\"#000000\" points=\"548.3278,-774.1491 537.7724,-773.2352 545.454,-780.532 548.3278,-774.1491\"/>\n</g>\n<!-- 25 -->\n<g id=\"node26\" class=\"node\">\n<title>25</title>\n<polygon fill=\"#e68743\" stroke=\"#000000\" points=\"764,-781 657,-781 657,-713 764,-713 764,-781\"/>\n<text text-anchor=\"middle\" x=\"710.5\" y=\"-765.8\" font-family=\"Helvetica,sans-Serif\" font-size=\"14.00\" fill=\"#000000\">age &lt;= 0.719</text>\n<text text-anchor=\"middle\" x=\"710.5\" y=\"-750.8\" font-family=\"Helvetica,sans-Serif\" font-size=\"14.00\" fill=\"#000000\">samples = 63</text>\n<text text-anchor=\"middle\" x=\"710.5\" y=\"-735.8\" font-family=\"Helvetica,sans-Serif\" font-size=\"14.00\" fill=\"#000000\">value = [60, 3]</text>\n<text text-anchor=\"middle\" x=\"710.5\" y=\"-720.8\" font-family=\"Helvetica,sans-Serif\" font-size=\"14.00\" fill=\"#000000\">class = 1</text>\n</g>\n<!-- 1&#45;&gt;25 -->\n<g id=\"edge25\" class=\"edge\">\n<title>1&#45;&gt;25</title>\n<path fill=\"none\" stroke=\"#000000\" d=\"M710.5,-816.9465C710.5,-808.776 710.5,-799.9318 710.5,-791.3697\"/>\n<polygon fill=\"#000000\" stroke=\"#000000\" points=\"714.0001,-791.13 710.5,-781.13 707.0001,-791.13 714.0001,-791.13\"/>\n</g>\n<!-- 3 -->\n<g id=\"node4\" class=\"node\">\n<title>3</title>\n<polygon fill=\"#78bced\" stroke=\"#000000\" points=\"379.5,-677 263.5,-677 263.5,-609 379.5,-609 379.5,-677\"/>\n<text text-anchor=\"middle\" x=\"321.5\" y=\"-661.8\" font-family=\"Helvetica,sans-Serif\" font-size=\"14.00\" fill=\"#000000\">thalach &lt;= 0.37</text>\n<text text-anchor=\"middle\" x=\"321.5\" y=\"-646.8\" font-family=\"Helvetica,sans-Serif\" font-size=\"14.00\" fill=\"#000000\">samples = 33</text>\n<text text-anchor=\"middle\" x=\"321.5\" y=\"-631.8\" font-family=\"Helvetica,sans-Serif\" font-size=\"14.00\" fill=\"#000000\">value = [8, 25]</text>\n<text text-anchor=\"middle\" x=\"321.5\" y=\"-616.8\" font-family=\"Helvetica,sans-Serif\" font-size=\"14.00\" fill=\"#000000\">class = 0</text>\n</g>\n<!-- 2&#45;&gt;3 -->\n<g id=\"edge3\" class=\"edge\">\n<title>2&#45;&gt;3</title>\n<path fill=\"none\" stroke=\"#000000\" d=\"M427.7649,-712.9465C413.1696,-703.3395 397.1591,-692.8009 382.0942,-682.8848\"/>\n<polygon fill=\"#000000\" stroke=\"#000000\" points=\"383.6286,-679.7046 373.3513,-677.13 379.7799,-685.5517 383.6286,-679.7046\"/>\n</g>\n<!-- 18 -->\n<g id=\"node19\" class=\"node\">\n<title>18</title>\n<polygon fill=\"#eda877\" stroke=\"#000000\" points=\"544,-677 415,-677 415,-609 544,-609 544,-677\"/>\n<text text-anchor=\"middle\" x=\"479.5\" y=\"-661.8\" font-family=\"Helvetica,sans-Serif\" font-size=\"14.00\" fill=\"#000000\">oldpeak &lt;= 0.105</text>\n<text text-anchor=\"middle\" x=\"479.5\" y=\"-646.8\" font-family=\"Helvetica,sans-Serif\" font-size=\"14.00\" fill=\"#000000\">samples = 21</text>\n<text text-anchor=\"middle\" x=\"479.5\" y=\"-631.8\" font-family=\"Helvetica,sans-Serif\" font-size=\"14.00\" fill=\"#000000\">value = [16, 5]</text>\n<text text-anchor=\"middle\" x=\"479.5\" y=\"-616.8\" font-family=\"Helvetica,sans-Serif\" font-size=\"14.00\" fill=\"#000000\">class = 1</text>\n</g>\n<!-- 2&#45;&gt;18 -->\n<g id=\"edge18\" class=\"edge\">\n<title>2&#45;&gt;18</title>\n<path fill=\"none\" stroke=\"#000000\" d=\"M479.5,-712.9465C479.5,-704.776 479.5,-695.9318 479.5,-687.3697\"/>\n<polygon fill=\"#000000\" stroke=\"#000000\" points=\"483.0001,-687.13 479.5,-677.13 476.0001,-687.13 483.0001,-687.13\"/>\n</g>\n<!-- 4 -->\n<g id=\"node5\" class=\"node\">\n<title>4</title>\n<polygon fill=\"#e58139\" stroke=\"#000000\" points=\"250,-565.5 151,-565.5 151,-512.5 250,-512.5 250,-565.5\"/>\n<text text-anchor=\"middle\" x=\"200.5\" y=\"-550.3\" font-family=\"Helvetica,sans-Serif\" font-size=\"14.00\" fill=\"#000000\">samples = 2</text>\n<text text-anchor=\"middle\" x=\"200.5\" y=\"-535.3\" font-family=\"Helvetica,sans-Serif\" font-size=\"14.00\" fill=\"#000000\">value = [2, 0]</text>\n<text text-anchor=\"middle\" x=\"200.5\" y=\"-520.3\" font-family=\"Helvetica,sans-Serif\" font-size=\"14.00\" fill=\"#000000\">class = 1</text>\n</g>\n<!-- 3&#45;&gt;4 -->\n<g id=\"edge4\" class=\"edge\">\n<title>3&#45;&gt;4</title>\n<path fill=\"none\" stroke=\"#000000\" d=\"M281.8801,-608.9465C268.1676,-597.1606 252.8239,-583.9726 239.1873,-572.2519\"/>\n<polygon fill=\"#000000\" stroke=\"#000000\" points=\"241.2459,-569.4061 231.3808,-565.5422 236.6831,-574.7147 241.2459,-569.4061\"/>\n</g>\n<!-- 5 -->\n<g id=\"node6\" class=\"node\">\n<title>5</title>\n<polygon fill=\"#69b5eb\" stroke=\"#000000\" points=\"375,-573 268,-573 268,-505 375,-505 375,-573\"/>\n<text text-anchor=\"middle\" x=\"321.5\" y=\"-557.8\" font-family=\"Helvetica,sans-Serif\" font-size=\"14.00\" fill=\"#000000\">exang &lt;= 0.5</text>\n<text text-anchor=\"middle\" x=\"321.5\" y=\"-542.8\" font-family=\"Helvetica,sans-Serif\" font-size=\"14.00\" fill=\"#000000\">samples = 31</text>\n<text text-anchor=\"middle\" x=\"321.5\" y=\"-527.8\" font-family=\"Helvetica,sans-Serif\" font-size=\"14.00\" fill=\"#000000\">value = [6, 25]</text>\n<text text-anchor=\"middle\" x=\"321.5\" y=\"-512.8\" font-family=\"Helvetica,sans-Serif\" font-size=\"14.00\" fill=\"#000000\">class = 0</text>\n</g>\n<!-- 3&#45;&gt;5 -->\n<g id=\"edge5\" class=\"edge\">\n<title>3&#45;&gt;5</title>\n<path fill=\"none\" stroke=\"#000000\" d=\"M321.5,-608.9465C321.5,-600.776 321.5,-591.9318 321.5,-583.3697\"/>\n<polygon fill=\"#000000\" stroke=\"#000000\" points=\"325.0001,-583.13 321.5,-573.13 318.0001,-583.13 325.0001,-583.13\"/>\n</g>\n<!-- 6 -->\n<g id=\"node7\" class=\"node\">\n<title>6</title>\n<polygon fill=\"#44a2e6\" stroke=\"#000000\" points=\"243,-469 136,-469 136,-401 243,-401 243,-469\"/>\n<text text-anchor=\"middle\" x=\"189.5\" y=\"-453.8\" font-family=\"Helvetica,sans-Serif\" font-size=\"14.00\" fill=\"#000000\">chol &lt;= 0.435</text>\n<text text-anchor=\"middle\" x=\"189.5\" y=\"-438.8\" font-family=\"Helvetica,sans-Serif\" font-size=\"14.00\" fill=\"#000000\">samples = 19</text>\n<text text-anchor=\"middle\" x=\"189.5\" y=\"-423.8\" font-family=\"Helvetica,sans-Serif\" font-size=\"14.00\" fill=\"#000000\">value = [1, 18]</text>\n<text text-anchor=\"middle\" x=\"189.5\" y=\"-408.8\" font-family=\"Helvetica,sans-Serif\" font-size=\"14.00\" fill=\"#000000\">class = 0</text>\n</g>\n<!-- 5&#45;&gt;6 -->\n<g id=\"edge6\" class=\"edge\">\n<title>5&#45;&gt;6</title>\n<path fill=\"none\" stroke=\"#000000\" d=\"M278.2783,-504.9465C266.3126,-495.519 253.2085,-485.1946 240.8296,-475.4415\"/>\n<polygon fill=\"#000000\" stroke=\"#000000\" points=\"242.8398,-472.5695 232.8188,-469.13 238.5077,-478.068 242.8398,-472.5695\"/>\n</g>\n<!-- 11 -->\n<g id=\"node12\" class=\"node\">\n<title>11</title>\n<polygon fill=\"#c6e3f8\" stroke=\"#000000\" points=\"380,-469 263,-469 263,-401 380,-401 380,-469\"/>\n<text text-anchor=\"middle\" x=\"321.5\" y=\"-453.8\" font-family=\"Helvetica,sans-Serif\" font-size=\"14.00\" fill=\"#000000\">restecg &lt;= 0.25</text>\n<text text-anchor=\"middle\" x=\"321.5\" y=\"-438.8\" font-family=\"Helvetica,sans-Serif\" font-size=\"14.00\" fill=\"#000000\">samples = 12</text>\n<text text-anchor=\"middle\" x=\"321.5\" y=\"-423.8\" font-family=\"Helvetica,sans-Serif\" font-size=\"14.00\" fill=\"#000000\">value = [5, 7]</text>\n<text text-anchor=\"middle\" x=\"321.5\" y=\"-408.8\" font-family=\"Helvetica,sans-Serif\" font-size=\"14.00\" fill=\"#000000\">class = 0</text>\n</g>\n<!-- 5&#45;&gt;11 -->\n<g id=\"edge11\" class=\"edge\">\n<title>5&#45;&gt;11</title>\n<path fill=\"none\" stroke=\"#000000\" d=\"M321.5,-504.9465C321.5,-496.776 321.5,-487.9318 321.5,-479.3697\"/>\n<polygon fill=\"#000000\" stroke=\"#000000\" points=\"325.0001,-479.13 321.5,-469.13 318.0001,-479.13 325.0001,-479.13\"/>\n</g>\n<!-- 7 -->\n<g id=\"node8\" class=\"node\">\n<title>7</title>\n<polygon fill=\"#399de5\" stroke=\"#000000\" points=\"107,-357.5 0,-357.5 0,-304.5 107,-304.5 107,-357.5\"/>\n<text text-anchor=\"middle\" x=\"53.5\" y=\"-342.3\" font-family=\"Helvetica,sans-Serif\" font-size=\"14.00\" fill=\"#000000\">samples = 17</text>\n<text text-anchor=\"middle\" x=\"53.5\" y=\"-327.3\" font-family=\"Helvetica,sans-Serif\" font-size=\"14.00\" fill=\"#000000\">value = [0, 17]</text>\n<text text-anchor=\"middle\" x=\"53.5\" y=\"-312.3\" font-family=\"Helvetica,sans-Serif\" font-size=\"14.00\" fill=\"#000000\">class = 0</text>\n</g>\n<!-- 6&#45;&gt;7 -->\n<g id=\"edge7\" class=\"edge\">\n<title>6&#45;&gt;7</title>\n<path fill=\"none\" stroke=\"#000000\" d=\"M144.9685,-400.9465C129.4121,-389.0504 111.9879,-375.726 96.5541,-363.9237\"/>\n<polygon fill=\"#000000\" stroke=\"#000000\" points=\"98.2787,-360.8364 88.209,-357.5422 94.0265,-366.397 98.2787,-360.8364\"/>\n</g>\n<!-- 8 -->\n<g id=\"node9\" class=\"node\">\n<title>8</title>\n<polygon fill=\"#ffffff\" stroke=\"#000000\" points=\"254,-365 125,-365 125,-297 254,-297 254,-365\"/>\n<text text-anchor=\"middle\" x=\"189.5\" y=\"-349.8\" font-family=\"Helvetica,sans-Serif\" font-size=\"14.00\" fill=\"#000000\">trestbps &lt;= 0.387</text>\n<text text-anchor=\"middle\" x=\"189.5\" y=\"-334.8\" font-family=\"Helvetica,sans-Serif\" font-size=\"14.00\" fill=\"#000000\">samples = 2</text>\n<text text-anchor=\"middle\" x=\"189.5\" y=\"-319.8\" font-family=\"Helvetica,sans-Serif\" font-size=\"14.00\" fill=\"#000000\">value = [1, 1]</text>\n<text text-anchor=\"middle\" x=\"189.5\" y=\"-304.8\" font-family=\"Helvetica,sans-Serif\" font-size=\"14.00\" fill=\"#000000\">class = 1</text>\n</g>\n<!-- 6&#45;&gt;8 -->\n<g id=\"edge8\" class=\"edge\">\n<title>6&#45;&gt;8</title>\n<path fill=\"none\" stroke=\"#000000\" d=\"M189.5,-400.9465C189.5,-392.776 189.5,-383.9318 189.5,-375.3697\"/>\n<polygon fill=\"#000000\" stroke=\"#000000\" points=\"193.0001,-375.13 189.5,-365.13 186.0001,-375.13 193.0001,-375.13\"/>\n</g>\n<!-- 9 -->\n<g id=\"node10\" class=\"node\">\n<title>9</title>\n<polygon fill=\"#e58139\" stroke=\"#000000\" points=\"152,-253.5 53,-253.5 53,-200.5 152,-200.5 152,-253.5\"/>\n<text text-anchor=\"middle\" x=\"102.5\" y=\"-238.3\" font-family=\"Helvetica,sans-Serif\" font-size=\"14.00\" fill=\"#000000\">samples = 1</text>\n<text text-anchor=\"middle\" x=\"102.5\" y=\"-223.3\" font-family=\"Helvetica,sans-Serif\" font-size=\"14.00\" fill=\"#000000\">value = [1, 0]</text>\n<text text-anchor=\"middle\" x=\"102.5\" y=\"-208.3\" font-family=\"Helvetica,sans-Serif\" font-size=\"14.00\" fill=\"#000000\">class = 1</text>\n</g>\n<!-- 8&#45;&gt;9 -->\n<g id=\"edge9\" class=\"edge\">\n<title>8&#45;&gt;9</title>\n<path fill=\"none\" stroke=\"#000000\" d=\"M161.0129,-296.9465C151.43,-285.491 140.739,-272.711 131.1441,-261.2412\"/>\n<polygon fill=\"#000000\" stroke=\"#000000\" points=\"133.8045,-258.9666 124.7035,-253.5422 128.4354,-263.458 133.8045,-258.9666\"/>\n</g>\n<!-- 10 -->\n<g id=\"node11\" class=\"node\">\n<title>10</title>\n<polygon fill=\"#399de5\" stroke=\"#000000\" points=\"269,-253.5 170,-253.5 170,-200.5 269,-200.5 269,-253.5\"/>\n<text text-anchor=\"middle\" x=\"219.5\" y=\"-238.3\" font-family=\"Helvetica,sans-Serif\" font-size=\"14.00\" fill=\"#000000\">samples = 1</text>\n<text text-anchor=\"middle\" x=\"219.5\" y=\"-223.3\" font-family=\"Helvetica,sans-Serif\" font-size=\"14.00\" fill=\"#000000\">value = [0, 1]</text>\n<text text-anchor=\"middle\" x=\"219.5\" y=\"-208.3\" font-family=\"Helvetica,sans-Serif\" font-size=\"14.00\" fill=\"#000000\">class = 0</text>\n</g>\n<!-- 8&#45;&gt;10 -->\n<g id=\"edge10\" class=\"edge\">\n<title>8&#45;&gt;10</title>\n<path fill=\"none\" stroke=\"#000000\" d=\"M199.3231,-296.9465C202.437,-286.1519 205.89,-274.1813 209.0465,-263.2389\"/>\n<polygon fill=\"#000000\" stroke=\"#000000\" points=\"212.4348,-264.1205 211.8436,-253.5422 205.709,-262.1803 212.4348,-264.1205\"/>\n</g>\n<!-- 12 -->\n<g id=\"node13\" class=\"node\">\n<title>12</title>\n<polygon fill=\"#399de5\" stroke=\"#000000\" points=\"371,-357.5 272,-357.5 272,-304.5 371,-304.5 371,-357.5\"/>\n<text text-anchor=\"middle\" x=\"321.5\" y=\"-342.3\" font-family=\"Helvetica,sans-Serif\" font-size=\"14.00\" fill=\"#000000\">samples = 4</text>\n<text text-anchor=\"middle\" x=\"321.5\" y=\"-327.3\" font-family=\"Helvetica,sans-Serif\" font-size=\"14.00\" fill=\"#000000\">value = [0, 4]</text>\n<text text-anchor=\"middle\" x=\"321.5\" y=\"-312.3\" font-family=\"Helvetica,sans-Serif\" font-size=\"14.00\" fill=\"#000000\">class = 0</text>\n</g>\n<!-- 11&#45;&gt;12 -->\n<g id=\"edge12\" class=\"edge\">\n<title>11&#45;&gt;12</title>\n<path fill=\"none\" stroke=\"#000000\" d=\"M321.5,-400.9465C321.5,-390.2621 321.5,-378.4254 321.5,-367.5742\"/>\n<polygon fill=\"#000000\" stroke=\"#000000\" points=\"325.0001,-367.5421 321.5,-357.5422 318.0001,-367.5422 325.0001,-367.5421\"/>\n</g>\n<!-- 13 -->\n<g id=\"node14\" class=\"node\">\n<title>13</title>\n<polygon fill=\"#f5cdb0\" stroke=\"#000000\" points=\"493.5,-365 389.5,-365 389.5,-297 493.5,-297 493.5,-365\"/>\n<text text-anchor=\"middle\" x=\"441.5\" y=\"-349.8\" font-family=\"Helvetica,sans-Serif\" font-size=\"14.00\" fill=\"#000000\">chol &lt;= 0.443</text>\n<text text-anchor=\"middle\" x=\"441.5\" y=\"-334.8\" font-family=\"Helvetica,sans-Serif\" font-size=\"14.00\" fill=\"#000000\">samples = 8</text>\n<text text-anchor=\"middle\" x=\"441.5\" y=\"-319.8\" font-family=\"Helvetica,sans-Serif\" font-size=\"14.00\" fill=\"#000000\">value = [5, 3]</text>\n<text text-anchor=\"middle\" x=\"441.5\" y=\"-304.8\" font-family=\"Helvetica,sans-Serif\" font-size=\"14.00\" fill=\"#000000\">class = 1</text>\n</g>\n<!-- 11&#45;&gt;13 -->\n<g id=\"edge13\" class=\"edge\">\n<title>11&#45;&gt;13</title>\n<path fill=\"none\" stroke=\"#000000\" d=\"M360.7925,-400.9465C371.5667,-391.6088 383.3564,-381.3911 394.515,-371.7203\"/>\n<polygon fill=\"#000000\" stroke=\"#000000\" points=\"396.8546,-374.3243 402.1192,-365.13 392.2701,-369.0344 396.8546,-374.3243\"/>\n</g>\n<!-- 14 -->\n<g id=\"node15\" class=\"node\">\n<title>14</title>\n<polygon fill=\"#ea9a61\" stroke=\"#000000\" points=\"446,-261 317,-261 317,-193 446,-193 446,-261\"/>\n<text text-anchor=\"middle\" x=\"381.5\" y=\"-245.8\" font-family=\"Helvetica,sans-Serif\" font-size=\"14.00\" fill=\"#000000\">trestbps &lt;= 0.198</text>\n<text text-anchor=\"middle\" x=\"381.5\" y=\"-230.8\" font-family=\"Helvetica,sans-Serif\" font-size=\"14.00\" fill=\"#000000\">samples = 6</text>\n<text text-anchor=\"middle\" x=\"381.5\" y=\"-215.8\" font-family=\"Helvetica,sans-Serif\" font-size=\"14.00\" fill=\"#000000\">value = [5, 1]</text>\n<text text-anchor=\"middle\" x=\"381.5\" y=\"-200.8\" font-family=\"Helvetica,sans-Serif\" font-size=\"14.00\" fill=\"#000000\">class = 1</text>\n</g>\n<!-- 13&#45;&gt;14 -->\n<g id=\"edge14\" class=\"edge\">\n<title>13&#45;&gt;14</title>\n<path fill=\"none\" stroke=\"#000000\" d=\"M421.8538,-296.9465C416.881,-288.3271 411.4757,-278.9579 406.2852,-269.9611\"/>\n<polygon fill=\"#000000\" stroke=\"#000000\" points=\"409.2193,-268.0428 401.1904,-261.13 403.156,-271.5409 409.2193,-268.0428\"/>\n</g>\n<!-- 17 -->\n<g id=\"node18\" class=\"node\">\n<title>17</title>\n<polygon fill=\"#399de5\" stroke=\"#000000\" points=\"563,-253.5 464,-253.5 464,-200.5 563,-200.5 563,-253.5\"/>\n<text text-anchor=\"middle\" x=\"513.5\" y=\"-238.3\" font-family=\"Helvetica,sans-Serif\" font-size=\"14.00\" fill=\"#000000\">samples = 2</text>\n<text text-anchor=\"middle\" x=\"513.5\" y=\"-223.3\" font-family=\"Helvetica,sans-Serif\" font-size=\"14.00\" fill=\"#000000\">value = [0, 2]</text>\n<text text-anchor=\"middle\" x=\"513.5\" y=\"-208.3\" font-family=\"Helvetica,sans-Serif\" font-size=\"14.00\" fill=\"#000000\">class = 0</text>\n</g>\n<!-- 13&#45;&gt;17 -->\n<g id=\"edge17\" class=\"edge\">\n<title>13&#45;&gt;17</title>\n<path fill=\"none\" stroke=\"#000000\" d=\"M465.0755,-296.9465C472.8537,-285.7113 481.5139,-273.2021 489.3355,-261.9043\"/>\n<polygon fill=\"#000000\" stroke=\"#000000\" points=\"492.3102,-263.7564 495.1247,-253.5422 486.5548,-259.7719 492.3102,-263.7564\"/>\n</g>\n<!-- 15 -->\n<g id=\"node16\" class=\"node\">\n<title>15</title>\n<polygon fill=\"#399de5\" stroke=\"#000000\" points=\"372,-149.5 273,-149.5 273,-96.5 372,-96.5 372,-149.5\"/>\n<text text-anchor=\"middle\" x=\"322.5\" y=\"-134.3\" font-family=\"Helvetica,sans-Serif\" font-size=\"14.00\" fill=\"#000000\">samples = 1</text>\n<text text-anchor=\"middle\" x=\"322.5\" y=\"-119.3\" font-family=\"Helvetica,sans-Serif\" font-size=\"14.00\" fill=\"#000000\">value = [0, 1]</text>\n<text text-anchor=\"middle\" x=\"322.5\" y=\"-104.3\" font-family=\"Helvetica,sans-Serif\" font-size=\"14.00\" fill=\"#000000\">class = 0</text>\n</g>\n<!-- 14&#45;&gt;15 -->\n<g id=\"edge15\" class=\"edge\">\n<title>14&#45;&gt;15</title>\n<path fill=\"none\" stroke=\"#000000\" d=\"M362.1812,-192.9465C355.9324,-181.9316 348.9888,-169.6922 342.6793,-158.5703\"/>\n<polygon fill=\"#000000\" stroke=\"#000000\" points=\"345.5362,-156.513 337.5576,-149.5422 339.4477,-159.967 345.5362,-156.513\"/>\n</g>\n<!-- 16 -->\n<g id=\"node17\" class=\"node\">\n<title>16</title>\n<polygon fill=\"#e58139\" stroke=\"#000000\" points=\"489,-149.5 390,-149.5 390,-96.5 489,-96.5 489,-149.5\"/>\n<text text-anchor=\"middle\" x=\"439.5\" y=\"-134.3\" font-family=\"Helvetica,sans-Serif\" font-size=\"14.00\" fill=\"#000000\">samples = 5</text>\n<text text-anchor=\"middle\" x=\"439.5\" y=\"-119.3\" font-family=\"Helvetica,sans-Serif\" font-size=\"14.00\" fill=\"#000000\">value = [5, 0]</text>\n<text text-anchor=\"middle\" x=\"439.5\" y=\"-104.3\" font-family=\"Helvetica,sans-Serif\" font-size=\"14.00\" fill=\"#000000\">class = 1</text>\n</g>\n<!-- 14&#45;&gt;16 -->\n<g id=\"edge16\" class=\"edge\">\n<title>14&#45;&gt;16</title>\n<path fill=\"none\" stroke=\"#000000\" d=\"M400.4914,-192.9465C406.6343,-181.9316 413.4601,-169.6922 419.6627,-158.5703\"/>\n<polygon fill=\"#000000\" stroke=\"#000000\" points=\"422.8837,-159.9806 424.6976,-149.5422 416.7701,-156.5711 422.8837,-159.9806\"/>\n</g>\n<!-- 19 -->\n<g id=\"node20\" class=\"node\">\n<title>19</title>\n<polygon fill=\"#d7ebfa\" stroke=\"#000000\" points=\"498.5,-573 396.5,-573 396.5,-505 498.5,-505 498.5,-573\"/>\n<text text-anchor=\"middle\" x=\"447.5\" y=\"-557.8\" font-family=\"Helvetica,sans-Serif\" font-size=\"14.00\" fill=\"#000000\">age &lt;= 0.271</text>\n<text text-anchor=\"middle\" x=\"447.5\" y=\"-542.8\" font-family=\"Helvetica,sans-Serif\" font-size=\"14.00\" fill=\"#000000\">samples = 9</text>\n<text text-anchor=\"middle\" x=\"447.5\" y=\"-527.8\" font-family=\"Helvetica,sans-Serif\" font-size=\"14.00\" fill=\"#000000\">value = [4, 5]</text>\n<text text-anchor=\"middle\" x=\"447.5\" y=\"-512.8\" font-family=\"Helvetica,sans-Serif\" font-size=\"14.00\" fill=\"#000000\">class = 0</text>\n</g>\n<!-- 18&#45;&gt;19 -->\n<g id=\"edge19\" class=\"edge\">\n<title>18&#45;&gt;19</title>\n<path fill=\"none\" stroke=\"#000000\" d=\"M469.022,-608.9465C466.4528,-600.5965 463.667,-591.5427 460.9786,-582.8056\"/>\n<polygon fill=\"#000000\" stroke=\"#000000\" points=\"464.2877,-581.6585 458.0015,-573.13 457.5972,-583.7171 464.2877,-581.6585\"/>\n</g>\n<!-- 24 -->\n<g id=\"node25\" class=\"node\">\n<title>24</title>\n<polygon fill=\"#e58139\" stroke=\"#000000\" points=\"624,-565.5 517,-565.5 517,-512.5 624,-512.5 624,-565.5\"/>\n<text text-anchor=\"middle\" x=\"570.5\" y=\"-550.3\" font-family=\"Helvetica,sans-Serif\" font-size=\"14.00\" fill=\"#000000\">samples = 12</text>\n<text text-anchor=\"middle\" x=\"570.5\" y=\"-535.3\" font-family=\"Helvetica,sans-Serif\" font-size=\"14.00\" fill=\"#000000\">value = [12, 0]</text>\n<text text-anchor=\"middle\" x=\"570.5\" y=\"-520.3\" font-family=\"Helvetica,sans-Serif\" font-size=\"14.00\" fill=\"#000000\">class = 1</text>\n</g>\n<!-- 18&#45;&gt;24 -->\n<g id=\"edge24\" class=\"edge\">\n<title>18&#45;&gt;24</title>\n<path fill=\"none\" stroke=\"#000000\" d=\"M509.2968,-608.9465C519.3204,-597.491 530.5028,-584.711 540.539,-573.2412\"/>\n<polygon fill=\"#000000\" stroke=\"#000000\" points=\"543.3246,-575.3727 547.2756,-565.5422 538.0565,-570.7632 543.3246,-575.3727\"/>\n</g>\n<!-- 20 -->\n<g id=\"node21\" class=\"node\">\n<title>20</title>\n<polygon fill=\"#e58139\" stroke=\"#000000\" points=\"497,-461.5 398,-461.5 398,-408.5 497,-408.5 497,-461.5\"/>\n<text text-anchor=\"middle\" x=\"447.5\" y=\"-446.3\" font-family=\"Helvetica,sans-Serif\" font-size=\"14.00\" fill=\"#000000\">samples = 3</text>\n<text text-anchor=\"middle\" x=\"447.5\" y=\"-431.3\" font-family=\"Helvetica,sans-Serif\" font-size=\"14.00\" fill=\"#000000\">value = [3, 0]</text>\n<text text-anchor=\"middle\" x=\"447.5\" y=\"-416.3\" font-family=\"Helvetica,sans-Serif\" font-size=\"14.00\" fill=\"#000000\">class = 1</text>\n</g>\n<!-- 19&#45;&gt;20 -->\n<g id=\"edge20\" class=\"edge\">\n<title>19&#45;&gt;20</title>\n<path fill=\"none\" stroke=\"#000000\" d=\"M447.5,-504.9465C447.5,-494.2621 447.5,-482.4254 447.5,-471.5742\"/>\n<polygon fill=\"#000000\" stroke=\"#000000\" points=\"451.0001,-471.5421 447.5,-461.5422 444.0001,-471.5422 451.0001,-471.5421\"/>\n</g>\n<!-- 21 -->\n<g id=\"node22\" class=\"node\">\n<title>21</title>\n<polygon fill=\"#61b1ea\" stroke=\"#000000\" points=\"619.5,-469 515.5,-469 515.5,-401 619.5,-401 619.5,-469\"/>\n<text text-anchor=\"middle\" x=\"567.5\" y=\"-453.8\" font-family=\"Helvetica,sans-Serif\" font-size=\"14.00\" fill=\"#000000\">chol &lt;= 0.255</text>\n<text text-anchor=\"middle\" x=\"567.5\" y=\"-438.8\" font-family=\"Helvetica,sans-Serif\" font-size=\"14.00\" fill=\"#000000\">samples = 6</text>\n<text text-anchor=\"middle\" x=\"567.5\" y=\"-423.8\" font-family=\"Helvetica,sans-Serif\" font-size=\"14.00\" fill=\"#000000\">value = [1, 5]</text>\n<text text-anchor=\"middle\" x=\"567.5\" y=\"-408.8\" font-family=\"Helvetica,sans-Serif\" font-size=\"14.00\" fill=\"#000000\">class = 0</text>\n</g>\n<!-- 19&#45;&gt;21 -->\n<g id=\"edge21\" class=\"edge\">\n<title>19&#45;&gt;21</title>\n<path fill=\"none\" stroke=\"#000000\" d=\"M486.7925,-504.9465C497.5667,-495.6088 509.3564,-485.3911 520.515,-475.7203\"/>\n<polygon fill=\"#000000\" stroke=\"#000000\" points=\"522.8546,-478.3243 528.1192,-469.13 518.2701,-473.0344 522.8546,-478.3243\"/>\n</g>\n<!-- 22 -->\n<g id=\"node23\" class=\"node\">\n<title>22</title>\n<polygon fill=\"#399de5\" stroke=\"#000000\" points=\"614,-357.5 515,-357.5 515,-304.5 614,-304.5 614,-357.5\"/>\n<text text-anchor=\"middle\" x=\"564.5\" y=\"-342.3\" font-family=\"Helvetica,sans-Serif\" font-size=\"14.00\" fill=\"#000000\">samples = 5</text>\n<text text-anchor=\"middle\" x=\"564.5\" y=\"-327.3\" font-family=\"Helvetica,sans-Serif\" font-size=\"14.00\" fill=\"#000000\">value = [0, 5]</text>\n<text text-anchor=\"middle\" x=\"564.5\" y=\"-312.3\" font-family=\"Helvetica,sans-Serif\" font-size=\"14.00\" fill=\"#000000\">class = 0</text>\n</g>\n<!-- 21&#45;&gt;22 -->\n<g id=\"edge22\" class=\"edge\">\n<title>21&#45;&gt;22</title>\n<path fill=\"none\" stroke=\"#000000\" d=\"M566.5177,-400.9465C566.2095,-390.2621 565.868,-378.4254 565.555,-367.5742\"/>\n<polygon fill=\"#000000\" stroke=\"#000000\" points=\"569.0526,-367.4371 565.2656,-357.5422 562.0555,-367.639 569.0526,-367.4371\"/>\n</g>\n<!-- 23 -->\n<g id=\"node24\" class=\"node\">\n<title>23</title>\n<polygon fill=\"#e58139\" stroke=\"#000000\" points=\"731,-357.5 632,-357.5 632,-304.5 731,-304.5 731,-357.5\"/>\n<text text-anchor=\"middle\" x=\"681.5\" y=\"-342.3\" font-family=\"Helvetica,sans-Serif\" font-size=\"14.00\" fill=\"#000000\">samples = 1</text>\n<text text-anchor=\"middle\" x=\"681.5\" y=\"-327.3\" font-family=\"Helvetica,sans-Serif\" font-size=\"14.00\" fill=\"#000000\">value = [1, 0]</text>\n<text text-anchor=\"middle\" x=\"681.5\" y=\"-312.3\" font-family=\"Helvetica,sans-Serif\" font-size=\"14.00\" fill=\"#000000\">class = 1</text>\n</g>\n<!-- 21&#45;&gt;23 -->\n<g id=\"edge23\" class=\"edge\">\n<title>21&#45;&gt;23</title>\n<path fill=\"none\" stroke=\"#000000\" d=\"M604.8279,-400.9465C617.6263,-389.2707 631.933,-376.219 644.6901,-364.5809\"/>\n<polygon fill=\"#000000\" stroke=\"#000000\" points=\"647.3769,-366.8675 652.4057,-357.5422 642.6591,-361.6961 647.3769,-366.8675\"/>\n</g>\n<!-- 26 -->\n<g id=\"node27\" class=\"node\">\n<title>26</title>\n<polygon fill=\"#e58139\" stroke=\"#000000\" points=\"699,-669.5 592,-669.5 592,-616.5 699,-616.5 699,-669.5\"/>\n<text text-anchor=\"middle\" x=\"645.5\" y=\"-654.3\" font-family=\"Helvetica,sans-Serif\" font-size=\"14.00\" fill=\"#000000\">samples = 47</text>\n<text text-anchor=\"middle\" x=\"645.5\" y=\"-639.3\" font-family=\"Helvetica,sans-Serif\" font-size=\"14.00\" fill=\"#000000\">value = [47, 0]</text>\n<text text-anchor=\"middle\" x=\"645.5\" y=\"-624.3\" font-family=\"Helvetica,sans-Serif\" font-size=\"14.00\" fill=\"#000000\">class = 1</text>\n</g>\n<!-- 25&#45;&gt;26 -->\n<g id=\"edge26\" class=\"edge\">\n<title>25&#45;&gt;26</title>\n<path fill=\"none\" stroke=\"#000000\" d=\"M689.2166,-712.9465C682.2634,-701.8215 674.5295,-689.4473 667.5231,-678.237\"/>\n<polygon fill=\"#000000\" stroke=\"#000000\" points=\"670.3569,-676.1671 662.0889,-669.5422 664.4209,-679.8772 670.3569,-676.1671\"/>\n</g>\n<!-- 27 -->\n<g id=\"node28\" class=\"node\">\n<title>27</title>\n<polygon fill=\"#eb9e67\" stroke=\"#000000\" points=\"834,-677 717,-677 717,-609 834,-609 834,-677\"/>\n<text text-anchor=\"middle\" x=\"775.5\" y=\"-661.8\" font-family=\"Helvetica,sans-Serif\" font-size=\"14.00\" fill=\"#000000\">restecg &lt;= 0.25</text>\n<text text-anchor=\"middle\" x=\"775.5\" y=\"-646.8\" font-family=\"Helvetica,sans-Serif\" font-size=\"14.00\" fill=\"#000000\">samples = 16</text>\n<text text-anchor=\"middle\" x=\"775.5\" y=\"-631.8\" font-family=\"Helvetica,sans-Serif\" font-size=\"14.00\" fill=\"#000000\">value = [13, 3]</text>\n<text text-anchor=\"middle\" x=\"775.5\" y=\"-616.8\" font-family=\"Helvetica,sans-Serif\" font-size=\"14.00\" fill=\"#000000\">class = 1</text>\n</g>\n<!-- 25&#45;&gt;27 -->\n<g id=\"edge27\" class=\"edge\">\n<title>25&#45;&gt;27</title>\n<path fill=\"none\" stroke=\"#000000\" d=\"M731.7834,-712.9465C737.2267,-704.2373 743.1484,-694.7626 748.825,-685.6801\"/>\n<polygon fill=\"#000000\" stroke=\"#000000\" points=\"751.8367,-687.465 754.1688,-677.13 745.9007,-683.755 751.8367,-687.465\"/>\n</g>\n<!-- 28 -->\n<g id=\"node29\" class=\"node\">\n<title>28</title>\n<polygon fill=\"#e58139\" stroke=\"#000000\" points=\"749,-565.5 642,-565.5 642,-512.5 749,-512.5 749,-565.5\"/>\n<text text-anchor=\"middle\" x=\"695.5\" y=\"-550.3\" font-family=\"Helvetica,sans-Serif\" font-size=\"14.00\" fill=\"#000000\">samples = 10</text>\n<text text-anchor=\"middle\" x=\"695.5\" y=\"-535.3\" font-family=\"Helvetica,sans-Serif\" font-size=\"14.00\" fill=\"#000000\">value = [10, 0]</text>\n<text text-anchor=\"middle\" x=\"695.5\" y=\"-520.3\" font-family=\"Helvetica,sans-Serif\" font-size=\"14.00\" fill=\"#000000\">class = 1</text>\n</g>\n<!-- 27&#45;&gt;28 -->\n<g id=\"edge28\" class=\"edge\">\n<title>27&#45;&gt;28</title>\n<path fill=\"none\" stroke=\"#000000\" d=\"M749.305,-608.9465C740.5778,-597.6012 730.8513,-584.9567 722.0941,-573.5724\"/>\n<polygon fill=\"#000000\" stroke=\"#000000\" points=\"724.7884,-571.3344 715.917,-565.5422 719.24,-575.6024 724.7884,-571.3344\"/>\n</g>\n<!-- 29 -->\n<g id=\"node30\" class=\"node\">\n<title>29</title>\n<polygon fill=\"#ffffff\" stroke=\"#000000\" points=\"866,-573 767,-573 767,-505 866,-505 866,-573\"/>\n<text text-anchor=\"middle\" x=\"816.5\" y=\"-557.8\" font-family=\"Helvetica,sans-Serif\" font-size=\"14.00\" fill=\"#000000\">fbs &lt;= 0.5</text>\n<text text-anchor=\"middle\" x=\"816.5\" y=\"-542.8\" font-family=\"Helvetica,sans-Serif\" font-size=\"14.00\" fill=\"#000000\">samples = 6</text>\n<text text-anchor=\"middle\" x=\"816.5\" y=\"-527.8\" font-family=\"Helvetica,sans-Serif\" font-size=\"14.00\" fill=\"#000000\">value = [3, 3]</text>\n<text text-anchor=\"middle\" x=\"816.5\" y=\"-512.8\" font-family=\"Helvetica,sans-Serif\" font-size=\"14.00\" fill=\"#000000\">class = 1</text>\n</g>\n<!-- 27&#45;&gt;29 -->\n<g id=\"edge29\" class=\"edge\">\n<title>27&#45;&gt;29</title>\n<path fill=\"none\" stroke=\"#000000\" d=\"M788.9249,-608.9465C792.2522,-600.5067 795.8628,-591.3479 799.3416,-582.5239\"/>\n<polygon fill=\"#000000\" stroke=\"#000000\" points=\"802.6334,-583.7168 803.0449,-573.13 796.1211,-581.1495 802.6334,-583.7168\"/>\n</g>\n<!-- 30 -->\n<g id=\"node31\" class=\"node\">\n<title>30</title>\n<polygon fill=\"#399de5\" stroke=\"#000000\" points=\"801,-461.5 702,-461.5 702,-408.5 801,-408.5 801,-461.5\"/>\n<text text-anchor=\"middle\" x=\"751.5\" y=\"-446.3\" font-family=\"Helvetica,sans-Serif\" font-size=\"14.00\" fill=\"#000000\">samples = 3</text>\n<text text-anchor=\"middle\" x=\"751.5\" y=\"-431.3\" font-family=\"Helvetica,sans-Serif\" font-size=\"14.00\" fill=\"#000000\">value = [0, 3]</text>\n<text text-anchor=\"middle\" x=\"751.5\" y=\"-416.3\" font-family=\"Helvetica,sans-Serif\" font-size=\"14.00\" fill=\"#000000\">class = 0</text>\n</g>\n<!-- 29&#45;&gt;30 -->\n<g id=\"edge30\" class=\"edge\">\n<title>29&#45;&gt;30</title>\n<path fill=\"none\" stroke=\"#000000\" d=\"M795.2166,-504.9465C788.2634,-493.8215 780.5295,-481.4473 773.5231,-470.237\"/>\n<polygon fill=\"#000000\" stroke=\"#000000\" points=\"776.3569,-468.1671 768.0889,-461.5422 770.4209,-471.8772 776.3569,-468.1671\"/>\n</g>\n<!-- 31 -->\n<g id=\"node32\" class=\"node\">\n<title>31</title>\n<polygon fill=\"#e58139\" stroke=\"#000000\" points=\"918,-461.5 819,-461.5 819,-408.5 918,-408.5 918,-461.5\"/>\n<text text-anchor=\"middle\" x=\"868.5\" y=\"-446.3\" font-family=\"Helvetica,sans-Serif\" font-size=\"14.00\" fill=\"#000000\">samples = 3</text>\n<text text-anchor=\"middle\" x=\"868.5\" y=\"-431.3\" font-family=\"Helvetica,sans-Serif\" font-size=\"14.00\" fill=\"#000000\">value = [3, 0]</text>\n<text text-anchor=\"middle\" x=\"868.5\" y=\"-416.3\" font-family=\"Helvetica,sans-Serif\" font-size=\"14.00\" fill=\"#000000\">class = 1</text>\n</g>\n<!-- 29&#45;&gt;31 -->\n<g id=\"edge31\" class=\"edge\">\n<title>29&#45;&gt;31</title>\n<path fill=\"none\" stroke=\"#000000\" d=\"M833.5267,-504.9465C839.0342,-493.9316 845.1539,-481.6922 850.7149,-470.5703\"/>\n<polygon fill=\"#000000\" stroke=\"#000000\" points=\"853.8872,-472.0517 855.2289,-461.5422 847.6262,-468.9212 853.8872,-472.0517\"/>\n</g>\n<!-- 33 -->\n<g id=\"node34\" class=\"node\">\n<title>33</title>\n<polygon fill=\"#3d9fe6\" stroke=\"#000000\" points=\"1034,-781 927,-781 927,-713 1034,-713 1034,-781\"/>\n<text text-anchor=\"middle\" x=\"980.5\" y=\"-765.8\" font-family=\"Helvetica,sans-Serif\" font-size=\"14.00\" fill=\"#000000\">ca &lt;= 0.375</text>\n<text text-anchor=\"middle\" x=\"980.5\" y=\"-750.8\" font-family=\"Helvetica,sans-Serif\" font-size=\"14.00\" fill=\"#000000\">samples = 47</text>\n<text text-anchor=\"middle\" x=\"980.5\" y=\"-735.8\" font-family=\"Helvetica,sans-Serif\" font-size=\"14.00\" fill=\"#000000\">value = [1, 46]</text>\n<text text-anchor=\"middle\" x=\"980.5\" y=\"-720.8\" font-family=\"Helvetica,sans-Serif\" font-size=\"14.00\" fill=\"#000000\">class = 0</text>\n</g>\n<!-- 32&#45;&gt;33 -->\n<g id=\"edge33\" class=\"edge\">\n<title>32&#45;&gt;33</title>\n<path fill=\"none\" stroke=\"#000000\" d=\"M980.5,-816.9465C980.5,-808.776 980.5,-799.9318 980.5,-791.3697\"/>\n<polygon fill=\"#000000\" stroke=\"#000000\" points=\"984.0001,-791.13 980.5,-781.13 977.0001,-791.13 984.0001,-791.13\"/>\n</g>\n<!-- 38 -->\n<g id=\"node39\" class=\"node\">\n<title>38</title>\n<polygon fill=\"#9ccef2\" stroke=\"#000000\" points=\"1236.5,-781 1120.5,-781 1120.5,-713 1236.5,-713 1236.5,-781\"/>\n<text text-anchor=\"middle\" x=\"1178.5\" y=\"-765.8\" font-family=\"Helvetica,sans-Serif\" font-size=\"14.00\" fill=\"#000000\">age &lt;= 0.573</text>\n<text text-anchor=\"middle\" x=\"1178.5\" y=\"-750.8\" font-family=\"Helvetica,sans-Serif\" font-size=\"14.00\" fill=\"#000000\">samples = 78</text>\n<text text-anchor=\"middle\" x=\"1178.5\" y=\"-735.8\" font-family=\"Helvetica,sans-Serif\" font-size=\"14.00\" fill=\"#000000\">value = [26, 52]</text>\n<text text-anchor=\"middle\" x=\"1178.5\" y=\"-720.8\" font-family=\"Helvetica,sans-Serif\" font-size=\"14.00\" fill=\"#000000\">class = 0</text>\n</g>\n<!-- 32&#45;&gt;38 -->\n<g id=\"edge38\" class=\"edge\">\n<title>32&#45;&gt;38</title>\n<path fill=\"none\" stroke=\"#000000\" d=\"M1038.5687,-820.4993C1061.4361,-808.4881 1087.8397,-794.6196 1111.5082,-782.1876\"/>\n<polygon fill=\"#000000\" stroke=\"#000000\" points=\"1113.2068,-785.2489 1120.4324,-777.5002 1109.9517,-779.0517 1113.2068,-785.2489\"/>\n</g>\n<!-- 34 -->\n<g id=\"node35\" class=\"node\">\n<title>34</title>\n<polygon fill=\"#399de5\" stroke=\"#000000\" points=\"974,-669.5 867,-669.5 867,-616.5 974,-616.5 974,-669.5\"/>\n<text text-anchor=\"middle\" x=\"920.5\" y=\"-654.3\" font-family=\"Helvetica,sans-Serif\" font-size=\"14.00\" fill=\"#000000\">samples = 43</text>\n<text text-anchor=\"middle\" x=\"920.5\" y=\"-639.3\" font-family=\"Helvetica,sans-Serif\" font-size=\"14.00\" fill=\"#000000\">value = [0, 43]</text>\n<text text-anchor=\"middle\" x=\"920.5\" y=\"-624.3\" font-family=\"Helvetica,sans-Serif\" font-size=\"14.00\" fill=\"#000000\">class = 0</text>\n</g>\n<!-- 33&#45;&gt;34 -->\n<g id=\"edge34\" class=\"edge\">\n<title>33&#45;&gt;34</title>\n<path fill=\"none\" stroke=\"#000000\" d=\"M960.8538,-712.9465C954.4355,-701.8215 947.2965,-689.4473 940.829,-678.237\"/>\n<polygon fill=\"#000000\" stroke=\"#000000\" points=\"943.8417,-676.455 935.8128,-669.5422 937.7784,-679.9531 943.8417,-676.455\"/>\n</g>\n<!-- 35 -->\n<g id=\"node36\" class=\"node\">\n<title>35</title>\n<polygon fill=\"#7bbeee\" stroke=\"#000000\" points=\"1091,-677 992,-677 992,-609 1091,-609 1091,-677\"/>\n<text text-anchor=\"middle\" x=\"1041.5\" y=\"-661.8\" font-family=\"Helvetica,sans-Serif\" font-size=\"14.00\" fill=\"#000000\">fbs &lt;= 0.5</text>\n<text text-anchor=\"middle\" x=\"1041.5\" y=\"-646.8\" font-family=\"Helvetica,sans-Serif\" font-size=\"14.00\" fill=\"#000000\">samples = 4</text>\n<text text-anchor=\"middle\" x=\"1041.5\" y=\"-631.8\" font-family=\"Helvetica,sans-Serif\" font-size=\"14.00\" fill=\"#000000\">value = [1, 3]</text>\n<text text-anchor=\"middle\" x=\"1041.5\" y=\"-616.8\" font-family=\"Helvetica,sans-Serif\" font-size=\"14.00\" fill=\"#000000\">class = 0</text>\n</g>\n<!-- 33&#45;&gt;35 -->\n<g id=\"edge35\" class=\"edge\">\n<title>33&#45;&gt;35</title>\n<path fill=\"none\" stroke=\"#000000\" d=\"M1000.4737,-712.9465C1005.5293,-704.3271 1011.0247,-694.9579 1016.3017,-685.9611\"/>\n<polygon fill=\"#000000\" stroke=\"#000000\" points=\"1019.4411,-687.5265 1021.4814,-677.13 1013.4031,-683.985 1019.4411,-687.5265\"/>\n</g>\n<!-- 36 -->\n<g id=\"node37\" class=\"node\">\n<title>36</title>\n<polygon fill=\"#399de5\" stroke=\"#000000\" points=\"983,-565.5 884,-565.5 884,-512.5 983,-512.5 983,-565.5\"/>\n<text text-anchor=\"middle\" x=\"933.5\" y=\"-550.3\" font-family=\"Helvetica,sans-Serif\" font-size=\"14.00\" fill=\"#000000\">samples = 3</text>\n<text text-anchor=\"middle\" x=\"933.5\" y=\"-535.3\" font-family=\"Helvetica,sans-Serif\" font-size=\"14.00\" fill=\"#000000\">value = [0, 3]</text>\n<text text-anchor=\"middle\" x=\"933.5\" y=\"-520.3\" font-family=\"Helvetica,sans-Serif\" font-size=\"14.00\" fill=\"#000000\">class = 0</text>\n</g>\n<!-- 35&#45;&gt;36 -->\n<g id=\"edge36\" class=\"edge\">\n<title>35&#45;&gt;36</title>\n<path fill=\"none\" stroke=\"#000000\" d=\"M1006.1368,-608.9465C994.0119,-597.2707 980.4582,-584.219 968.3725,-572.5809\"/>\n<polygon fill=\"#000000\" stroke=\"#000000\" points=\"970.694,-569.9575 961.063,-565.5422 965.8385,-574.9997 970.694,-569.9575\"/>\n</g>\n<!-- 37 -->\n<g id=\"node38\" class=\"node\">\n<title>37</title>\n<polygon fill=\"#e58139\" stroke=\"#000000\" points=\"1100,-565.5 1001,-565.5 1001,-512.5 1100,-512.5 1100,-565.5\"/>\n<text text-anchor=\"middle\" x=\"1050.5\" y=\"-550.3\" font-family=\"Helvetica,sans-Serif\" font-size=\"14.00\" fill=\"#000000\">samples = 1</text>\n<text text-anchor=\"middle\" x=\"1050.5\" y=\"-535.3\" font-family=\"Helvetica,sans-Serif\" font-size=\"14.00\" fill=\"#000000\">value = [1, 0]</text>\n<text text-anchor=\"middle\" x=\"1050.5\" y=\"-520.3\" font-family=\"Helvetica,sans-Serif\" font-size=\"14.00\" fill=\"#000000\">class = 1</text>\n</g>\n<!-- 35&#45;&gt;37 -->\n<g id=\"edge37\" class=\"edge\">\n<title>35&#45;&gt;37</title>\n<path fill=\"none\" stroke=\"#000000\" d=\"M1044.4469,-608.9465C1045.3716,-598.2621 1046.3959,-586.4254 1047.3349,-575.5742\"/>\n<polygon fill=\"#000000\" stroke=\"#000000\" points=\"1050.8278,-575.8067 1048.2031,-565.5422 1043.8539,-575.2031 1050.8278,-575.8067\"/>\n</g>\n<!-- 39 -->\n<g id=\"node40\" class=\"node\">\n<title>39</title>\n<polygon fill=\"#66b3eb\" stroke=\"#000000\" points=\"1241,-677 1116,-677 1116,-609 1241,-609 1241,-677\"/>\n<text text-anchor=\"middle\" x=\"1178.5\" y=\"-661.8\" font-family=\"Helvetica,sans-Serif\" font-size=\"14.00\" fill=\"#000000\">thalach &lt;= 0.592</text>\n<text text-anchor=\"middle\" x=\"1178.5\" y=\"-646.8\" font-family=\"Helvetica,sans-Serif\" font-size=\"14.00\" fill=\"#000000\">samples = 49</text>\n<text text-anchor=\"middle\" x=\"1178.5\" y=\"-631.8\" font-family=\"Helvetica,sans-Serif\" font-size=\"14.00\" fill=\"#000000\">value = [9, 40]</text>\n<text text-anchor=\"middle\" x=\"1178.5\" y=\"-616.8\" font-family=\"Helvetica,sans-Serif\" font-size=\"14.00\" fill=\"#000000\">class = 0</text>\n</g>\n<!-- 38&#45;&gt;39 -->\n<g id=\"edge39\" class=\"edge\">\n<title>38&#45;&gt;39</title>\n<path fill=\"none\" stroke=\"#000000\" d=\"M1178.5,-712.9465C1178.5,-704.776 1178.5,-695.9318 1178.5,-687.3697\"/>\n<polygon fill=\"#000000\" stroke=\"#000000\" points=\"1182.0001,-687.13 1178.5,-677.13 1175.0001,-687.13 1182.0001,-687.13\"/>\n</g>\n<!-- 56 -->\n<g id=\"node57\" class=\"node\">\n<title>56</title>\n<polygon fill=\"#f7dac5\" stroke=\"#000000\" points=\"1663.5,-677 1547.5,-677 1547.5,-609 1663.5,-609 1663.5,-677\"/>\n<text text-anchor=\"middle\" x=\"1605.5\" y=\"-661.8\" font-family=\"Helvetica,sans-Serif\" font-size=\"14.00\" fill=\"#000000\">chol &lt;= 0.35</text>\n<text text-anchor=\"middle\" x=\"1605.5\" y=\"-646.8\" font-family=\"Helvetica,sans-Serif\" font-size=\"14.00\" fill=\"#000000\">samples = 29</text>\n<text text-anchor=\"middle\" x=\"1605.5\" y=\"-631.8\" font-family=\"Helvetica,sans-Serif\" font-size=\"14.00\" fill=\"#000000\">value = [17, 12]</text>\n<text text-anchor=\"middle\" x=\"1605.5\" y=\"-616.8\" font-family=\"Helvetica,sans-Serif\" font-size=\"14.00\" fill=\"#000000\">class = 1</text>\n</g>\n<!-- 38&#45;&gt;56 -->\n<g id=\"edge56\" class=\"edge\">\n<title>38&#45;&gt;56</title>\n<path fill=\"none\" stroke=\"#000000\" d=\"M1236.5315,-732.8659C1314.8667,-713.7866 1454.1897,-679.8531 1537.3926,-659.5882\"/>\n<polygon fill=\"#000000\" stroke=\"#000000\" points=\"1538.3655,-662.9537 1547.2532,-657.1866 1536.709,-656.1525 1538.3655,-662.9537\"/>\n</g>\n<!-- 40 -->\n<g id=\"node41\" class=\"node\">\n<title>40</title>\n<polygon fill=\"#efb388\" stroke=\"#000000\" points=\"1220.5,-573 1118.5,-573 1118.5,-505 1220.5,-505 1220.5,-573\"/>\n<text text-anchor=\"middle\" x=\"1169.5\" y=\"-557.8\" font-family=\"Helvetica,sans-Serif\" font-size=\"14.00\" fill=\"#000000\">age &lt;= 0.438</text>\n<text text-anchor=\"middle\" x=\"1169.5\" y=\"-542.8\" font-family=\"Helvetica,sans-Serif\" font-size=\"14.00\" fill=\"#000000\">samples = 7</text>\n<text text-anchor=\"middle\" x=\"1169.5\" y=\"-527.8\" font-family=\"Helvetica,sans-Serif\" font-size=\"14.00\" fill=\"#000000\">value = [5, 2]</text>\n<text text-anchor=\"middle\" x=\"1169.5\" y=\"-512.8\" font-family=\"Helvetica,sans-Serif\" font-size=\"14.00\" fill=\"#000000\">class = 1</text>\n</g>\n<!-- 39&#45;&gt;40 -->\n<g id=\"edge40\" class=\"edge\">\n<title>39&#45;&gt;40</title>\n<path fill=\"none\" stroke=\"#000000\" d=\"M1175.5531,-608.9465C1174.846,-600.776 1174.0806,-591.9318 1173.3397,-583.3697\"/>\n<polygon fill=\"#000000\" stroke=\"#000000\" points=\"1176.8028,-582.791 1172.4536,-573.13 1169.8288,-583.3945 1176.8028,-582.791\"/>\n</g>\n<!-- 45 -->\n<g id=\"node46\" class=\"node\">\n<title>45</title>\n<polygon fill=\"#4ea7e8\" stroke=\"#000000\" points=\"1374,-573 1245,-573 1245,-505 1374,-505 1374,-573\"/>\n<text text-anchor=\"middle\" x=\"1309.5\" y=\"-557.8\" font-family=\"Helvetica,sans-Serif\" font-size=\"14.00\" fill=\"#000000\">trestbps &lt;= 0.736</text>\n<text text-anchor=\"middle\" x=\"1309.5\" y=\"-542.8\" font-family=\"Helvetica,sans-Serif\" font-size=\"14.00\" fill=\"#000000\">samples = 42</text>\n<text text-anchor=\"middle\" x=\"1309.5\" y=\"-527.8\" font-family=\"Helvetica,sans-Serif\" font-size=\"14.00\" fill=\"#000000\">value = [4, 38]</text>\n<text text-anchor=\"middle\" x=\"1309.5\" y=\"-512.8\" font-family=\"Helvetica,sans-Serif\" font-size=\"14.00\" fill=\"#000000\">class = 0</text>\n</g>\n<!-- 39&#45;&gt;45 -->\n<g id=\"edge45\" class=\"edge\">\n<title>39&#45;&gt;45</title>\n<path fill=\"none\" stroke=\"#000000\" d=\"M1221.3943,-608.9465C1233.2693,-599.519 1246.2741,-589.1946 1258.5593,-579.4415\"/>\n<polygon fill=\"#000000\" stroke=\"#000000\" points=\"1260.8536,-582.089 1266.5093,-573.13 1256.5011,-576.6066 1260.8536,-582.089\"/>\n</g>\n<!-- 41 -->\n<g id=\"node42\" class=\"node\">\n<title>41</title>\n<polygon fill=\"#e58139\" stroke=\"#000000\" points=\"1080,-461.5 981,-461.5 981,-408.5 1080,-408.5 1080,-461.5\"/>\n<text text-anchor=\"middle\" x=\"1030.5\" y=\"-446.3\" font-family=\"Helvetica,sans-Serif\" font-size=\"14.00\" fill=\"#000000\">samples = 4</text>\n<text text-anchor=\"middle\" x=\"1030.5\" y=\"-431.3\" font-family=\"Helvetica,sans-Serif\" font-size=\"14.00\" fill=\"#000000\">value = [4, 0]</text>\n<text text-anchor=\"middle\" x=\"1030.5\" y=\"-416.3\" font-family=\"Helvetica,sans-Serif\" font-size=\"14.00\" fill=\"#000000\">class = 1</text>\n</g>\n<!-- 40&#45;&gt;41 -->\n<g id=\"edge41\" class=\"edge\">\n<title>40&#45;&gt;41</title>\n<path fill=\"none\" stroke=\"#000000\" d=\"M1123.9862,-504.9465C1107.9394,-492.9403 1089.9481,-479.4791 1074.0661,-467.5962\"/>\n<polygon fill=\"#000000\" stroke=\"#000000\" points=\"1076.0783,-464.7306 1065.9746,-461.5422 1071.8848,-470.3354 1076.0783,-464.7306\"/>\n</g>\n<!-- 42 -->\n<g id=\"node43\" class=\"node\">\n<title>42</title>\n<polygon fill=\"#9ccef2\" stroke=\"#000000\" points=\"1227,-469 1098,-469 1098,-401 1227,-401 1227,-469\"/>\n<text text-anchor=\"middle\" x=\"1162.5\" y=\"-453.8\" font-family=\"Helvetica,sans-Serif\" font-size=\"14.00\" fill=\"#000000\">trestbps &lt;= 0.292</text>\n<text text-anchor=\"middle\" x=\"1162.5\" y=\"-438.8\" font-family=\"Helvetica,sans-Serif\" font-size=\"14.00\" fill=\"#000000\">samples = 3</text>\n<text text-anchor=\"middle\" x=\"1162.5\" y=\"-423.8\" font-family=\"Helvetica,sans-Serif\" font-size=\"14.00\" fill=\"#000000\">value = [1, 2]</text>\n<text text-anchor=\"middle\" x=\"1162.5\" y=\"-408.8\" font-family=\"Helvetica,sans-Serif\" font-size=\"14.00\" fill=\"#000000\">class = 0</text>\n</g>\n<!-- 40&#45;&gt;42 -->\n<g id=\"edge42\" class=\"edge\">\n<title>40&#45;&gt;42</title>\n<path fill=\"none\" stroke=\"#000000\" d=\"M1167.2079,-504.9465C1166.658,-496.776 1166.0627,-487.9318 1165.4864,-479.3697\"/>\n<polygon fill=\"#000000\" stroke=\"#000000\" points=\"1168.961,-478.8723 1164.7972,-469.13 1161.9768,-479.3425 1168.961,-478.8723\"/>\n</g>\n<!-- 43 -->\n<g id=\"node44\" class=\"node\">\n<title>43</title>\n<polygon fill=\"#399de5\" stroke=\"#000000\" points=\"1095,-357.5 996,-357.5 996,-304.5 1095,-304.5 1095,-357.5\"/>\n<text text-anchor=\"middle\" x=\"1045.5\" y=\"-342.3\" font-family=\"Helvetica,sans-Serif\" font-size=\"14.00\" fill=\"#000000\">samples = 2</text>\n<text text-anchor=\"middle\" x=\"1045.5\" y=\"-327.3\" font-family=\"Helvetica,sans-Serif\" font-size=\"14.00\" fill=\"#000000\">value = [0, 2]</text>\n<text text-anchor=\"middle\" x=\"1045.5\" y=\"-312.3\" font-family=\"Helvetica,sans-Serif\" font-size=\"14.00\" fill=\"#000000\">class = 0</text>\n</g>\n<!-- 42&#45;&gt;43 -->\n<g id=\"edge43\" class=\"edge\">\n<title>42&#45;&gt;43</title>\n<path fill=\"none\" stroke=\"#000000\" d=\"M1124.1898,-400.9465C1110.9306,-389.1606 1096.0942,-375.9726 1082.9084,-364.2519\"/>\n<polygon fill=\"#000000\" stroke=\"#000000\" points=\"1085.1593,-361.5699 1075.3599,-357.5422 1080.5088,-366.8018 1085.1593,-361.5699\"/>\n</g>\n<!-- 44 -->\n<g id=\"node45\" class=\"node\">\n<title>44</title>\n<polygon fill=\"#e58139\" stroke=\"#000000\" points=\"1212,-357.5 1113,-357.5 1113,-304.5 1212,-304.5 1212,-357.5\"/>\n<text text-anchor=\"middle\" x=\"1162.5\" y=\"-342.3\" font-family=\"Helvetica,sans-Serif\" font-size=\"14.00\" fill=\"#000000\">samples = 1</text>\n<text text-anchor=\"middle\" x=\"1162.5\" y=\"-327.3\" font-family=\"Helvetica,sans-Serif\" font-size=\"14.00\" fill=\"#000000\">value = [1, 0]</text>\n<text text-anchor=\"middle\" x=\"1162.5\" y=\"-312.3\" font-family=\"Helvetica,sans-Serif\" font-size=\"14.00\" fill=\"#000000\">class = 1</text>\n</g>\n<!-- 42&#45;&gt;44 -->\n<g id=\"edge44\" class=\"edge\">\n<title>42&#45;&gt;44</title>\n<path fill=\"none\" stroke=\"#000000\" d=\"M1162.5,-400.9465C1162.5,-390.2621 1162.5,-378.4254 1162.5,-367.5742\"/>\n<polygon fill=\"#000000\" stroke=\"#000000\" points=\"1166.0001,-367.5421 1162.5,-357.5422 1159.0001,-367.5422 1166.0001,-367.5421\"/>\n</g>\n<!-- 46 -->\n<g id=\"node47\" class=\"node\">\n<title>46</title>\n<polygon fill=\"#49a5e7\" stroke=\"#000000\" points=\"1374,-469 1245,-469 1245,-401 1374,-401 1374,-469\"/>\n<text text-anchor=\"middle\" x=\"1309.5\" y=\"-453.8\" font-family=\"Helvetica,sans-Serif\" font-size=\"14.00\" fill=\"#000000\">trestbps &lt;= 0.269</text>\n<text text-anchor=\"middle\" x=\"1309.5\" y=\"-438.8\" font-family=\"Helvetica,sans-Serif\" font-size=\"14.00\" fill=\"#000000\">samples = 41</text>\n<text text-anchor=\"middle\" x=\"1309.5\" y=\"-423.8\" font-family=\"Helvetica,sans-Serif\" font-size=\"14.00\" fill=\"#000000\">value = [3, 38]</text>\n<text text-anchor=\"middle\" x=\"1309.5\" y=\"-408.8\" font-family=\"Helvetica,sans-Serif\" font-size=\"14.00\" fill=\"#000000\">class = 0</text>\n</g>\n<!-- 45&#45;&gt;46 -->\n<g id=\"edge46\" class=\"edge\">\n<title>45&#45;&gt;46</title>\n<path fill=\"none\" stroke=\"#000000\" d=\"M1309.5,-504.9465C1309.5,-496.776 1309.5,-487.9318 1309.5,-479.3697\"/>\n<polygon fill=\"#000000\" stroke=\"#000000\" points=\"1313.0001,-479.13 1309.5,-469.13 1306.0001,-479.13 1313.0001,-479.13\"/>\n</g>\n<!-- 55 -->\n<g id=\"node56\" class=\"node\">\n<title>55</title>\n<polygon fill=\"#e58139\" stroke=\"#000000\" points=\"1491,-461.5 1392,-461.5 1392,-408.5 1491,-408.5 1491,-461.5\"/>\n<text text-anchor=\"middle\" x=\"1441.5\" y=\"-446.3\" font-family=\"Helvetica,sans-Serif\" font-size=\"14.00\" fill=\"#000000\">samples = 1</text>\n<text text-anchor=\"middle\" x=\"1441.5\" y=\"-431.3\" font-family=\"Helvetica,sans-Serif\" font-size=\"14.00\" fill=\"#000000\">value = [1, 0]</text>\n<text text-anchor=\"middle\" x=\"1441.5\" y=\"-416.3\" font-family=\"Helvetica,sans-Serif\" font-size=\"14.00\" fill=\"#000000\">class = 1</text>\n</g>\n<!-- 45&#45;&gt;55 -->\n<g id=\"edge55\" class=\"edge\">\n<title>45&#45;&gt;55</title>\n<path fill=\"none\" stroke=\"#000000\" d=\"M1352.7217,-504.9465C1367.8206,-493.0504 1384.7324,-479.726 1399.7122,-467.9237\"/>\n<polygon fill=\"#000000\" stroke=\"#000000\" points=\"1402.123,-470.4802 1407.8119,-461.5422 1397.7909,-464.9817 1402.123,-470.4802\"/>\n</g>\n<!-- 47 -->\n<g id=\"node48\" class=\"node\">\n<title>47</title>\n<polygon fill=\"#67b4eb\" stroke=\"#000000\" points=\"1337,-365 1230,-365 1230,-297 1337,-297 1337,-365\"/>\n<text text-anchor=\"middle\" x=\"1283.5\" y=\"-349.8\" font-family=\"Helvetica,sans-Serif\" font-size=\"14.00\" fill=\"#000000\">chol &lt;= 0.233</text>\n<text text-anchor=\"middle\" x=\"1283.5\" y=\"-334.8\" font-family=\"Helvetica,sans-Serif\" font-size=\"14.00\" fill=\"#000000\">samples = 16</text>\n<text text-anchor=\"middle\" x=\"1283.5\" y=\"-319.8\" font-family=\"Helvetica,sans-Serif\" font-size=\"14.00\" fill=\"#000000\">value = [3, 13]</text>\n<text text-anchor=\"middle\" x=\"1283.5\" y=\"-304.8\" font-family=\"Helvetica,sans-Serif\" font-size=\"14.00\" fill=\"#000000\">class = 0</text>\n</g>\n<!-- 46&#45;&gt;47 -->\n<g id=\"edge47\" class=\"edge\">\n<title>46&#45;&gt;47</title>\n<path fill=\"none\" stroke=\"#000000\" d=\"M1300.9866,-400.9465C1298.9216,-392.6863 1296.6843,-383.7374 1294.5219,-375.0875\"/>\n<polygon fill=\"#000000\" stroke=\"#000000\" points=\"1297.8534,-373.9825 1292.0325,-365.13 1291.0624,-375.6803 1297.8534,-373.9825\"/>\n</g>\n<!-- 54 -->\n<g id=\"node55\" class=\"node\">\n<title>54</title>\n<polygon fill=\"#399de5\" stroke=\"#000000\" points=\"1462,-357.5 1355,-357.5 1355,-304.5 1462,-304.5 1462,-357.5\"/>\n<text text-anchor=\"middle\" x=\"1408.5\" y=\"-342.3\" font-family=\"Helvetica,sans-Serif\" font-size=\"14.00\" fill=\"#000000\">samples = 25</text>\n<text text-anchor=\"middle\" x=\"1408.5\" y=\"-327.3\" font-family=\"Helvetica,sans-Serif\" font-size=\"14.00\" fill=\"#000000\">value = [0, 25]</text>\n<text text-anchor=\"middle\" x=\"1408.5\" y=\"-312.3\" font-family=\"Helvetica,sans-Serif\" font-size=\"14.00\" fill=\"#000000\">class = 0</text>\n</g>\n<!-- 46&#45;&gt;54 -->\n<g id=\"edge54\" class=\"edge\">\n<title>46&#45;&gt;54</title>\n<path fill=\"none\" stroke=\"#000000\" d=\"M1341.9163,-400.9465C1352.9259,-389.3809 1365.2207,-376.4652 1376.2196,-364.9107\"/>\n<polygon fill=\"#000000\" stroke=\"#000000\" points=\"1378.8741,-367.1984 1383.2339,-357.5422 1373.804,-362.372 1378.8741,-367.1984\"/>\n</g>\n<!-- 48 -->\n<g id=\"node49\" class=\"node\">\n<title>48</title>\n<polygon fill=\"#399de5\" stroke=\"#000000\" points=\"1216,-253.5 1117,-253.5 1117,-200.5 1216,-200.5 1216,-253.5\"/>\n<text text-anchor=\"middle\" x=\"1166.5\" y=\"-238.3\" font-family=\"Helvetica,sans-Serif\" font-size=\"14.00\" fill=\"#000000\">samples = 8</text>\n<text text-anchor=\"middle\" x=\"1166.5\" y=\"-223.3\" font-family=\"Helvetica,sans-Serif\" font-size=\"14.00\" fill=\"#000000\">value = [0, 8]</text>\n<text text-anchor=\"middle\" x=\"1166.5\" y=\"-208.3\" font-family=\"Helvetica,sans-Serif\" font-size=\"14.00\" fill=\"#000000\">class = 0</text>\n</g>\n<!-- 47&#45;&gt;48 -->\n<g id=\"edge48\" class=\"edge\">\n<title>47&#45;&gt;48</title>\n<path fill=\"none\" stroke=\"#000000\" d=\"M1245.1898,-296.9465C1231.9306,-285.1606 1217.0942,-271.9726 1203.9084,-260.2519\"/>\n<polygon fill=\"#000000\" stroke=\"#000000\" points=\"1206.1593,-257.5699 1196.3599,-253.5422 1201.5088,-262.8018 1206.1593,-257.5699\"/>\n</g>\n<!-- 49 -->\n<g id=\"node50\" class=\"node\">\n<title>49</title>\n<polygon fill=\"#b0d8f5\" stroke=\"#000000\" points=\"1363,-261 1234,-261 1234,-193 1363,-193 1363,-261\"/>\n<text text-anchor=\"middle\" x=\"1298.5\" y=\"-245.8\" font-family=\"Helvetica,sans-Serif\" font-size=\"14.00\" fill=\"#000000\">oldpeak &lt;= 0.145</text>\n<text text-anchor=\"middle\" x=\"1298.5\" y=\"-230.8\" font-family=\"Helvetica,sans-Serif\" font-size=\"14.00\" fill=\"#000000\">samples = 8</text>\n<text text-anchor=\"middle\" x=\"1298.5\" y=\"-215.8\" font-family=\"Helvetica,sans-Serif\" font-size=\"14.00\" fill=\"#000000\">value = [3, 5]</text>\n<text text-anchor=\"middle\" x=\"1298.5\" y=\"-200.8\" font-family=\"Helvetica,sans-Serif\" font-size=\"14.00\" fill=\"#000000\">class = 0</text>\n</g>\n<!-- 47&#45;&gt;49 -->\n<g id=\"edge49\" class=\"edge\">\n<title>47&#45;&gt;49</title>\n<path fill=\"none\" stroke=\"#000000\" d=\"M1288.4116,-296.9465C1289.6029,-288.6863 1290.8937,-279.7374 1292.1412,-271.0875\"/>\n<polygon fill=\"#000000\" stroke=\"#000000\" points=\"1295.6139,-271.5272 1293.5774,-261.13 1288.6856,-270.5279 1295.6139,-271.5272\"/>\n</g>\n<!-- 50 -->\n<g id=\"node51\" class=\"node\">\n<title>50</title>\n<polygon fill=\"#61b1ea\" stroke=\"#000000\" points=\"1272,-157 1147,-157 1147,-89 1272,-89 1272,-157\"/>\n<text text-anchor=\"middle\" x=\"1209.5\" y=\"-141.8\" font-family=\"Helvetica,sans-Serif\" font-size=\"14.00\" fill=\"#000000\">thalach &lt;= 0.634</text>\n<text text-anchor=\"middle\" x=\"1209.5\" y=\"-126.8\" font-family=\"Helvetica,sans-Serif\" font-size=\"14.00\" fill=\"#000000\">samples = 6</text>\n<text text-anchor=\"middle\" x=\"1209.5\" y=\"-111.8\" font-family=\"Helvetica,sans-Serif\" font-size=\"14.00\" fill=\"#000000\">value = [1, 5]</text>\n<text text-anchor=\"middle\" x=\"1209.5\" y=\"-96.8\" font-family=\"Helvetica,sans-Serif\" font-size=\"14.00\" fill=\"#000000\">class = 0</text>\n</g>\n<!-- 49&#45;&gt;50 -->\n<g id=\"edge50\" class=\"edge\">\n<title>49&#45;&gt;50</title>\n<path fill=\"none\" stroke=\"#000000\" d=\"M1269.3581,-192.9465C1261.6745,-183.968 1253.2947,-174.1758 1245.3041,-164.8385\"/>\n<polygon fill=\"#000000\" stroke=\"#000000\" points=\"1247.8685,-162.4521 1238.7074,-157.13 1242.5501,-167.0034 1247.8685,-162.4521\"/>\n</g>\n<!-- 53 -->\n<g id=\"node54\" class=\"node\">\n<title>53</title>\n<polygon fill=\"#e58139\" stroke=\"#000000\" points=\"1389,-149.5 1290,-149.5 1290,-96.5 1389,-96.5 1389,-149.5\"/>\n<text text-anchor=\"middle\" x=\"1339.5\" y=\"-134.3\" font-family=\"Helvetica,sans-Serif\" font-size=\"14.00\" fill=\"#000000\">samples = 2</text>\n<text text-anchor=\"middle\" x=\"1339.5\" y=\"-119.3\" font-family=\"Helvetica,sans-Serif\" font-size=\"14.00\" fill=\"#000000\">value = [2, 0]</text>\n<text text-anchor=\"middle\" x=\"1339.5\" y=\"-104.3\" font-family=\"Helvetica,sans-Serif\" font-size=\"14.00\" fill=\"#000000\">class = 1</text>\n</g>\n<!-- 49&#45;&gt;53 -->\n<g id=\"edge53\" class=\"edge\">\n<title>49&#45;&gt;53</title>\n<path fill=\"none\" stroke=\"#000000\" d=\"M1311.9249,-192.9465C1316.2239,-182.0418 1320.9961,-169.9368 1325.3454,-158.9043\"/>\n<polygon fill=\"#000000\" stroke=\"#000000\" points=\"1328.6247,-160.129 1329.0363,-149.5422 1322.1125,-157.5617 1328.6247,-160.129\"/>\n</g>\n<!-- 51 -->\n<g id=\"node52\" class=\"node\">\n<title>51</title>\n<polygon fill=\"#e58139\" stroke=\"#000000\" points=\"1201,-53 1102,-53 1102,0 1201,0 1201,-53\"/>\n<text text-anchor=\"middle\" x=\"1151.5\" y=\"-37.8\" font-family=\"Helvetica,sans-Serif\" font-size=\"14.00\" fill=\"#000000\">samples = 1</text>\n<text text-anchor=\"middle\" x=\"1151.5\" y=\"-22.8\" font-family=\"Helvetica,sans-Serif\" font-size=\"14.00\" fill=\"#000000\">value = [1, 0]</text>\n<text text-anchor=\"middle\" x=\"1151.5\" y=\"-7.8\" font-family=\"Helvetica,sans-Serif\" font-size=\"14.00\" fill=\"#000000\">class = 1</text>\n</g>\n<!-- 50&#45;&gt;51 -->\n<g id=\"edge51\" class=\"edge\">\n<title>50&#45;&gt;51</title>\n<path fill=\"none\" stroke=\"#000000\" d=\"M1189.0514,-88.9777C1183.7678,-80.187 1178.0684,-70.7044 1172.7452,-61.8477\"/>\n<polygon fill=\"#000000\" stroke=\"#000000\" points=\"1175.7282,-60.0165 1167.5768,-53.2485 1169.7285,-63.6225 1175.7282,-60.0165\"/>\n</g>\n<!-- 52 -->\n<g id=\"node53\" class=\"node\">\n<title>52</title>\n<polygon fill=\"#399de5\" stroke=\"#000000\" points=\"1318,-53 1219,-53 1219,0 1318,0 1318,-53\"/>\n<text text-anchor=\"middle\" x=\"1268.5\" y=\"-37.8\" font-family=\"Helvetica,sans-Serif\" font-size=\"14.00\" fill=\"#000000\">samples = 5</text>\n<text text-anchor=\"middle\" x=\"1268.5\" y=\"-22.8\" font-family=\"Helvetica,sans-Serif\" font-size=\"14.00\" fill=\"#000000\">value = [0, 5]</text>\n<text text-anchor=\"middle\" x=\"1268.5\" y=\"-7.8\" font-family=\"Helvetica,sans-Serif\" font-size=\"14.00\" fill=\"#000000\">class = 0</text>\n</g>\n<!-- 50&#45;&gt;52 -->\n<g id=\"edge52\" class=\"edge\">\n<title>50&#45;&gt;52</title>\n<path fill=\"none\" stroke=\"#000000\" d=\"M1230.3012,-88.9777C1235.6758,-80.187 1241.4735,-70.7044 1246.8885,-61.8477\"/>\n<polygon fill=\"#000000\" stroke=\"#000000\" points=\"1249.9158,-63.6059 1252.146,-53.2485 1243.9436,-59.9545 1249.9158,-63.6059\"/>\n</g>\n<!-- 57 -->\n<g id=\"node58\" class=\"node\">\n<title>57</title>\n<polygon fill=\"#fdf5f0\" stroke=\"#000000\" points=\"1663.5,-573 1547.5,-573 1547.5,-505 1663.5,-505 1663.5,-573\"/>\n<text text-anchor=\"middle\" x=\"1605.5\" y=\"-557.8\" font-family=\"Helvetica,sans-Serif\" font-size=\"14.00\" fill=\"#000000\">ca &lt;= 0.125</text>\n<text text-anchor=\"middle\" x=\"1605.5\" y=\"-542.8\" font-family=\"Helvetica,sans-Serif\" font-size=\"14.00\" fill=\"#000000\">samples = 25</text>\n<text text-anchor=\"middle\" x=\"1605.5\" y=\"-527.8\" font-family=\"Helvetica,sans-Serif\" font-size=\"14.00\" fill=\"#000000\">value = [13, 12]</text>\n<text text-anchor=\"middle\" x=\"1605.5\" y=\"-512.8\" font-family=\"Helvetica,sans-Serif\" font-size=\"14.00\" fill=\"#000000\">class = 1</text>\n</g>\n<!-- 56&#45;&gt;57 -->\n<g id=\"edge57\" class=\"edge\">\n<title>56&#45;&gt;57</title>\n<path fill=\"none\" stroke=\"#000000\" d=\"M1605.5,-608.9465C1605.5,-600.776 1605.5,-591.9318 1605.5,-583.3697\"/>\n<polygon fill=\"#000000\" stroke=\"#000000\" points=\"1609.0001,-583.13 1605.5,-573.13 1602.0001,-583.13 1609.0001,-583.13\"/>\n</g>\n<!-- 72 -->\n<g id=\"node73\" class=\"node\">\n<title>72</title>\n<polygon fill=\"#e58139\" stroke=\"#000000\" points=\"1781,-565.5 1682,-565.5 1682,-512.5 1781,-512.5 1781,-565.5\"/>\n<text text-anchor=\"middle\" x=\"1731.5\" y=\"-550.3\" font-family=\"Helvetica,sans-Serif\" font-size=\"14.00\" fill=\"#000000\">samples = 4</text>\n<text text-anchor=\"middle\" x=\"1731.5\" y=\"-535.3\" font-family=\"Helvetica,sans-Serif\" font-size=\"14.00\" fill=\"#000000\">value = [4, 0]</text>\n<text text-anchor=\"middle\" x=\"1731.5\" y=\"-520.3\" font-family=\"Helvetica,sans-Serif\" font-size=\"14.00\" fill=\"#000000\">class = 1</text>\n</g>\n<!-- 56&#45;&gt;72 -->\n<g id=\"edge72\" class=\"edge\">\n<title>56&#45;&gt;72</title>\n<path fill=\"none\" stroke=\"#000000\" d=\"M1646.7571,-608.9465C1661.1697,-597.0504 1677.3127,-583.726 1691.6117,-571.9237\"/>\n<polygon fill=\"#000000\" stroke=\"#000000\" points=\"1693.8589,-574.6071 1699.3431,-565.5422 1689.4029,-569.2086 1693.8589,-574.6071\"/>\n</g>\n<!-- 58 -->\n<g id=\"node59\" class=\"node\">\n<title>58</title>\n<polygon fill=\"#91c9f1\" stroke=\"#000000\" points=\"1657.5,-469 1553.5,-469 1553.5,-401 1657.5,-401 1657.5,-469\"/>\n<text text-anchor=\"middle\" x=\"1605.5\" y=\"-453.8\" font-family=\"Helvetica,sans-Serif\" font-size=\"14.00\" fill=\"#000000\">age &lt;= 0.76</text>\n<text text-anchor=\"middle\" x=\"1605.5\" y=\"-438.8\" font-family=\"Helvetica,sans-Serif\" font-size=\"14.00\" fill=\"#000000\">samples = 13</text>\n<text text-anchor=\"middle\" x=\"1605.5\" y=\"-423.8\" font-family=\"Helvetica,sans-Serif\" font-size=\"14.00\" fill=\"#000000\">value = [4, 9]</text>\n<text text-anchor=\"middle\" x=\"1605.5\" y=\"-408.8\" font-family=\"Helvetica,sans-Serif\" font-size=\"14.00\" fill=\"#000000\">class = 0</text>\n</g>\n<!-- 57&#45;&gt;58 -->\n<g id=\"edge58\" class=\"edge\">\n<title>57&#45;&gt;58</title>\n<path fill=\"none\" stroke=\"#000000\" d=\"M1605.5,-504.9465C1605.5,-496.776 1605.5,-487.9318 1605.5,-479.3697\"/>\n<polygon fill=\"#000000\" stroke=\"#000000\" points=\"1609.0001,-479.13 1605.5,-469.13 1602.0001,-479.13 1609.0001,-479.13\"/>\n</g>\n<!-- 65 -->\n<g id=\"node66\" class=\"node\">\n<title>65</title>\n<polygon fill=\"#eeab7b\" stroke=\"#000000\" points=\"1849,-469 1720,-469 1720,-401 1849,-401 1849,-469\"/>\n<text text-anchor=\"middle\" x=\"1784.5\" y=\"-453.8\" font-family=\"Helvetica,sans-Serif\" font-size=\"14.00\" fill=\"#000000\">oldpeak &lt;= 0.242</text>\n<text text-anchor=\"middle\" x=\"1784.5\" y=\"-438.8\" font-family=\"Helvetica,sans-Serif\" font-size=\"14.00\" fill=\"#000000\">samples = 12</text>\n<text text-anchor=\"middle\" x=\"1784.5\" y=\"-423.8\" font-family=\"Helvetica,sans-Serif\" font-size=\"14.00\" fill=\"#000000\">value = [9, 3]</text>\n<text text-anchor=\"middle\" x=\"1784.5\" y=\"-408.8\" font-family=\"Helvetica,sans-Serif\" font-size=\"14.00\" fill=\"#000000\">class = 1</text>\n</g>\n<!-- 57&#45;&gt;65 -->\n<g id=\"edge65\" class=\"edge\">\n<title>57&#45;&gt;65</title>\n<path fill=\"none\" stroke=\"#000000\" d=\"M1663.6162,-505.2342C1680.5676,-495.3853 1699.2389,-484.5372 1716.7314,-474.3739\"/>\n<polygon fill=\"#000000\" stroke=\"#000000\" points=\"1718.8678,-477.1806 1725.7561,-469.1306 1715.3512,-471.128 1718.8678,-477.1806\"/>\n</g>\n<!-- 59 -->\n<g id=\"node60\" class=\"node\">\n<title>59</title>\n<polygon fill=\"#65b3eb\" stroke=\"#000000\" points=\"1584.5,-365 1480.5,-365 1480.5,-297 1584.5,-297 1584.5,-365\"/>\n<text text-anchor=\"middle\" x=\"1532.5\" y=\"-349.8\" font-family=\"Helvetica,sans-Serif\" font-size=\"14.00\" fill=\"#000000\">chol &lt;= 0.288</text>\n<text text-anchor=\"middle\" x=\"1532.5\" y=\"-334.8\" font-family=\"Helvetica,sans-Serif\" font-size=\"14.00\" fill=\"#000000\">samples = 11</text>\n<text text-anchor=\"middle\" x=\"1532.5\" y=\"-319.8\" font-family=\"Helvetica,sans-Serif\" font-size=\"14.00\" fill=\"#000000\">value = [2, 9]</text>\n<text text-anchor=\"middle\" x=\"1532.5\" y=\"-304.8\" font-family=\"Helvetica,sans-Serif\" font-size=\"14.00\" fill=\"#000000\">class = 0</text>\n</g>\n<!-- 58&#45;&gt;59 -->\n<g id=\"edge59\" class=\"edge\">\n<title>58&#45;&gt;59</title>\n<path fill=\"none\" stroke=\"#000000\" d=\"M1581.5971,-400.9465C1575.4209,-392.1475 1568.6962,-382.5672 1562.261,-373.3993\"/>\n<polygon fill=\"#000000\" stroke=\"#000000\" points=\"1565.0666,-371.3041 1556.4566,-365.13 1559.3371,-375.3258 1565.0666,-371.3041\"/>\n</g>\n<!-- 64 -->\n<g id=\"node65\" class=\"node\">\n<title>64</title>\n<polygon fill=\"#e58139\" stroke=\"#000000\" points=\"1702,-357.5 1603,-357.5 1603,-304.5 1702,-304.5 1702,-357.5\"/>\n<text text-anchor=\"middle\" x=\"1652.5\" y=\"-342.3\" font-family=\"Helvetica,sans-Serif\" font-size=\"14.00\" fill=\"#000000\">samples = 2</text>\n<text text-anchor=\"middle\" x=\"1652.5\" y=\"-327.3\" font-family=\"Helvetica,sans-Serif\" font-size=\"14.00\" fill=\"#000000\">value = [2, 0]</text>\n<text text-anchor=\"middle\" x=\"1652.5\" y=\"-312.3\" font-family=\"Helvetica,sans-Serif\" font-size=\"14.00\" fill=\"#000000\">class = 1</text>\n</g>\n<!-- 58&#45;&gt;64 -->\n<g id=\"edge64\" class=\"edge\">\n<title>58&#45;&gt;64</title>\n<path fill=\"none\" stroke=\"#000000\" d=\"M1620.8896,-400.9465C1625.8177,-390.0418 1631.2882,-377.9368 1636.274,-366.9043\"/>\n<polygon fill=\"#000000\" stroke=\"#000000\" points=\"1639.5761,-368.0962 1640.505,-357.5422 1633.1973,-365.2134 1639.5761,-368.0962\"/>\n</g>\n<!-- 60 -->\n<g id=\"node61\" class=\"node\">\n<title>60</title>\n<polygon fill=\"#399de5\" stroke=\"#000000\" points=\"1538,-253.5 1439,-253.5 1439,-200.5 1538,-200.5 1538,-253.5\"/>\n<text text-anchor=\"middle\" x=\"1488.5\" y=\"-238.3\" font-family=\"Helvetica,sans-Serif\" font-size=\"14.00\" fill=\"#000000\">samples = 8</text>\n<text text-anchor=\"middle\" x=\"1488.5\" y=\"-223.3\" font-family=\"Helvetica,sans-Serif\" font-size=\"14.00\" fill=\"#000000\">value = [0, 8]</text>\n<text text-anchor=\"middle\" x=\"1488.5\" y=\"-208.3\" font-family=\"Helvetica,sans-Serif\" font-size=\"14.00\" fill=\"#000000\">class = 0</text>\n</g>\n<!-- 59&#45;&gt;60 -->\n<g id=\"edge60\" class=\"edge\">\n<title>59&#45;&gt;60</title>\n<path fill=\"none\" stroke=\"#000000\" d=\"M1518.0928,-296.9465C1513.4792,-286.0418 1508.3579,-273.9368 1503.6903,-262.9043\"/>\n<polygon fill=\"#000000\" stroke=\"#000000\" points=\"1506.8492,-261.3881 1499.7294,-253.5422 1500.4024,-264.1156 1506.8492,-261.3881\"/>\n</g>\n<!-- 61 -->\n<g id=\"node62\" class=\"node\">\n<title>61</title>\n<polygon fill=\"#f2c09c\" stroke=\"#000000\" points=\"1672.5,-261 1556.5,-261 1556.5,-193 1672.5,-193 1672.5,-261\"/>\n<text text-anchor=\"middle\" x=\"1614.5\" y=\"-245.8\" font-family=\"Helvetica,sans-Serif\" font-size=\"14.00\" fill=\"#000000\">thalach &lt;= 0.55</text>\n<text text-anchor=\"middle\" x=\"1614.5\" y=\"-230.8\" font-family=\"Helvetica,sans-Serif\" font-size=\"14.00\" fill=\"#000000\">samples = 3</text>\n<text text-anchor=\"middle\" x=\"1614.5\" y=\"-215.8\" font-family=\"Helvetica,sans-Serif\" font-size=\"14.00\" fill=\"#000000\">value = [2, 1]</text>\n<text text-anchor=\"middle\" x=\"1614.5\" y=\"-200.8\" font-family=\"Helvetica,sans-Serif\" font-size=\"14.00\" fill=\"#000000\">class = 1</text>\n</g>\n<!-- 59&#45;&gt;61 -->\n<g id=\"edge61\" class=\"edge\">\n<title>59&#45;&gt;61</title>\n<path fill=\"none\" stroke=\"#000000\" d=\"M1559.3499,-296.9465C1566.3583,-288.0578 1573.9955,-278.3716 1581.291,-269.1188\"/>\n<polygon fill=\"#000000\" stroke=\"#000000\" points=\"1584.1467,-271.1498 1587.5898,-261.13 1578.6498,-266.8157 1584.1467,-271.1498\"/>\n</g>\n<!-- 62 -->\n<g id=\"node63\" class=\"node\">\n<title>62</title>\n<polygon fill=\"#e58139\" stroke=\"#000000\" points=\"1596,-149.5 1497,-149.5 1497,-96.5 1596,-96.5 1596,-149.5\"/>\n<text text-anchor=\"middle\" x=\"1546.5\" y=\"-134.3\" font-family=\"Helvetica,sans-Serif\" font-size=\"14.00\" fill=\"#000000\">samples = 2</text>\n<text text-anchor=\"middle\" x=\"1546.5\" y=\"-119.3\" font-family=\"Helvetica,sans-Serif\" font-size=\"14.00\" fill=\"#000000\">value = [2, 0]</text>\n<text text-anchor=\"middle\" x=\"1546.5\" y=\"-104.3\" font-family=\"Helvetica,sans-Serif\" font-size=\"14.00\" fill=\"#000000\">class = 1</text>\n</g>\n<!-- 61&#45;&gt;62 -->\n<g id=\"edge62\" class=\"edge\">\n<title>61&#45;&gt;62</title>\n<path fill=\"none\" stroke=\"#000000\" d=\"M1592.2343,-192.9465C1584.9602,-181.8215 1576.8694,-169.4473 1569.5396,-158.237\"/>\n<polygon fill=\"#000000\" stroke=\"#000000\" points=\"1572.2564,-155.9965 1563.8545,-149.5422 1566.3976,-159.8273 1572.2564,-155.9965\"/>\n</g>\n<!-- 63 -->\n<g id=\"node64\" class=\"node\">\n<title>63</title>\n<polygon fill=\"#399de5\" stroke=\"#000000\" points=\"1713,-149.5 1614,-149.5 1614,-96.5 1713,-96.5 1713,-149.5\"/>\n<text text-anchor=\"middle\" x=\"1663.5\" y=\"-134.3\" font-family=\"Helvetica,sans-Serif\" font-size=\"14.00\" fill=\"#000000\">samples = 1</text>\n<text text-anchor=\"middle\" x=\"1663.5\" y=\"-119.3\" font-family=\"Helvetica,sans-Serif\" font-size=\"14.00\" fill=\"#000000\">value = [0, 1]</text>\n<text text-anchor=\"middle\" x=\"1663.5\" y=\"-104.3\" font-family=\"Helvetica,sans-Serif\" font-size=\"14.00\" fill=\"#000000\">class = 0</text>\n</g>\n<!-- 61&#45;&gt;63 -->\n<g id=\"edge63\" class=\"edge\">\n<title>61&#45;&gt;63</title>\n<path fill=\"none\" stroke=\"#000000\" d=\"M1630.5444,-192.9465C1635.6822,-182.0418 1641.3855,-169.9368 1646.5836,-158.9043\"/>\n<polygon fill=\"#000000\" stroke=\"#000000\" points=\"1649.8985,-160.0802 1650.9946,-149.5422 1643.5662,-157.0966 1649.8985,-160.0802\"/>\n</g>\n<!-- 66 -->\n<g id=\"node67\" class=\"node\">\n<title>66</title>\n<polygon fill=\"#f8e0ce\" stroke=\"#000000\" points=\"1849,-365 1720,-365 1720,-297 1849,-297 1849,-365\"/>\n<text text-anchor=\"middle\" x=\"1784.5\" y=\"-349.8\" font-family=\"Helvetica,sans-Serif\" font-size=\"14.00\" fill=\"#000000\">trestbps &lt;= 0.307</text>\n<text text-anchor=\"middle\" x=\"1784.5\" y=\"-334.8\" font-family=\"Helvetica,sans-Serif\" font-size=\"14.00\" fill=\"#000000\">samples = 7</text>\n<text text-anchor=\"middle\" x=\"1784.5\" y=\"-319.8\" font-family=\"Helvetica,sans-Serif\" font-size=\"14.00\" fill=\"#000000\">value = [4, 3]</text>\n<text text-anchor=\"middle\" x=\"1784.5\" y=\"-304.8\" font-family=\"Helvetica,sans-Serif\" font-size=\"14.00\" fill=\"#000000\">class = 1</text>\n</g>\n<!-- 65&#45;&gt;66 -->\n<g id=\"edge66\" class=\"edge\">\n<title>65&#45;&gt;66</title>\n<path fill=\"none\" stroke=\"#000000\" d=\"M1784.5,-400.9465C1784.5,-392.776 1784.5,-383.9318 1784.5,-375.3697\"/>\n<polygon fill=\"#000000\" stroke=\"#000000\" points=\"1788.0001,-375.13 1784.5,-365.13 1781.0001,-375.13 1788.0001,-375.13\"/>\n</g>\n<!-- 71 -->\n<g id=\"node72\" class=\"node\">\n<title>71</title>\n<polygon fill=\"#e58139\" stroke=\"#000000\" points=\"1966,-357.5 1867,-357.5 1867,-304.5 1966,-304.5 1966,-357.5\"/>\n<text text-anchor=\"middle\" x=\"1916.5\" y=\"-342.3\" font-family=\"Helvetica,sans-Serif\" font-size=\"14.00\" fill=\"#000000\">samples = 5</text>\n<text text-anchor=\"middle\" x=\"1916.5\" y=\"-327.3\" font-family=\"Helvetica,sans-Serif\" font-size=\"14.00\" fill=\"#000000\">value = [5, 0]</text>\n<text text-anchor=\"middle\" x=\"1916.5\" y=\"-312.3\" font-family=\"Helvetica,sans-Serif\" font-size=\"14.00\" fill=\"#000000\">class = 1</text>\n</g>\n<!-- 65&#45;&gt;71 -->\n<g id=\"edge71\" class=\"edge\">\n<title>65&#45;&gt;71</title>\n<path fill=\"none\" stroke=\"#000000\" d=\"M1827.7217,-400.9465C1842.8206,-389.0504 1859.7324,-375.726 1874.7122,-363.9237\"/>\n<polygon fill=\"#000000\" stroke=\"#000000\" points=\"1877.123,-366.4802 1882.8119,-357.5422 1872.7909,-360.9817 1877.123,-366.4802\"/>\n</g>\n<!-- 67 -->\n<g id=\"node68\" class=\"node\">\n<title>67</title>\n<polygon fill=\"#399de5\" stroke=\"#000000\" points=\"1819,-253.5 1720,-253.5 1720,-200.5 1819,-200.5 1819,-253.5\"/>\n<text text-anchor=\"middle\" x=\"1769.5\" y=\"-238.3\" font-family=\"Helvetica,sans-Serif\" font-size=\"14.00\" fill=\"#000000\">samples = 2</text>\n<text text-anchor=\"middle\" x=\"1769.5\" y=\"-223.3\" font-family=\"Helvetica,sans-Serif\" font-size=\"14.00\" fill=\"#000000\">value = [0, 2]</text>\n<text text-anchor=\"middle\" x=\"1769.5\" y=\"-208.3\" font-family=\"Helvetica,sans-Serif\" font-size=\"14.00\" fill=\"#000000\">class = 0</text>\n</g>\n<!-- 66&#45;&gt;67 -->\n<g id=\"edge67\" class=\"edge\">\n<title>66&#45;&gt;67</title>\n<path fill=\"none\" stroke=\"#000000\" d=\"M1779.5884,-296.9465C1778.0474,-286.2621 1776.3402,-274.4254 1774.7751,-263.5742\"/>\n<polygon fill=\"#000000\" stroke=\"#000000\" points=\"1778.22,-262.9401 1773.3282,-253.5422 1771.2917,-263.9394 1778.22,-262.9401\"/>\n</g>\n<!-- 68 -->\n<g id=\"node69\" class=\"node\">\n<title>68</title>\n<polygon fill=\"#eca06a\" stroke=\"#000000\" points=\"1939.5,-261 1837.5,-261 1837.5,-193 1939.5,-193 1939.5,-261\"/>\n<text text-anchor=\"middle\" x=\"1888.5\" y=\"-245.8\" font-family=\"Helvetica,sans-Serif\" font-size=\"14.00\" fill=\"#000000\">age &lt;= 0.802</text>\n<text text-anchor=\"middle\" x=\"1888.5\" y=\"-230.8\" font-family=\"Helvetica,sans-Serif\" font-size=\"14.00\" fill=\"#000000\">samples = 5</text>\n<text text-anchor=\"middle\" x=\"1888.5\" y=\"-215.8\" font-family=\"Helvetica,sans-Serif\" font-size=\"14.00\" fill=\"#000000\">value = [4, 1]</text>\n<text text-anchor=\"middle\" x=\"1888.5\" y=\"-200.8\" font-family=\"Helvetica,sans-Serif\" font-size=\"14.00\" fill=\"#000000\">class = 1</text>\n</g>\n<!-- 66&#45;&gt;68 -->\n<g id=\"edge68\" class=\"edge\">\n<title>66&#45;&gt;68</title>\n<path fill=\"none\" stroke=\"#000000\" d=\"M1818.5535,-296.9465C1827.7116,-287.7884 1837.7162,-277.7838 1847.2212,-268.2788\"/>\n<polygon fill=\"#000000\" stroke=\"#000000\" points=\"1849.7738,-270.676 1854.37,-261.13 1844.824,-265.7262 1849.7738,-270.676\"/>\n</g>\n<!-- 69 -->\n<g id=\"node70\" class=\"node\">\n<title>69</title>\n<polygon fill=\"#e58139\" stroke=\"#000000\" points=\"1879,-149.5 1780,-149.5 1780,-96.5 1879,-96.5 1879,-149.5\"/>\n<text text-anchor=\"middle\" x=\"1829.5\" y=\"-134.3\" font-family=\"Helvetica,sans-Serif\" font-size=\"14.00\" fill=\"#000000\">samples = 4</text>\n<text text-anchor=\"middle\" x=\"1829.5\" y=\"-119.3\" font-family=\"Helvetica,sans-Serif\" font-size=\"14.00\" fill=\"#000000\">value = [4, 0]</text>\n<text text-anchor=\"middle\" x=\"1829.5\" y=\"-104.3\" font-family=\"Helvetica,sans-Serif\" font-size=\"14.00\" fill=\"#000000\">class = 1</text>\n</g>\n<!-- 68&#45;&gt;69 -->\n<g id=\"edge69\" class=\"edge\">\n<title>68&#45;&gt;69</title>\n<path fill=\"none\" stroke=\"#000000\" d=\"M1869.1812,-192.9465C1862.9324,-181.9316 1855.9888,-169.6922 1849.6793,-158.5703\"/>\n<polygon fill=\"#000000\" stroke=\"#000000\" points=\"1852.5362,-156.513 1844.5576,-149.5422 1846.4477,-159.967 1852.5362,-156.513\"/>\n</g>\n<!-- 70 -->\n<g id=\"node71\" class=\"node\">\n<title>70</title>\n<polygon fill=\"#399de5\" stroke=\"#000000\" points=\"1996,-149.5 1897,-149.5 1897,-96.5 1996,-96.5 1996,-149.5\"/>\n<text text-anchor=\"middle\" x=\"1946.5\" y=\"-134.3\" font-family=\"Helvetica,sans-Serif\" font-size=\"14.00\" fill=\"#000000\">samples = 1</text>\n<text text-anchor=\"middle\" x=\"1946.5\" y=\"-119.3\" font-family=\"Helvetica,sans-Serif\" font-size=\"14.00\" fill=\"#000000\">value = [0, 1]</text>\n<text text-anchor=\"middle\" x=\"1946.5\" y=\"-104.3\" font-family=\"Helvetica,sans-Serif\" font-size=\"14.00\" fill=\"#000000\">class = 0</text>\n</g>\n<!-- 68&#45;&gt;70 -->\n<g id=\"edge70\" class=\"edge\">\n<title>68&#45;&gt;70</title>\n<path fill=\"none\" stroke=\"#000000\" d=\"M1907.4914,-192.9465C1913.6343,-181.9316 1920.4601,-169.6922 1926.6627,-158.5703\"/>\n<polygon fill=\"#000000\" stroke=\"#000000\" points=\"1929.8837,-159.9806 1931.6976,-149.5422 1923.7701,-156.5711 1929.8837,-159.9806\"/>\n</g>\n</g>\n</svg>\n"
          },
          "metadata": {},
          "execution_count": 60
        }
      ]
    },
    {
      "cell_type": "markdown",
      "source": [
        "##**SUPPORT-VECTOR MACHINE**"
      ],
      "metadata": {
        "id": "kQSGQKZZLj1w"
      }
    },
    {
      "cell_type": "code",
      "source": [
        "# Algoritma SVM\n",
        "from sklearn.svm import SVC"
      ],
      "metadata": {
        "id": "kpBmxlpuL5cO"
      },
      "execution_count": null,
      "outputs": []
    },
    {
      "cell_type": "code",
      "source": [
        "# SVM Kernel 'linear'\n",
        "svmLinear = SVC(kernel = 'linear')\n",
        "svmLinear.fit(x_train, y_train)\n",
        "\n",
        "accScoreSVMLinear = svmLinear.score(x_test, y_test) * 100\n",
        "\n",
        "Akurasi_per_Algoritma['SVM (linear)'] = accScoreSVMLinear\n",
        "\n",
        "print('Akurasi Test SVM (linear) : {:.2f}%'.format(accScoreSVMLinear))"
      ],
      "metadata": {
        "colab": {
          "base_uri": "https://localhost:8080/"
        },
        "id": "CCCi632iM1dF",
        "outputId": "a0b60769-0c80-4240-f48d-db4a6d614a7e"
      },
      "execution_count": null,
      "outputs": [
        {
          "output_type": "stream",
          "name": "stdout",
          "text": [
            "Akurasi Test SVM (linear) : 83.61%\n"
          ]
        }
      ]
    },
    {
      "cell_type": "code",
      "source": [
        "# SVM Kernel 'rbf'\n",
        "svmRbf = SVC(kernel = 'rbf')\n",
        "svmRbf.fit(x_train, y_train)\n",
        "\n",
        "accScoreSVMRbf = svmRbf.score(x_test, y_test) * 100\n",
        "\n",
        "Akurasi_per_Algoritma['SVM (rbf)'] = accScoreSVMRbf\n",
        "\n",
        "print('Akurasi Test SVM (rbf) : {:.2f}%'.format(accScoreSVMRbf))"
      ],
      "metadata": {
        "colab": {
          "base_uri": "https://localhost:8080/"
        },
        "id": "nm8jTb9EVvLt",
        "outputId": "49530de2-6f8a-4184-a20f-c5d9f7602c4a"
      },
      "execution_count": null,
      "outputs": [
        {
          "output_type": "stream",
          "name": "stdout",
          "text": [
            "Akurasi Test SVM (rbf) : 83.61%\n"
          ]
        }
      ]
    },
    {
      "cell_type": "code",
      "source": [
        "# SVM Kernel 'sigmoid'\n",
        "svmSigmoid = SVC(kernel = 'sigmoid')\n",
        "svmSigmoid.fit(x_train, y_train)\n",
        "\n",
        "accScoreSVMSigmoid = svmSigmoid.score(x_test, y_test) * 100\n",
        "\n",
        "Akurasi_per_Algoritma['SVM (sigmoid)'] = accScoreSVMSigmoid\n",
        "\n",
        "print('Akurasi Test SVM (sigmoid) : {:.2f}%'.format(accScoreSVMSigmoid))"
      ],
      "metadata": {
        "colab": {
          "base_uri": "https://localhost:8080/"
        },
        "id": "q7pJkPwRXJ91",
        "outputId": "40373f0d-64d6-48ab-fe58-ff2ed62713fc"
      },
      "execution_count": null,
      "outputs": [
        {
          "output_type": "stream",
          "name": "stdout",
          "text": [
            "Akurasi Test SVM (sigmoid) : 78.69%\n"
          ]
        }
      ]
    },
    {
      "cell_type": "markdown",
      "source": [
        "##**K-NEAREST NEIGHBORS**"
      ],
      "metadata": {
        "id": "E0Qw73ZIMD3w"
      }
    },
    {
      "cell_type": "code",
      "source": [
        "# Algoritma KNN\n",
        "from sklearn.neighbors import KNeighborsClassifier"
      ],
      "metadata": {
        "id": "a-F-vlICMPrr"
      },
      "execution_count": null,
      "outputs": []
    },
    {
      "cell_type": "code",
      "source": [
        "# Mencari nilai K terbaik\n",
        "scoreList = []\n",
        "for i in range(1,10):\n",
        "    knn = KNeighborsClassifier(n_neighbors = i)\n",
        "    knn.fit(x_train, y_train)\n",
        "    scoreList.append(knn.score(x_test, y_test))\n",
        "\n",
        "# nilai K terbaik terdapat saat K = 7\n",
        "accScoreKNN = max(scoreList) * 100\n",
        "\n",
        "Akurasi_per_Algoritma['KNN'] = accScoreKNN\n",
        "\n",
        "print('Akurasi Test KNN : {:.2f}%'.format(accScoreKNN))"
      ],
      "metadata": {
        "colab": {
          "base_uri": "https://localhost:8080/"
        },
        "id": "c2IRZdESYgjx",
        "outputId": "0f21f64b-7419-4e2f-8265-70f43a162597"
      },
      "execution_count": null,
      "outputs": [
        {
          "output_type": "stream",
          "name": "stdout",
          "text": [
            "Akurasi Test KNN : 90.16%\n"
          ]
        }
      ]
    },
    {
      "cell_type": "markdown",
      "source": [
        "##**LOGISTIC REGRESSION**"
      ],
      "metadata": {
        "id": "HleJvP66Z0UG"
      }
    },
    {
      "cell_type": "code",
      "source": [
        "# Algoritma Logistic Regression\n",
        "from sklearn.linear_model import LogisticRegression"
      ],
      "metadata": {
        "id": "NVZ2Vw0KZuhW"
      },
      "execution_count": null,
      "outputs": []
    },
    {
      "cell_type": "code",
      "source": [
        "logisticRegression = LogisticRegression()\n",
        "logisticRegression.fit(x_train, y_train)\n",
        "\n",
        "accScoreLogisticRegression = logisticRegression.score(x_test, y_test) * 100\n",
        "\n",
        "Akurasi_per_Algoritma['Logistic Regression'] = accScoreLogisticRegression\n",
        "\n",
        "print('Akurasi Test Logistic Regression : {:.2f}%'.format(accScoreLogisticRegression))"
      ],
      "metadata": {
        "colab": {
          "base_uri": "https://localhost:8080/"
        },
        "id": "cF880w5Pbbj-",
        "outputId": "41aa2980-42e6-4b5e-f252-75562a689236"
      },
      "execution_count": null,
      "outputs": [
        {
          "output_type": "stream",
          "name": "stdout",
          "text": [
            "Akurasi Test Logistic Regression : 83.61%\n"
          ]
        }
      ]
    },
    {
      "cell_type": "markdown",
      "source": [
        "##**PERBANDINGAN MODEL**"
      ],
      "metadata": {
        "id": "c5rRTdevdDRW"
      }
    },
    {
      "cell_type": "code",
      "source": [
        "col = [\"red\", \"green\", \"blue\", \"magenta\",\"orange\", \"purple\", \"pink\"]\n",
        "\n",
        "sns.set_style(\"whitegrid\")\n",
        "plt.figure(figsize=(16,5))\n",
        "plt.yticks(np.arange(0,100,10))\n",
        "plt.ylabel(\"Akurasi score %\")\n",
        "plt.xlabel(\"Algoritma yang digunakan\")\n",
        "sns.barplot(x=list(Akurasi_per_Algoritma.keys()), y=list(Akurasi_per_Algoritma.values()), palette=col)\n",
        "plt.show()"
      ],
      "metadata": {
        "colab": {
          "base_uri": "https://localhost:8080/",
          "height": 334
        },
        "id": "SrXdDQMtdJdK",
        "outputId": "d4bc1f13-035e-4221-c891-d53206cc0067"
      },
      "execution_count": null,
      "outputs": [
        {
          "output_type": "display_data",
          "data": {
            "image/png": "[encoded data removed]",
            "text/plain": [
              "<Figure size 1152x360 with 1 Axes>"
            ]
          },
          "metadata": {}
        }
      ]
    },
    {
      "cell_type": "markdown",
      "source": [
        "##**CONFUSION MATRIX**"
      ],
      "metadata": {
        "id": "72QT3qccbNrI"
      }
    },
    {
      "cell_type": "code",
      "source": [
        "# Predicted values\n",
        "y_dtree1 = dtree1.predict(x_test)\n",
        "y_dtree2 = dtree2.predict(x_test)\n",
        "y_svmLinear = svmLinear.predict(x_test)\n",
        "y_svmRbf = svmRbf.predict(x_test)\n",
        "y_svmSigmoid = svmSigmoid.predict(x_test)\n",
        "bestKNN = KNeighborsClassifier(n_neighbors = 7)\n",
        "bestKNN.fit(x_train, y_train)\n",
        "y_knn = bestKNN.predict(x_test)\n",
        "y_logisticRegression = logisticRegression.predict(x_test)"
      ],
      "metadata": {
        "id": "EQz4D5EdbRzv"
      },
      "execution_count": null,
      "outputs": []
    },
    {
      "cell_type": "code",
      "source": [
        "# Confusion matrix \n",
        "from sklearn.metrics import confusion_matrix\n",
        "\n",
        "cm_dtree1 = confusion_matrix(y_test, y_dtree1)\n",
        "cm_dtree2 = confusion_matrix(y_test, y_dtree2)\n",
        "cm_svmLinear = confusion_matrix(y_test, y_svmLinear)\n",
        "cm_svmRbf = confusion_matrix(y_test, y_svmRbf)\n",
        "cm_svmSigmoid = confusion_matrix(y_test, y_svmSigmoid)\n",
        "cm_knn = confusion_matrix(y_test, y_knn)\n",
        "cm_logisticRegression = confusion_matrix(y_test, y_logisticRegression)"
      ],
      "metadata": {
        "id": "8f2vb3hudS2L"
      },
      "execution_count": null,
      "outputs": []
    },
    {
      "cell_type": "code",
      "source": [
        "# Visualisasi Confusion Matrix\n",
        "\n",
        "plt.figure(figsize=(24,18))\n",
        "\n",
        "plt.suptitle(\"Confusion Matrixes\",fontsize=24)\n",
        "plt.subplots_adjust(wspace = 0.4, hspace= 0.4)\n",
        "\n",
        "plt.subplot(3,3,1)\n",
        "plt.title(\"Decision Tree (Gini) Confusion Matrix\")\n",
        "sns.heatmap(cm_dtree1,annot=True,cmap=\"Blues\",fmt=\"d\",cbar=False, annot_kws={\"size\": 24})\n",
        "\n",
        "plt.subplot(3,3,2)\n",
        "plt.title(\"Decision Tree (Entropy) Confusion Matrix\")\n",
        "sns.heatmap(cm_dtree2,annot=True,cmap=\"Blues\",fmt=\"d\",cbar=False, annot_kws={\"size\": 24})\n",
        "\n",
        "plt.subplot(3,3,3)\n",
        "plt.title(\"SVM (Linear) Confusion Matrix\")\n",
        "sns.heatmap(cm_svmLinear,annot=True,cmap=\"Blues\",fmt=\"d\",cbar=False, annot_kws={\"size\": 24})\n",
        "\n",
        "plt.subplot(3,3,4)\n",
        "plt.title(\"SVM (Rbf) Confusion Matrix\")\n",
        "sns.heatmap(cm_svmRbf,annot=True,cmap=\"Blues\",fmt=\"d\",cbar=False, annot_kws={\"size\": 24})\n",
        "\n",
        "plt.subplot(3,3,5)\n",
        "plt.title(\"SVM (Sigmoid) Confusion Matrix\")\n",
        "sns.heatmap(cm_svmLinear,annot=True,cmap=\"Blues\",fmt=\"d\",cbar=False, annot_kws={\"size\": 24})\n",
        "\n",
        "plt.subplot(3,3,6)\n",
        "plt.title(\"KNN Confusion Matrix\")\n",
        "sns.heatmap(cm_knn,annot=True,cmap=\"Blues\",fmt=\"d\",cbar=False, annot_kws={\"size\": 24})\n",
        "\n",
        "plt.subplot(3,3,7)\n",
        "plt.title(\"Logistic Regression Confusion Matrix\")\n",
        "sns.heatmap(cm_logisticRegression,annot=True,cmap=\"Blues\",fmt=\"d\",cbar=False, annot_kws={\"size\": 24})\n",
        "\n",
        "plt.show()"
      ],
      "metadata": {
        "colab": {
          "base_uri": "https://localhost:8080/",
          "height": 801
        },
        "id": "TUrE0AYNeNva",
        "outputId": "39fb6fad-1d16-46ae-b740-447c62e809b1"
      },
      "execution_count": null,
      "outputs": [
        {
          "output_type": "display_data",
          "data": {
            "image/png": "[encoded data removed]",
            "text/plain": [
              "<Figure size 1728x1296 with 7 Axes>"
            ]
          },
          "metadata": {}
        }
      ]
    }
  ]
}